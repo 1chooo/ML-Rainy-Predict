{
  "nbformat": 4,
  "nbformat_minor": 0,
  "metadata": {
    "colab": {
      "name": "機器學習降雨預測專題.ipynb",
      "provenance": [],
      "collapsed_sections": []
    },
    "kernelspec": {
      "name": "python3",
      "display_name": "Python 3"
    },
    "language_info": {
      "name": "python"
    }
  },
  "cells": [
    {
      "cell_type": "markdown",
      "source": [
        "**標題**"
      ],
      "metadata": {
        "id": "7lfkZaltMTnv"
      }
    },
    {
      "cell_type": "markdown",
      "source": [
        "安裝套件"
      ],
      "metadata": {
        "id": "4ZRYCWMPLz4d"
      }
    },
    {
      "cell_type": "code",
      "source": [
        "!pip install pandas\n",
        "!pip install numpy\n",
        "!pip install matplotlib\n",
        "!pip install seaborn\n",
        "!pip install joblib\n",
        "!pip install sklearn\n",
        "!pip install flask\n",
        "!pip install os"
      ],
      "metadata": {
        "colab": {
          "base_uri": "https://localhost:8080/"
        },
        "id": "Hhy-1UXJLy-g",
        "outputId": "04a89bba-15f9-4586-a72d-4e69690759a5"
      },
      "execution_count": null,
      "outputs": [
        {
          "output_type": "stream",
          "name": "stdout",
          "text": [
            "Looking in indexes: https://pypi.org/simple, https://us-python.pkg.dev/colab-wheels/public/simple/\n",
            "Requirement already satisfied: pandas in /usr/local/lib/python3.7/dist-packages (1.3.5)\n",
            "Requirement already satisfied: pytz>=2017.3 in /usr/local/lib/python3.7/dist-packages (from pandas) (2022.1)\n",
            "Requirement already satisfied: numpy>=1.17.3 in /usr/local/lib/python3.7/dist-packages (from pandas) (1.21.6)\n",
            "Requirement already satisfied: python-dateutil>=2.7.3 in /usr/local/lib/python3.7/dist-packages (from pandas) (2.8.2)\n",
            "Requirement already satisfied: six>=1.5 in /usr/local/lib/python3.7/dist-packages (from python-dateutil>=2.7.3->pandas) (1.15.0)\n",
            "Looking in indexes: https://pypi.org/simple, https://us-python.pkg.dev/colab-wheels/public/simple/\n",
            "Requirement already satisfied: numpy in /usr/local/lib/python3.7/dist-packages (1.21.6)\n",
            "Looking in indexes: https://pypi.org/simple, https://us-python.pkg.dev/colab-wheels/public/simple/\n",
            "Requirement already satisfied: matplotlib in /usr/local/lib/python3.7/dist-packages (3.2.2)\n",
            "Requirement already satisfied: python-dateutil>=2.1 in /usr/local/lib/python3.7/dist-packages (from matplotlib) (2.8.2)\n",
            "Requirement already satisfied: cycler>=0.10 in /usr/local/lib/python3.7/dist-packages (from matplotlib) (0.11.0)\n",
            "Requirement already satisfied: numpy>=1.11 in /usr/local/lib/python3.7/dist-packages (from matplotlib) (1.21.6)\n",
            "Requirement already satisfied: pyparsing!=2.0.4,!=2.1.2,!=2.1.6,>=2.0.1 in /usr/local/lib/python3.7/dist-packages (from matplotlib) (3.0.9)\n",
            "Requirement already satisfied: kiwisolver>=1.0.1 in /usr/local/lib/python3.7/dist-packages (from matplotlib) (1.4.2)\n",
            "Requirement already satisfied: typing-extensions in /usr/local/lib/python3.7/dist-packages (from kiwisolver>=1.0.1->matplotlib) (4.2.0)\n",
            "Requirement already satisfied: six>=1.5 in /usr/local/lib/python3.7/dist-packages (from python-dateutil>=2.1->matplotlib) (1.15.0)\n",
            "Looking in indexes: https://pypi.org/simple, https://us-python.pkg.dev/colab-wheels/public/simple/\n",
            "Requirement already satisfied: seaborn in /usr/local/lib/python3.7/dist-packages (0.11.2)\n",
            "Requirement already satisfied: scipy>=1.0 in /usr/local/lib/python3.7/dist-packages (from seaborn) (1.4.1)\n",
            "Requirement already satisfied: pandas>=0.23 in /usr/local/lib/python3.7/dist-packages (from seaborn) (1.3.5)\n",
            "Requirement already satisfied: matplotlib>=2.2 in /usr/local/lib/python3.7/dist-packages (from seaborn) (3.2.2)\n",
            "Requirement already satisfied: numpy>=1.15 in /usr/local/lib/python3.7/dist-packages (from seaborn) (1.21.6)\n",
            "Requirement already satisfied: cycler>=0.10 in /usr/local/lib/python3.7/dist-packages (from matplotlib>=2.2->seaborn) (0.11.0)\n",
            "Requirement already satisfied: pyparsing!=2.0.4,!=2.1.2,!=2.1.6,>=2.0.1 in /usr/local/lib/python3.7/dist-packages (from matplotlib>=2.2->seaborn) (3.0.9)\n",
            "Requirement already satisfied: kiwisolver>=1.0.1 in /usr/local/lib/python3.7/dist-packages (from matplotlib>=2.2->seaborn) (1.4.2)\n",
            "Requirement already satisfied: python-dateutil>=2.1 in /usr/local/lib/python3.7/dist-packages (from matplotlib>=2.2->seaborn) (2.8.2)\n",
            "Requirement already satisfied: typing-extensions in /usr/local/lib/python3.7/dist-packages (from kiwisolver>=1.0.1->matplotlib>=2.2->seaborn) (4.2.0)\n",
            "Requirement already satisfied: pytz>=2017.3 in /usr/local/lib/python3.7/dist-packages (from pandas>=0.23->seaborn) (2022.1)\n",
            "Requirement already satisfied: six>=1.5 in /usr/local/lib/python3.7/dist-packages (from python-dateutil>=2.1->matplotlib>=2.2->seaborn) (1.15.0)\n",
            "Looking in indexes: https://pypi.org/simple, https://us-python.pkg.dev/colab-wheels/public/simple/\n",
            "Requirement already satisfied: joblib in /usr/local/lib/python3.7/dist-packages (1.1.0)\n",
            "Looking in indexes: https://pypi.org/simple, https://us-python.pkg.dev/colab-wheels/public/simple/\n",
            "Requirement already satisfied: sklearn in /usr/local/lib/python3.7/dist-packages (0.0)\n",
            "Requirement already satisfied: scikit-learn in /usr/local/lib/python3.7/dist-packages (from sklearn) (1.0.2)\n",
            "Requirement already satisfied: scipy>=1.1.0 in /usr/local/lib/python3.7/dist-packages (from scikit-learn->sklearn) (1.4.1)\n",
            "Requirement already satisfied: threadpoolctl>=2.0.0 in /usr/local/lib/python3.7/dist-packages (from scikit-learn->sklearn) (3.1.0)\n",
            "Requirement already satisfied: numpy>=1.14.6 in /usr/local/lib/python3.7/dist-packages (from scikit-learn->sklearn) (1.21.6)\n",
            "Requirement already satisfied: joblib>=0.11 in /usr/local/lib/python3.7/dist-packages (from scikit-learn->sklearn) (1.1.0)\n"
          ]
        }
      ]
    },
    {
      "cell_type": "markdown",
      "source": [
        "Import 套件"
      ],
      "metadata": {
        "id": "gV6_uZo00MtE"
      }
    },
    {
      "cell_type": "code",
      "execution_count": null,
      "metadata": {
        "id": "iL2BEHyxzzVy"
      },
      "outputs": [],
      "source": [
        "# -*- coding: utf-8 -*-\n",
        "\n",
        "import pandas as pd\n",
        "import numpy as np\n",
        "import matplotlib.pyplot as plt\n",
        "import seaborn as sns"
      ]
    },
    {
      "cell_type": "markdown",
      "source": [
        "利用已取得的資料，讀取並存入讀取並存入data frame"
      ],
      "metadata": {
        "id": "3gcqCR3i0KTG"
      }
    },
    {
      "cell_type": "code",
      "source": [
        "df = pd.read_csv(\"./1_f.csv\")"
      ],
      "metadata": {
        "id": "728lvtKO0ZUy"
      },
      "execution_count": null,
      "outputs": []
    },
    {
      "cell_type": "markdown",
      "source": [
        "Explore the data we have."
      ],
      "metadata": {
        "id": "5HQsMVy-03Aq"
      }
    },
    {
      "cell_type": "code",
      "source": [
        "df.info()\n",
        "df.head()\n",
        "df.describe().T"
      ],
      "metadata": {
        "colab": {
          "base_uri": "https://localhost:8080/",
          "height": 825
        },
        "id": "Vz-7yive5YuQ",
        "outputId": "a6a428d9-e172-485b-854a-6efc8ad55b70"
      },
      "execution_count": null,
      "outputs": [
        {
          "output_type": "stream",
          "name": "stdout",
          "text": [
            "<class 'pandas.core.frame.DataFrame'>\n",
            "RangeIndex: 854 entries, 0 to 853\n",
            "Data columns (total 35 columns):\n",
            " #   Column          Non-Null Count  Dtype  \n",
            "---  ------          --------------  -----  \n",
            " 0   ObsTime         854 non-null    int64  \n",
            " 1   StnPres         854 non-null    object \n",
            " 2   SeaPres         854 non-null    object \n",
            " 3   StnPresMax      854 non-null    object \n",
            " 4   StnPresMaxTime  854 non-null    object \n",
            " 5   StnPresMin      854 non-null    object \n",
            " 6   StnPresMinTime  854 non-null    object \n",
            " 7   Temperature     854 non-null    object \n",
            " 8   T Max           854 non-null    object \n",
            " 9   T Max Time      854 non-null    object \n",
            " 10  T Min           854 non-null    object \n",
            " 11  T Min Time      854 non-null    object \n",
            " 12  Td dew point    854 non-null    object \n",
            " 13  RH              854 non-null    object \n",
            " 14  RHMin           854 non-null    object \n",
            " 15  RHMinTime       854 non-null    object \n",
            " 16  WS              854 non-null    object \n",
            " 17  WD              854 non-null    object \n",
            " 18  WSGust          854 non-null    object \n",
            " 19  WDGust          854 non-null    object \n",
            " 20  WGustTime       854 non-null    object \n",
            " 21  Precp           854 non-null    float64\n",
            " 22  PrecpHour       854 non-null    object \n",
            " 23  PrecpMax10      854 non-null    object \n",
            " 24  PrecpMax10Time  854 non-null    object \n",
            " 25  PrecpMax60      854 non-null    object \n",
            " 26  PrecpMax60Time  854 non-null    object \n",
            " 27  SunShine        854 non-null    object \n",
            " 28  SunShineRate    854 non-null    object \n",
            " 29  GloblRad        854 non-null    object \n",
            " 30  VisbMean        854 non-null    object \n",
            " 31  EvapA           854 non-null    object \n",
            " 32  UVI Max         854 non-null    object \n",
            " 33  UVI Max Time    854 non-null    object \n",
            " 34  Cloud Amount    854 non-null    object \n",
            "dtypes: float64(1), int64(1), object(33)\n",
            "memory usage: 233.6+ KB\n"
          ]
        },
        {
          "output_type": "execute_result",
          "data": {
            "text/plain": [
              "         count       mean        std  min  25%   50%   75%    max\n",
              "ObsTime  854.0  15.754098   8.812117  1.0  8.0  16.0  23.0   31.0\n",
              "Precp    854.0   8.038642  21.628585  0.0  0.0   0.0   4.0  312.0"
            ],
            "text/html": [
              "\n",
              "  <div id=\"df-a91e45fb-7785-4d3a-a181-cb80a28b3ec0\">\n",
              "    <div class=\"colab-df-container\">\n",
              "      <div>\n",
              "<style scoped>\n",
              "    .dataframe tbody tr th:only-of-type {\n",
              "        vertical-align: middle;\n",
              "    }\n",
              "\n",
              "    .dataframe tbody tr th {\n",
              "        vertical-align: top;\n",
              "    }\n",
              "\n",
              "    .dataframe thead th {\n",
              "        text-align: right;\n",
              "    }\n",
              "</style>\n",
              "<table border=\"1\" class=\"dataframe\">\n",
              "  <thead>\n",
              "    <tr style=\"text-align: right;\">\n",
              "      <th></th>\n",
              "      <th>count</th>\n",
              "      <th>mean</th>\n",
              "      <th>std</th>\n",
              "      <th>min</th>\n",
              "      <th>25%</th>\n",
              "      <th>50%</th>\n",
              "      <th>75%</th>\n",
              "      <th>max</th>\n",
              "    </tr>\n",
              "  </thead>\n",
              "  <tbody>\n",
              "    <tr>\n",
              "      <th>ObsTime</th>\n",
              "      <td>854.0</td>\n",
              "      <td>15.754098</td>\n",
              "      <td>8.812117</td>\n",
              "      <td>1.0</td>\n",
              "      <td>8.0</td>\n",
              "      <td>16.0</td>\n",
              "      <td>23.0</td>\n",
              "      <td>31.0</td>\n",
              "    </tr>\n",
              "    <tr>\n",
              "      <th>Precp</th>\n",
              "      <td>854.0</td>\n",
              "      <td>8.038642</td>\n",
              "      <td>21.628585</td>\n",
              "      <td>0.0</td>\n",
              "      <td>0.0</td>\n",
              "      <td>0.0</td>\n",
              "      <td>4.0</td>\n",
              "      <td>312.0</td>\n",
              "    </tr>\n",
              "  </tbody>\n",
              "</table>\n",
              "</div>\n",
              "      <button class=\"colab-df-convert\" onclick=\"convertToInteractive('df-a91e45fb-7785-4d3a-a181-cb80a28b3ec0')\"\n",
              "              title=\"Convert this dataframe to an interactive table.\"\n",
              "              style=\"display:none;\">\n",
              "        \n",
              "  <svg xmlns=\"http://www.w3.org/2000/svg\" height=\"24px\"viewBox=\"0 0 24 24\"\n",
              "       width=\"24px\">\n",
              "    <path d=\"M0 0h24v24H0V0z\" fill=\"none\"/>\n",
              "    <path d=\"M18.56 5.44l.94 2.06.94-2.06 2.06-.94-2.06-.94-.94-2.06-.94 2.06-2.06.94zm-11 1L8.5 8.5l.94-2.06 2.06-.94-2.06-.94L8.5 2.5l-.94 2.06-2.06.94zm10 10l.94 2.06.94-2.06 2.06-.94-2.06-.94-.94-2.06-.94 2.06-2.06.94z\"/><path d=\"M17.41 7.96l-1.37-1.37c-.4-.4-.92-.59-1.43-.59-.52 0-1.04.2-1.43.59L10.3 9.45l-7.72 7.72c-.78.78-.78 2.05 0 2.83L4 21.41c.39.39.9.59 1.41.59.51 0 1.02-.2 1.41-.59l7.78-7.78 2.81-2.81c.8-.78.8-2.07 0-2.86zM5.41 20L4 18.59l7.72-7.72 1.47 1.35L5.41 20z\"/>\n",
              "  </svg>\n",
              "      </button>\n",
              "      \n",
              "  <style>\n",
              "    .colab-df-container {\n",
              "      display:flex;\n",
              "      flex-wrap:wrap;\n",
              "      gap: 12px;\n",
              "    }\n",
              "\n",
              "    .colab-df-convert {\n",
              "      background-color: #E8F0FE;\n",
              "      border: none;\n",
              "      border-radius: 50%;\n",
              "      cursor: pointer;\n",
              "      display: none;\n",
              "      fill: #1967D2;\n",
              "      height: 32px;\n",
              "      padding: 0 0 0 0;\n",
              "      width: 32px;\n",
              "    }\n",
              "\n",
              "    .colab-df-convert:hover {\n",
              "      background-color: #E2EBFA;\n",
              "      box-shadow: 0px 1px 2px rgba(60, 64, 67, 0.3), 0px 1px 3px 1px rgba(60, 64, 67, 0.15);\n",
              "      fill: #174EA6;\n",
              "    }\n",
              "\n",
              "    [theme=dark] .colab-df-convert {\n",
              "      background-color: #3B4455;\n",
              "      fill: #D2E3FC;\n",
              "    }\n",
              "\n",
              "    [theme=dark] .colab-df-convert:hover {\n",
              "      background-color: #434B5C;\n",
              "      box-shadow: 0px 1px 3px 1px rgba(0, 0, 0, 0.15);\n",
              "      filter: drop-shadow(0px 1px 2px rgba(0, 0, 0, 0.3));\n",
              "      fill: #FFFFFF;\n",
              "    }\n",
              "  </style>\n",
              "\n",
              "      <script>\n",
              "        const buttonEl =\n",
              "          document.querySelector('#df-a91e45fb-7785-4d3a-a181-cb80a28b3ec0 button.colab-df-convert');\n",
              "        buttonEl.style.display =\n",
              "          google.colab.kernel.accessAllowed ? 'block' : 'none';\n",
              "\n",
              "        async function convertToInteractive(key) {\n",
              "          const element = document.querySelector('#df-a91e45fb-7785-4d3a-a181-cb80a28b3ec0');\n",
              "          const dataTable =\n",
              "            await google.colab.kernel.invokeFunction('convertToInteractive',\n",
              "                                                     [key], {});\n",
              "          if (!dataTable) return;\n",
              "\n",
              "          const docLinkHtml = 'Like what you see? Visit the ' +\n",
              "            '<a target=\"_blank\" href=https://colab.research.google.com/notebooks/data_table.ipynb>data table notebook</a>'\n",
              "            + ' to learn more about interactive tables.';\n",
              "          element.innerHTML = '';\n",
              "          dataTable['output_type'] = 'display_data';\n",
              "          await google.colab.output.renderOutput(dataTable, element);\n",
              "          const docLink = document.createElement('div');\n",
              "          docLink.innerHTML = docLinkHtml;\n",
              "          element.appendChild(docLink);\n",
              "        }\n",
              "      </script>\n",
              "    </div>\n",
              "  </div>\n",
              "  "
            ]
          },
          "metadata": {},
          "execution_count": 20
        }
      ]
    },
    {
      "cell_type": "markdown",
      "source": [
        "由上看出有些資料我們並不需要，因此我們加以整理，因此移除我們覺得不需要的變數"
      ],
      "metadata": {
        "id": "f7uh_4h95zgw"
      }
    },
    {
      "cell_type": "code",
      "source": [
        "df.drop(['ObsTime', 'SeaPres', 'StnPresMaxTime', 'StnPresMinTime'], axis = 1, inplace = True)\n",
        "df.drop(['T Max Time', 'T Min Time', 'Td dew point'], axis = 1, inplace = True)\n",
        "df.drop(['RHMinTime', 'WGustTime'], axis = 1, inplace = True)\n",
        "df.drop(['PrecpHour', 'PrecpMax10', 'PrecpMax10Time', 'PrecpMax60', 'PrecpMax60Time'], axis = 1, inplace = True)\n",
        "df.drop(['SunShine', 'SunShineRate', 'GloblRad', 'VisbMean'], axis = 1, inplace = True)\n",
        "df.drop(['EvapA', 'UVI Max', 'UVI Max Time', 'Cloud Amount'], axis = 1, inplace = True) "
      ],
      "metadata": {
        "id": "OUMBgCkT02Kv"
      },
      "execution_count": null,
      "outputs": []
    },
    {
      "cell_type": "markdown",
      "source": [
        "再觀察一下我們的資料"
      ],
      "metadata": {
        "id": "1njUSBiB6MrS"
      }
    },
    {
      "cell_type": "code",
      "source": [
        "df.info()"
      ],
      "metadata": {
        "colab": {
          "base_uri": "https://localhost:8080/"
        },
        "id": "1CbwaK9k6L11",
        "outputId": "50667c7a-d097-4d89-ce77-b1a830f795e9"
      },
      "execution_count": null,
      "outputs": [
        {
          "output_type": "stream",
          "name": "stdout",
          "text": [
            "<class 'pandas.core.frame.DataFrame'>\n",
            "RangeIndex: 854 entries, 0 to 853\n",
            "Data columns (total 13 columns):\n",
            " #   Column       Non-Null Count  Dtype  \n",
            "---  ------       --------------  -----  \n",
            " 0   StnPres      854 non-null    object \n",
            " 1   StnPresMax   854 non-null    object \n",
            " 2   StnPresMin   854 non-null    object \n",
            " 3   Temperature  854 non-null    object \n",
            " 4   T Max        854 non-null    object \n",
            " 5   T Min        854 non-null    object \n",
            " 6   RH           854 non-null    object \n",
            " 7   RHMin        854 non-null    object \n",
            " 8   WS           854 non-null    object \n",
            " 9   WD           854 non-null    object \n",
            " 10  WSGust       854 non-null    object \n",
            " 11  WDGust       854 non-null    object \n",
            " 12  Precp        854 non-null    float64\n",
            "dtypes: float64(1), object(12)\n",
            "memory usage: 86.9+ KB\n"
          ]
        }
      ]
    },
    {
      "cell_type": "markdown",
      "source": [
        "首先我們看到幾乎所有資料的型態都為object並且都沒有缺失值，因此我們要對此處理，結果發現轉換不了，有些原始資料的缺失值會以「...」的方式補齊，所以我們要先把「...」先替代掉，再把data type轉換成轉換成float。"
      ],
      "metadata": {
        "id": "XhOR_qjo07ya"
      }
    },
    {
      "cell_type": "code",
      "source": [
        "df = df.replace('...','-999')\n",
        "df = df.replace('/','-999')\n",
        "for i in range(854):\n",
        "    for j in range(0, 13):\n",
        "        if df.iloc[i, j] == '-999':\n",
        "            df.iloc[i, j] = 0.0\n",
        "df = pd.DataFrame(df, dtype = np.float)"
      ],
      "metadata": {
        "id": "6dB_Pdhc06VA",
        "colab": {
          "base_uri": "https://localhost:8080/"
        },
        "outputId": "cc3bd5e5-c475-4394-d69d-968a7fdef8c3"
      },
      "execution_count": null,
      "outputs": [
        {
          "output_type": "stream",
          "name": "stderr",
          "text": [
            "/usr/local/lib/python3.7/dist-packages/ipykernel_launcher.py:7: DeprecationWarning: `np.float` is a deprecated alias for the builtin `float`. To silence this warning, use `float` by itself. Doing this will not modify any behavior and is safe. If you specifically wanted the numpy scalar type, use `np.float64` here.\n",
            "Deprecated in NumPy 1.20; for more details and guidance: https://numpy.org/devdocs/release/1.20.0-notes.html#deprecations\n",
            "  import sys\n"
          ]
        }
      ]
    },
    {
      "cell_type": "markdown",
      "source": [
        "再觀察一下我們的資料"
      ],
      "metadata": {
        "id": "mzd-GsOs7_y4"
      }
    },
    {
      "cell_type": "code",
      "source": [
        "df.info()"
      ],
      "metadata": {
        "colab": {
          "base_uri": "https://localhost:8080/"
        },
        "id": "B6Dr8cXT7_97",
        "outputId": "bb5c66c8-8eb8-42c5-f742-91b81c4e2770"
      },
      "execution_count": null,
      "outputs": [
        {
          "output_type": "stream",
          "name": "stdout",
          "text": [
            "<class 'pandas.core.frame.DataFrame'>\n",
            "RangeIndex: 854 entries, 0 to 853\n",
            "Data columns (total 13 columns):\n",
            " #   Column       Non-Null Count  Dtype  \n",
            "---  ------       --------------  -----  \n",
            " 0   StnPres      854 non-null    float64\n",
            " 1   StnPresMax   854 non-null    float64\n",
            " 2   StnPresMin   854 non-null    float64\n",
            " 3   Temperature  854 non-null    float64\n",
            " 4   T Max        854 non-null    float64\n",
            " 5   T Min        854 non-null    float64\n",
            " 6   RH           854 non-null    float64\n",
            " 7   RHMin        854 non-null    float64\n",
            " 8   WS           854 non-null    float64\n",
            " 9   WD           854 non-null    float64\n",
            " 10  WSGust       854 non-null    float64\n",
            " 11  WDGust       854 non-null    float64\n",
            " 12  Precp        854 non-null    float64\n",
            "dtypes: float64(13)\n",
            "memory usage: 86.9 KB\n"
          ]
        }
      ]
    },
    {
      "cell_type": "markdown",
      "source": [
        "我們先處理降雨量，因為有降水及代表有下雨，所以只要大於大於0就轉換為1，反之轉換為0。"
      ],
      "metadata": {
        "id": "beDzyDy_06LS"
      }
    },
    {
      "cell_type": "code",
      "source": [
        "for k in range(854):\n",
        "    if df.iloc[k,12] > 0.0:\n",
        "        df.iloc[k,12] = 1\n",
        "    else:\n",
        "        df.iloc[k,12] = 0"
      ],
      "metadata": {
        "id": "IGnunyhB1Do1"
      },
      "execution_count": null,
      "outputs": []
    },
    {
      "cell_type": "markdown",
      "source": [
        "有些資料我們打算用平均值來填補，並取到小數點後第一位"
      ],
      "metadata": {
        "id": "B-ryy02n1FVe"
      }
    },
    {
      "cell_type": "code",
      "source": [
        "count0, count1, count2, count3, count4, count5, count8 , count10 = 0, 0, 0, 0 ,0, 0, 0, 0\n",
        "stnprestotal , stnpresmaxtotal , stnpresmintotal, WStotal , WSGusttotal, Ttotal , Tmaxtotal , Tmintotal = 0 , 0 , 0, 0 , 0, 0 , 0 , 0\n",
        "\n",
        "for k in range(0,853):\n",
        "    if (df.iloc[k,0] != 0.0):\n",
        "        stnpres = float(df.iloc[k,0])\n",
        "        count0 += 1\n",
        "        stnprestotal += stnpres\n",
        "    if (df.iloc[k,1] != 0.0):\n",
        "        stnpresmax = float(df.iloc[k,1])\n",
        "        count1 += 1\n",
        "        stnpresmaxtotal += stnpresmax\n",
        "    if (df.iloc[k,2] != 0.0):\n",
        "        stnpresmin = float(df.iloc[k,2])\n",
        "        count2 += 1\n",
        "        stnpresmintotal += stnpresmin\n",
        "    if (df.iloc[k,3] != 0.0):\n",
        "        T = float(df.iloc[k,3])\n",
        "        count3 += 1\n",
        "        Ttotal += T\n",
        "    if (df.iloc[k,4] != 0.0):\n",
        "        Tmax = float(df.iloc[k,4])\n",
        "        count4 += 1\n",
        "        Tmaxtotal += Tmax\n",
        "    if (df.iloc[k,5] != 0.0):\n",
        "        Tmin = float(df.iloc[k,5])\n",
        "        count5 += 1\n",
        "        Tmintotal += Tmin\n",
        "    if (df.iloc[k,8] != 0.0):\n",
        "        WS = float(df.iloc[k,8])\n",
        "        count8 += 1\n",
        "        WStotal += WS\n",
        "    if (df.iloc[k,10] != 0.0):\n",
        "        WSGust = float(df.iloc[k,10])\n",
        "        count10 += 1\n",
        "        WSGusttotal += WSGust\n",
        "\n",
        "ave0 = round(stnprestotal / count0 , 1)\n",
        "ave1 = round(stnpresmaxtotal / count1 , 1)\n",
        "ave2 = round(stnpresmintotal / count2 , 1)\n",
        "ave3 = round(Ttotal / count3 , 1)\n",
        "ave4 = round(Tmaxtotal / count4 , 1)\n",
        "ave5 = round(Tmintotal / count5 , 1)\n",
        "ave8 = round(WStotal / count8 , 1)\n",
        "ave10 = round(WSGusttotal / count10 , 1)\n",
        "\n",
        "for c in range(854):\n",
        "    if df.iloc[c,0] == 0.0:\n",
        "        df.iloc[c,0] = ave0\n",
        "    if df.iloc[c,1] == 0.0:\n",
        "        df.iloc[c,1] = ave1\n",
        "    if df.iloc[c,2] == 0.0:\n",
        "        df.iloc[c,2] = ave2\n",
        "    if df.iloc[c,3] == 0.0:\n",
        "        df.iloc[c,3] = ave3\n",
        "    if df.iloc[c,4] == 0.0:\n",
        "        df.iloc[c,4] = ave4\n",
        "    if df.iloc[c,5] == 0.0:\n",
        "        df.iloc[c,5] = ave5\n",
        "    if df.iloc[c,8] == 0.0:\n",
        "        df.iloc[c,8] = ave8\n",
        "    if df.iloc[c,10] == 0.0:\n",
        "        df.iloc[c,10] = ave10"
      ],
      "metadata": {
        "id": "mtuCyhY71JUk"
      },
      "execution_count": null,
      "outputs": []
    },
    {
      "cell_type": "markdown",
      "source": [
        "剩下的資料我們以眾數的方式來填補缺失值"
      ],
      "metadata": {
        "id": "i2y2y_141S4n"
      }
    },
    {
      "cell_type": "code",
      "source": [
        "for i in range(854):\n",
        "    if df.iloc[i,6] == 0.0:\n",
        "            df.iloc[i,6] = df['RH'].value_counts().idxmax()\n",
        "\n",
        "for i in range(854):\n",
        "    if df.iloc[i,7] == 0.0:\n",
        "            df.iloc[i,7] = df['RHMin'].value_counts().idxmax()           \n",
        "\n",
        "for i in range(854):\n",
        "    if df.iloc[i,9] == 0.0:\n",
        "            df.iloc[i,9] = df['WD'].value_counts().idxmax()\n",
        "\n",
        "for i in range(854):\n",
        "    if df.iloc[i,11] == 0.0:\n",
        "            df.iloc[i,11] = df['WDGust'].value_counts().idxmax()"
      ],
      "metadata": {
        "id": "Ea0bnBNx1TOB"
      },
      "execution_count": null,
      "outputs": []
    },
    {
      "cell_type": "markdown",
      "source": [
        "接著我們看看，每個各別資料對雨量的關係圖"
      ],
      "metadata": {
        "id": "DdBrHrOS1Ujs"
      }
    },
    {
      "cell_type": "code",
      "source": [
        "x1 = df['StnPres']\n",
        "x2 = df['StnPresMax']\n",
        "x3 = df['StnPresMin']\n",
        "x4 = df['T Max']\n",
        "x5 = df['T Min']\n",
        "x6 = df['Temperature']\n",
        "x7 = df['RH']\n",
        "x8 = df['RHMin']\n",
        "x9 = df['WS']\n",
        "x10 = df['WD']\n",
        "x11 = df['WSGust']\n",
        "x12 = df['WDGust']\n",
        "y = df['Precp']\n",
        "\n",
        "plt.figure(figsize=(16, 12))\n",
        "\n",
        "plt.subplot(3, 4, 1)\n",
        "plt.scatter(x1,y)\n",
        "plt.subplot(3, 4, 2)\n",
        "plt.scatter(x2,y)\n",
        "plt.subplot(3, 4, 3)\n",
        "plt.scatter(x3,y)\n",
        "plt.subplot(3, 4, 4)\n",
        "plt.scatter(x4,y)\n",
        "plt.subplot(3, 4, 5)\n",
        "plt.scatter(x5,y)\n",
        "plt.subplot(3, 4, 6)\n",
        "plt.scatter(x6,y)\n",
        "plt.subplot(3, 4, 7)\n",
        "plt.scatter(x7,y)\n",
        "plt.subplot(3, 4, 8)\n",
        "plt.scatter(x8,y)\n",
        "plt.subplot(3, 4, 9)\n",
        "plt.scatter(x9,y)\n",
        "plt.subplot(3, 4, 10)\n",
        "plt.scatter(x10,y)\n",
        "plt.subplot(3, 4, 11)\n",
        "plt.scatter(x11,y)\n",
        "plt.subplot(3, 4, 12)\n",
        "plt.scatter(x12,y)\n",
        "\n",
        "plt.show()"
      ],
      "metadata": {
        "id": "IrZpkRQD_YgL",
        "colab": {
          "base_uri": "https://localhost:8080/",
          "height": 700
        },
        "outputId": "52ea41e3-1f64-4e50-9143-2e6374c36a4b"
      },
      "execution_count": null,
      "outputs": [
        {
          "output_type": "display_data",
          "data": {
            "text/plain": [
              "<Figure size 1152x864 with 12 Axes>"
            ],
            "image/png": "[encoded data removed]"
          },
          "metadata": {
            "needs_background": "light"
          }
        }
      ]
    },
    {
      "cell_type": "markdown",
      "source": [
        "接著我們看看，每個各別變數之間相關係數"
      ],
      "metadata": {
        "id": "4Upip-X2U851"
      }
    },
    {
      "cell_type": "code",
      "source": [
        "df.corr()"
      ],
      "metadata": {
        "id": "YMzEwDfnU9RV",
        "colab": {
          "base_uri": "https://localhost:8080/",
          "height": 452
        },
        "outputId": "40c51882-6435-4a25-bf2f-e317578d61d3"
      },
      "execution_count": 69,
      "outputs": [
        {
          "output_type": "execute_result",
          "data": {
            "text/plain": [
              "              StnPres  StnPresMax  StnPresMin  Temperature     T Max  \\\n",
              "StnPres      1.000000    0.973837    0.977780    -0.393330 -0.278551   \n",
              "StnPresMax   0.973837    1.000000    0.942063    -0.401371 -0.286646   \n",
              "StnPresMin   0.977780    0.942063    1.000000    -0.360691 -0.258129   \n",
              "Temperature -0.393330   -0.401371   -0.360691     1.000000  0.936330   \n",
              "T Max       -0.278551   -0.286646   -0.258129     0.936330  1.000000   \n",
              "T Min       -0.365425   -0.389644   -0.332116     0.800535  0.691656   \n",
              "RH          -0.000452    0.006529   -0.012693    -0.429906 -0.521878   \n",
              "RHMin        0.002457    0.006868   -0.009457    -0.462815 -0.640560   \n",
              "WS          -0.095517   -0.062669   -0.106666    -0.133580 -0.126113   \n",
              "WD          -0.206163   -0.182999   -0.195766     0.578848  0.533895   \n",
              "WSGust      -0.129541   -0.106577   -0.130746     0.086536  0.103263   \n",
              "WDGust      -0.190252   -0.185356   -0.187112     0.417973  0.386055   \n",
              "Precp       -0.102302   -0.068398   -0.114482    -0.436195 -0.465951   \n",
              "\n",
              "                T Min        RH     RHMin        WS        WD    WSGust  \\\n",
              "StnPres     -0.365425 -0.000452  0.002457 -0.095517 -0.206163 -0.129541   \n",
              "StnPresMax  -0.389644  0.006529  0.006868 -0.062669 -0.182999 -0.106577   \n",
              "StnPresMin  -0.332116 -0.012693 -0.009457 -0.106666 -0.195766 -0.130746   \n",
              "Temperature  0.800535 -0.429906 -0.462815 -0.133580  0.578848  0.086536   \n",
              "T Max        0.691656 -0.521878 -0.640560 -0.126113  0.533895  0.103263   \n",
              "T Min        1.000000 -0.152051 -0.159250 -0.100600  0.402647  0.094228   \n",
              "RH          -0.152051  1.000000  0.882385 -0.338862 -0.286190 -0.141324   \n",
              "RHMin       -0.159250  0.882385  1.000000 -0.191886 -0.306964 -0.184937   \n",
              "WS          -0.100600 -0.338862 -0.191886  1.000000 -0.056931  0.054401   \n",
              "WD           0.402647 -0.286190 -0.306964 -0.056931  1.000000  0.097587   \n",
              "WSGust       0.094228 -0.141324 -0.184937  0.054401  0.097587  1.000000   \n",
              "WDGust       0.324419 -0.228729 -0.240991 -0.088445  0.430546  0.114048   \n",
              "Precp       -0.223502  0.635275  0.534163 -0.090684 -0.252340  0.022863   \n",
              "\n",
              "               WDGust     Precp  \n",
              "StnPres     -0.190252 -0.102302  \n",
              "StnPresMax  -0.185356 -0.068398  \n",
              "StnPresMin  -0.187112 -0.114482  \n",
              "Temperature  0.417973 -0.436195  \n",
              "T Max        0.386055 -0.465951  \n",
              "T Min        0.324419 -0.223502  \n",
              "RH          -0.228729  0.635275  \n",
              "RHMin       -0.240991  0.534163  \n",
              "WS          -0.088445 -0.090684  \n",
              "WD           0.430546 -0.252340  \n",
              "WSGust       0.114048  0.022863  \n",
              "WDGust       1.000000 -0.215003  \n",
              "Precp       -0.215003  1.000000  "
            ],
            "text/html": [
              "\n",
              "  <div id=\"df-b6d47e1d-4d11-4526-843d-f687525b8397\">\n",
              "    <div class=\"colab-df-container\">\n",
              "      <div>\n",
              "<style scoped>\n",
              "    .dataframe tbody tr th:only-of-type {\n",
              "        vertical-align: middle;\n",
              "    }\n",
              "\n",
              "    .dataframe tbody tr th {\n",
              "        vertical-align: top;\n",
              "    }\n",
              "\n",
              "    .dataframe thead th {\n",
              "        text-align: right;\n",
              "    }\n",
              "</style>\n",
              "<table border=\"1\" class=\"dataframe\">\n",
              "  <thead>\n",
              "    <tr style=\"text-align: right;\">\n",
              "      <th></th>\n",
              "      <th>StnPres</th>\n",
              "      <th>StnPresMax</th>\n",
              "      <th>StnPresMin</th>\n",
              "      <th>Temperature</th>\n",
              "      <th>T Max</th>\n",
              "      <th>T Min</th>\n",
              "      <th>RH</th>\n",
              "      <th>RHMin</th>\n",
              "      <th>WS</th>\n",
              "      <th>WD</th>\n",
              "      <th>WSGust</th>\n",
              "      <th>WDGust</th>\n",
              "      <th>Precp</th>\n",
              "    </tr>\n",
              "  </thead>\n",
              "  <tbody>\n",
              "    <tr>\n",
              "      <th>StnPres</th>\n",
              "      <td>1.000000</td>\n",
              "      <td>0.973837</td>\n",
              "      <td>0.977780</td>\n",
              "      <td>-0.393330</td>\n",
              "      <td>-0.278551</td>\n",
              "      <td>-0.365425</td>\n",
              "      <td>-0.000452</td>\n",
              "      <td>0.002457</td>\n",
              "      <td>-0.095517</td>\n",
              "      <td>-0.206163</td>\n",
              "      <td>-0.129541</td>\n",
              "      <td>-0.190252</td>\n",
              "      <td>-0.102302</td>\n",
              "    </tr>\n",
              "    <tr>\n",
              "      <th>StnPresMax</th>\n",
              "      <td>0.973837</td>\n",
              "      <td>1.000000</td>\n",
              "      <td>0.942063</td>\n",
              "      <td>-0.401371</td>\n",
              "      <td>-0.286646</td>\n",
              "      <td>-0.389644</td>\n",
              "      <td>0.006529</td>\n",
              "      <td>0.006868</td>\n",
              "      <td>-0.062669</td>\n",
              "      <td>-0.182999</td>\n",
              "      <td>-0.106577</td>\n",
              "      <td>-0.185356</td>\n",
              "      <td>-0.068398</td>\n",
              "    </tr>\n",
              "    <tr>\n",
              "      <th>StnPresMin</th>\n",
              "      <td>0.977780</td>\n",
              "      <td>0.942063</td>\n",
              "      <td>1.000000</td>\n",
              "      <td>-0.360691</td>\n",
              "      <td>-0.258129</td>\n",
              "      <td>-0.332116</td>\n",
              "      <td>-0.012693</td>\n",
              "      <td>-0.009457</td>\n",
              "      <td>-0.106666</td>\n",
              "      <td>-0.195766</td>\n",
              "      <td>-0.130746</td>\n",
              "      <td>-0.187112</td>\n",
              "      <td>-0.114482</td>\n",
              "    </tr>\n",
              "    <tr>\n",
              "      <th>Temperature</th>\n",
              "      <td>-0.393330</td>\n",
              "      <td>-0.401371</td>\n",
              "      <td>-0.360691</td>\n",
              "      <td>1.000000</td>\n",
              "      <td>0.936330</td>\n",
              "      <td>0.800535</td>\n",
              "      <td>-0.429906</td>\n",
              "      <td>-0.462815</td>\n",
              "      <td>-0.133580</td>\n",
              "      <td>0.578848</td>\n",
              "      <td>0.086536</td>\n",
              "      <td>0.417973</td>\n",
              "      <td>-0.436195</td>\n",
              "    </tr>\n",
              "    <tr>\n",
              "      <th>T Max</th>\n",
              "      <td>-0.278551</td>\n",
              "      <td>-0.286646</td>\n",
              "      <td>-0.258129</td>\n",
              "      <td>0.936330</td>\n",
              "      <td>1.000000</td>\n",
              "      <td>0.691656</td>\n",
              "      <td>-0.521878</td>\n",
              "      <td>-0.640560</td>\n",
              "      <td>-0.126113</td>\n",
              "      <td>0.533895</td>\n",
              "      <td>0.103263</td>\n",
              "      <td>0.386055</td>\n",
              "      <td>-0.465951</td>\n",
              "    </tr>\n",
              "    <tr>\n",
              "      <th>T Min</th>\n",
              "      <td>-0.365425</td>\n",
              "      <td>-0.389644</td>\n",
              "      <td>-0.332116</td>\n",
              "      <td>0.800535</td>\n",
              "      <td>0.691656</td>\n",
              "      <td>1.000000</td>\n",
              "      <td>-0.152051</td>\n",
              "      <td>-0.159250</td>\n",
              "      <td>-0.100600</td>\n",
              "      <td>0.402647</td>\n",
              "      <td>0.094228</td>\n",
              "      <td>0.324419</td>\n",
              "      <td>-0.223502</td>\n",
              "    </tr>\n",
              "    <tr>\n",
              "      <th>RH</th>\n",
              "      <td>-0.000452</td>\n",
              "      <td>0.006529</td>\n",
              "      <td>-0.012693</td>\n",
              "      <td>-0.429906</td>\n",
              "      <td>-0.521878</td>\n",
              "      <td>-0.152051</td>\n",
              "      <td>1.000000</td>\n",
              "      <td>0.882385</td>\n",
              "      <td>-0.338862</td>\n",
              "      <td>-0.286190</td>\n",
              "      <td>-0.141324</td>\n",
              "      <td>-0.228729</td>\n",
              "      <td>0.635275</td>\n",
              "    </tr>\n",
              "    <tr>\n",
              "      <th>RHMin</th>\n",
              "      <td>0.002457</td>\n",
              "      <td>0.006868</td>\n",
              "      <td>-0.009457</td>\n",
              "      <td>-0.462815</td>\n",
              "      <td>-0.640560</td>\n",
              "      <td>-0.159250</td>\n",
              "      <td>0.882385</td>\n",
              "      <td>1.000000</td>\n",
              "      <td>-0.191886</td>\n",
              "      <td>-0.306964</td>\n",
              "      <td>-0.184937</td>\n",
              "      <td>-0.240991</td>\n",
              "      <td>0.534163</td>\n",
              "    </tr>\n",
              "    <tr>\n",
              "      <th>WS</th>\n",
              "      <td>-0.095517</td>\n",
              "      <td>-0.062669</td>\n",
              "      <td>-0.106666</td>\n",
              "      <td>-0.133580</td>\n",
              "      <td>-0.126113</td>\n",
              "      <td>-0.100600</td>\n",
              "      <td>-0.338862</td>\n",
              "      <td>-0.191886</td>\n",
              "      <td>1.000000</td>\n",
              "      <td>-0.056931</td>\n",
              "      <td>0.054401</td>\n",
              "      <td>-0.088445</td>\n",
              "      <td>-0.090684</td>\n",
              "    </tr>\n",
              "    <tr>\n",
              "      <th>WD</th>\n",
              "      <td>-0.206163</td>\n",
              "      <td>-0.182999</td>\n",
              "      <td>-0.195766</td>\n",
              "      <td>0.578848</td>\n",
              "      <td>0.533895</td>\n",
              "      <td>0.402647</td>\n",
              "      <td>-0.286190</td>\n",
              "      <td>-0.306964</td>\n",
              "      <td>-0.056931</td>\n",
              "      <td>1.000000</td>\n",
              "      <td>0.097587</td>\n",
              "      <td>0.430546</td>\n",
              "      <td>-0.252340</td>\n",
              "    </tr>\n",
              "    <tr>\n",
              "      <th>WSGust</th>\n",
              "      <td>-0.129541</td>\n",
              "      <td>-0.106577</td>\n",
              "      <td>-0.130746</td>\n",
              "      <td>0.086536</td>\n",
              "      <td>0.103263</td>\n",
              "      <td>0.094228</td>\n",
              "      <td>-0.141324</td>\n",
              "      <td>-0.184937</td>\n",
              "      <td>0.054401</td>\n",
              "      <td>0.097587</td>\n",
              "      <td>1.000000</td>\n",
              "      <td>0.114048</td>\n",
              "      <td>0.022863</td>\n",
              "    </tr>\n",
              "    <tr>\n",
              "      <th>WDGust</th>\n",
              "      <td>-0.190252</td>\n",
              "      <td>-0.185356</td>\n",
              "      <td>-0.187112</td>\n",
              "      <td>0.417973</td>\n",
              "      <td>0.386055</td>\n",
              "      <td>0.324419</td>\n",
              "      <td>-0.228729</td>\n",
              "      <td>-0.240991</td>\n",
              "      <td>-0.088445</td>\n",
              "      <td>0.430546</td>\n",
              "      <td>0.114048</td>\n",
              "      <td>1.000000</td>\n",
              "      <td>-0.215003</td>\n",
              "    </tr>\n",
              "    <tr>\n",
              "      <th>Precp</th>\n",
              "      <td>-0.102302</td>\n",
              "      <td>-0.068398</td>\n",
              "      <td>-0.114482</td>\n",
              "      <td>-0.436195</td>\n",
              "      <td>-0.465951</td>\n",
              "      <td>-0.223502</td>\n",
              "      <td>0.635275</td>\n",
              "      <td>0.534163</td>\n",
              "      <td>-0.090684</td>\n",
              "      <td>-0.252340</td>\n",
              "      <td>0.022863</td>\n",
              "      <td>-0.215003</td>\n",
              "      <td>1.000000</td>\n",
              "    </tr>\n",
              "  </tbody>\n",
              "</table>\n",
              "</div>\n",
              "      <button class=\"colab-df-convert\" onclick=\"convertToInteractive('df-b6d47e1d-4d11-4526-843d-f687525b8397')\"\n",
              "              title=\"Convert this dataframe to an interactive table.\"\n",
              "              style=\"display:none;\">\n",
              "        \n",
              "  <svg xmlns=\"http://www.w3.org/2000/svg\" height=\"24px\"viewBox=\"0 0 24 24\"\n",
              "       width=\"24px\">\n",
              "    <path d=\"M0 0h24v24H0V0z\" fill=\"none\"/>\n",
              "    <path d=\"M18.56 5.44l.94 2.06.94-2.06 2.06-.94-2.06-.94-.94-2.06-.94 2.06-2.06.94zm-11 1L8.5 8.5l.94-2.06 2.06-.94-2.06-.94L8.5 2.5l-.94 2.06-2.06.94zm10 10l.94 2.06.94-2.06 2.06-.94-2.06-.94-.94-2.06-.94 2.06-2.06.94z\"/><path d=\"M17.41 7.96l-1.37-1.37c-.4-.4-.92-.59-1.43-.59-.52 0-1.04.2-1.43.59L10.3 9.45l-7.72 7.72c-.78.78-.78 2.05 0 2.83L4 21.41c.39.39.9.59 1.41.59.51 0 1.02-.2 1.41-.59l7.78-7.78 2.81-2.81c.8-.78.8-2.07 0-2.86zM5.41 20L4 18.59l7.72-7.72 1.47 1.35L5.41 20z\"/>\n",
              "  </svg>\n",
              "      </button>\n",
              "      \n",
              "  <style>\n",
              "    .colab-df-container {\n",
              "      display:flex;\n",
              "      flex-wrap:wrap;\n",
              "      gap: 12px;\n",
              "    }\n",
              "\n",
              "    .colab-df-convert {\n",
              "      background-color: #E8F0FE;\n",
              "      border: none;\n",
              "      border-radius: 50%;\n",
              "      cursor: pointer;\n",
              "      display: none;\n",
              "      fill: #1967D2;\n",
              "      height: 32px;\n",
              "      padding: 0 0 0 0;\n",
              "      width: 32px;\n",
              "    }\n",
              "\n",
              "    .colab-df-convert:hover {\n",
              "      background-color: #E2EBFA;\n",
              "      box-shadow: 0px 1px 2px rgba(60, 64, 67, 0.3), 0px 1px 3px 1px rgba(60, 64, 67, 0.15);\n",
              "      fill: #174EA6;\n",
              "    }\n",
              "\n",
              "    [theme=dark] .colab-df-convert {\n",
              "      background-color: #3B4455;\n",
              "      fill: #D2E3FC;\n",
              "    }\n",
              "\n",
              "    [theme=dark] .colab-df-convert:hover {\n",
              "      background-color: #434B5C;\n",
              "      box-shadow: 0px 1px 3px 1px rgba(0, 0, 0, 0.15);\n",
              "      filter: drop-shadow(0px 1px 2px rgba(0, 0, 0, 0.3));\n",
              "      fill: #FFFFFF;\n",
              "    }\n",
              "  </style>\n",
              "\n",
              "      <script>\n",
              "        const buttonEl =\n",
              "          document.querySelector('#df-b6d47e1d-4d11-4526-843d-f687525b8397 button.colab-df-convert');\n",
              "        buttonEl.style.display =\n",
              "          google.colab.kernel.accessAllowed ? 'block' : 'none';\n",
              "\n",
              "        async function convertToInteractive(key) {\n",
              "          const element = document.querySelector('#df-b6d47e1d-4d11-4526-843d-f687525b8397');\n",
              "          const dataTable =\n",
              "            await google.colab.kernel.invokeFunction('convertToInteractive',\n",
              "                                                     [key], {});\n",
              "          if (!dataTable) return;\n",
              "\n",
              "          const docLinkHtml = 'Like what you see? Visit the ' +\n",
              "            '<a target=\"_blank\" href=https://colab.research.google.com/notebooks/data_table.ipynb>data table notebook</a>'\n",
              "            + ' to learn more about interactive tables.';\n",
              "          element.innerHTML = '';\n",
              "          dataTable['output_type'] = 'display_data';\n",
              "          await google.colab.output.renderOutput(dataTable, element);\n",
              "          const docLink = document.createElement('div');\n",
              "          docLink.innerHTML = docLinkHtml;\n",
              "          element.appendChild(docLink);\n",
              "        }\n",
              "      </script>\n",
              "    </div>\n",
              "  </div>\n",
              "  "
            ]
          },
          "metadata": {},
          "execution_count": 69
        }
      ]
    },
    {
      "cell_type": "markdown",
      "source": [
        "我們接著再把所有資料都餵給模型，來觀察模型辨識程度"
      ],
      "metadata": {
        "id": "sp476FjdHfIC"
      }
    },
    {
      "cell_type": "code",
      "source": [
        "X = df.drop(['Precp'], axis=1)\n",
        "y = df['Precp']\n",
        "\n",
        "from sklearn.model_selection import train_test_split\n",
        "from sklearn.linear_model import LogisticRegression\n",
        "from sklearn.metrics import confusion_matrix, accuracy_score, precision_score, recall_score\n",
        "\n",
        "X_train,X_test, y_train,y_test = train_test_split(X, y, test_size=0.3, random_state=67)\n",
        "lr = LogisticRegression(max_iter=200)\n",
        "lr.fit(X_train, y_train)\n",
        "predictions = lr.predict(X_test)\n",
        "accuracy_score(y_test, predictions)\n",
        "recall_score(y_test, predictions)\n",
        "precision_score(y_test, predictions)"
      ],
      "metadata": {
        "id": "BJzSkD0I_KFq",
        "colab": {
          "base_uri": "https://localhost:8080/"
        },
        "outputId": "b228b531-f663-4d98-aa1b-841ae01ab018"
      },
      "execution_count": null,
      "outputs": [
        {
          "output_type": "stream",
          "name": "stderr",
          "text": [
            "/usr/local/lib/python3.7/dist-packages/sklearn/linear_model/_logistic.py:818: ConvergenceWarning: lbfgs failed to converge (status=1):\n",
            "STOP: TOTAL NO. of ITERATIONS REACHED LIMIT.\n",
            "\n",
            "Increase the number of iterations (max_iter) or scale the data as shown in:\n",
            "    https://scikit-learn.org/stable/modules/preprocessing.html\n",
            "Please also refer to the documentation for alternative solver options:\n",
            "    https://scikit-learn.org/stable/modules/linear_model.html#logistic-regression\n",
            "  extra_warning_msg=_LOGISTIC_SOLVER_CONVERGENCE_MSG,\n"
          ]
        },
        {
          "output_type": "execute_result",
          "data": {
            "text/plain": [
              "0.7586206896551724"
            ]
          },
          "metadata": {},
          "execution_count": 51
        }
      ]
    },
    {
      "cell_type": "markdown",
      "source": [
        "給模型之後發現分數沒有很理想，所以我們交叉測試，發現刪除刪除T Max 和 T Min後，分數會更高"
      ],
      "metadata": {
        "id": "f-OJt4B2HMOT"
      }
    },
    {
      "cell_type": "code",
      "source": [
        "X = df.drop(['Precp', 'T Max', 'T Min'], axis=1)\n",
        "y = df['Precp']\n",
        "X_train,X_test, y_train,y_test = train_test_split(X, y, test_size=0.3, random_state=67)\n",
        "lr = LogisticRegression(max_iter=200)\n",
        "lr.fit(X_train, y_train)\n",
        "predictions = lr.predict(X_test)\n",
        "accuracy_score(y_test, predictions)\n",
        "recall_score(y_test, predictions)\n",
        "precision_score(y_test, predictions)"
      ],
      "metadata": {
        "id": "M5iU2pIZ1U4X",
        "colab": {
          "base_uri": "https://localhost:8080/"
        },
        "outputId": "f4b7dff1-162f-4fb6-8686-912a9cbbce90"
      },
      "execution_count": null,
      "outputs": [
        {
          "output_type": "stream",
          "name": "stderr",
          "text": [
            "/usr/local/lib/python3.7/dist-packages/sklearn/linear_model/_logistic.py:818: ConvergenceWarning: lbfgs failed to converge (status=1):\n",
            "STOP: TOTAL NO. of ITERATIONS REACHED LIMIT.\n",
            "\n",
            "Increase the number of iterations (max_iter) or scale the data as shown in:\n",
            "    https://scikit-learn.org/stable/modules/preprocessing.html\n",
            "Please also refer to the documentation for alternative solver options:\n",
            "    https://scikit-learn.org/stable/modules/linear_model.html#logistic-regression\n",
            "  extra_warning_msg=_LOGISTIC_SOLVER_CONVERGENCE_MSG,\n"
          ]
        },
        {
          "output_type": "execute_result",
          "data": {
            "text/plain": [
              "0.7804878048780488"
            ]
          },
          "metadata": {},
          "execution_count": 52
        }
      ]
    },
    {
      "cell_type": "markdown",
      "source": [
        "接著我們圖表化看出模型的矩陣關係\n"
      ],
      "metadata": {
        "id": "uXpL2iXWK6Eg"
      }
    },
    {
      "cell_type": "code",
      "source": [
        "pd.DataFrame(confusion_matrix(y_test, predictions), columns = ['Predict not rain','Predict rain'], index=['True not rain', 'True rain'])"
      ],
      "metadata": {
        "colab": {
          "base_uri": "https://localhost:8080/",
          "height": 111
        },
        "id": "55v2Cb-gK6TJ",
        "outputId": "6357519d-4e99-4352-c1da-176d3973dc07"
      },
      "execution_count": null,
      "outputs": [
        {
          "output_type": "execute_result",
          "data": {
            "text/plain": [
              "               Predict not rain  Predict rain\n",
              "True not rain               150            18\n",
              "True rain                    25            64"
            ],
            "text/html": [
              "\n",
              "  <div id=\"df-cbe48546-db2d-48e9-b287-c818973f47e7\">\n",
              "    <div class=\"colab-df-container\">\n",
              "      <div>\n",
              "<style scoped>\n",
              "    .dataframe tbody tr th:only-of-type {\n",
              "        vertical-align: middle;\n",
              "    }\n",
              "\n",
              "    .dataframe tbody tr th {\n",
              "        vertical-align: top;\n",
              "    }\n",
              "\n",
              "    .dataframe thead th {\n",
              "        text-align: right;\n",
              "    }\n",
              "</style>\n",
              "<table border=\"1\" class=\"dataframe\">\n",
              "  <thead>\n",
              "    <tr style=\"text-align: right;\">\n",
              "      <th></th>\n",
              "      <th>Predict not rain</th>\n",
              "      <th>Predict rain</th>\n",
              "    </tr>\n",
              "  </thead>\n",
              "  <tbody>\n",
              "    <tr>\n",
              "      <th>True not rain</th>\n",
              "      <td>150</td>\n",
              "      <td>18</td>\n",
              "    </tr>\n",
              "    <tr>\n",
              "      <th>True rain</th>\n",
              "      <td>25</td>\n",
              "      <td>64</td>\n",
              "    </tr>\n",
              "  </tbody>\n",
              "</table>\n",
              "</div>\n",
              "      <button class=\"colab-df-convert\" onclick=\"convertToInteractive('df-cbe48546-db2d-48e9-b287-c818973f47e7')\"\n",
              "              title=\"Convert this dataframe to an interactive table.\"\n",
              "              style=\"display:none;\">\n",
              "        \n",
              "  <svg xmlns=\"http://www.w3.org/2000/svg\" height=\"24px\"viewBox=\"0 0 24 24\"\n",
              "       width=\"24px\">\n",
              "    <path d=\"M0 0h24v24H0V0z\" fill=\"none\"/>\n",
              "    <path d=\"M18.56 5.44l.94 2.06.94-2.06 2.06-.94-2.06-.94-.94-2.06-.94 2.06-2.06.94zm-11 1L8.5 8.5l.94-2.06 2.06-.94-2.06-.94L8.5 2.5l-.94 2.06-2.06.94zm10 10l.94 2.06.94-2.06 2.06-.94-2.06-.94-.94-2.06-.94 2.06-2.06.94z\"/><path d=\"M17.41 7.96l-1.37-1.37c-.4-.4-.92-.59-1.43-.59-.52 0-1.04.2-1.43.59L10.3 9.45l-7.72 7.72c-.78.78-.78 2.05 0 2.83L4 21.41c.39.39.9.59 1.41.59.51 0 1.02-.2 1.41-.59l7.78-7.78 2.81-2.81c.8-.78.8-2.07 0-2.86zM5.41 20L4 18.59l7.72-7.72 1.47 1.35L5.41 20z\"/>\n",
              "  </svg>\n",
              "      </button>\n",
              "      \n",
              "  <style>\n",
              "    .colab-df-container {\n",
              "      display:flex;\n",
              "      flex-wrap:wrap;\n",
              "      gap: 12px;\n",
              "    }\n",
              "\n",
              "    .colab-df-convert {\n",
              "      background-color: #E8F0FE;\n",
              "      border: none;\n",
              "      border-radius: 50%;\n",
              "      cursor: pointer;\n",
              "      display: none;\n",
              "      fill: #1967D2;\n",
              "      height: 32px;\n",
              "      padding: 0 0 0 0;\n",
              "      width: 32px;\n",
              "    }\n",
              "\n",
              "    .colab-df-convert:hover {\n",
              "      background-color: #E2EBFA;\n",
              "      box-shadow: 0px 1px 2px rgba(60, 64, 67, 0.3), 0px 1px 3px 1px rgba(60, 64, 67, 0.15);\n",
              "      fill: #174EA6;\n",
              "    }\n",
              "\n",
              "    [theme=dark] .colab-df-convert {\n",
              "      background-color: #3B4455;\n",
              "      fill: #D2E3FC;\n",
              "    }\n",
              "\n",
              "    [theme=dark] .colab-df-convert:hover {\n",
              "      background-color: #434B5C;\n",
              "      box-shadow: 0px 1px 3px 1px rgba(0, 0, 0, 0.15);\n",
              "      filter: drop-shadow(0px 1px 2px rgba(0, 0, 0, 0.3));\n",
              "      fill: #FFFFFF;\n",
              "    }\n",
              "  </style>\n",
              "\n",
              "      <script>\n",
              "        const buttonEl =\n",
              "          document.querySelector('#df-cbe48546-db2d-48e9-b287-c818973f47e7 button.colab-df-convert');\n",
              "        buttonEl.style.display =\n",
              "          google.colab.kernel.accessAllowed ? 'block' : 'none';\n",
              "\n",
              "        async function convertToInteractive(key) {\n",
              "          const element = document.querySelector('#df-cbe48546-db2d-48e9-b287-c818973f47e7');\n",
              "          const dataTable =\n",
              "            await google.colab.kernel.invokeFunction('convertToInteractive',\n",
              "                                                     [key], {});\n",
              "          if (!dataTable) return;\n",
              "\n",
              "          const docLinkHtml = 'Like what you see? Visit the ' +\n",
              "            '<a target=\"_blank\" href=https://colab.research.google.com/notebooks/data_table.ipynb>data table notebook</a>'\n",
              "            + ' to learn more about interactive tables.';\n",
              "          element.innerHTML = '';\n",
              "          dataTable['output_type'] = 'display_data';\n",
              "          await google.colab.output.renderOutput(dataTable, element);\n",
              "          const docLink = document.createElement('div');\n",
              "          docLink.innerHTML = docLinkHtml;\n",
              "          element.appendChild(docLink);\n",
              "        }\n",
              "      </script>\n",
              "    </div>\n",
              "  </div>\n",
              "  "
            ]
          },
          "metadata": {},
          "execution_count": 58
        }
      ]
    },
    {
      "cell_type": "markdown",
      "source": [
        "最後我們測試模型的辨認是否順利，然後有發現到測出來的型態為[1.]、[0.]"
      ],
      "metadata": {
        "id": "dDcLSPLSIXue"
      }
    },
    {
      "cell_type": "code",
      "source": [
        "print(lr.predict([[900, 1000, 850, 23, 34, 12, 1, 23, 2, 45]]))\n",
        "print(lr.predict([[900, 860, 950 , 26, 70 , 50 , 3 , 20 , 6 , 25 ]]))"
      ],
      "metadata": {
        "id": "fLGg2lSM1Yq5",
        "colab": {
          "base_uri": "https://localhost:8080/"
        },
        "outputId": "bd73b3d7-4b97-4abd-9f5c-f6b1cf8bddcb"
      },
      "execution_count": null,
      "outputs": [
        {
          "output_type": "stream",
          "name": "stdout",
          "text": [
            "[1.]\n",
            "[0.]\n"
          ]
        },
        {
          "output_type": "stream",
          "name": "stderr",
          "text": [
            "/usr/local/lib/python3.7/dist-packages/sklearn/base.py:451: UserWarning: X does not have valid feature names, but LogisticRegression was fitted with feature names\n",
            "  \"X does not have valid feature names, but\"\n",
            "/usr/local/lib/python3.7/dist-packages/sklearn/base.py:451: UserWarning: X does not have valid feature names, but LogisticRegression was fitted with feature names\n",
            "  \"X does not have valid feature names, but\"\n"
          ]
        }
      ]
    },
    {
      "cell_type": "markdown",
      "source": [
        "利用joblib模組將模型匯出"
      ],
      "metadata": {
        "id": "3CkUp7B21d_d"
      }
    },
    {
      "cell_type": "code",
      "source": [
        "import joblib\n",
        "joblib.dump(lr,'Precipitation_Predict.pkl',compress=3)"
      ],
      "metadata": {
        "id": "u5k-liWl1eU_",
        "colab": {
          "base_uri": "https://localhost:8080/"
        },
        "outputId": "d39bb911-e792-43f1-8cfb-d8320faa704f"
      },
      "execution_count": null,
      "outputs": [
        {
          "output_type": "execute_result",
          "data": {
            "text/plain": [
              "['Precipitation_Predict.pkl']"
            ]
          },
          "metadata": {},
          "execution_count": 60
        }
      ]
    }
  ]
}