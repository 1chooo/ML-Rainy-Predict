{
  "cells": [
    {
      "cell_type": "markdown",
      "metadata": {
        "id": "7lfkZaltMTnv"
      },
      "source": [
        "# **梅雨還是沒雨？**"
      ]
    },
    {
      "cell_type": "markdown",
      "metadata": {
        "id": "4ZRYCWMPLz4d"
      },
      "source": [
        "安裝套件"
      ]
    },
    {
      "cell_type": "code",
      "execution_count": null,
      "metadata": {
        "colab": {
          "base_uri": "https://localhost:8080/"
        },
        "id": "Hhy-1UXJLy-g",
        "outputId": "7b9a337b-acf8-4083-dbb1-9b69053f7497"
      },
      "outputs": [
        {
          "name": "stdout",
          "output_type": "stream",
          "text": [
            "Looking in indexes: https://pypi.org/simple, https://us-python.pkg.dev/colab-wheels/public/simple/\n",
            "Requirement already satisfied: pandas in /usr/local/lib/python3.7/dist-packages (1.3.5)\n",
            "Requirement already satisfied: numpy>=1.17.3 in /usr/local/lib/python3.7/dist-packages (from pandas) (1.21.6)\n",
            "Requirement already satisfied: pytz>=2017.3 in /usr/local/lib/python3.7/dist-packages (from pandas) (2022.1)\n",
            "Requirement already satisfied: python-dateutil>=2.7.3 in /usr/local/lib/python3.7/dist-packages (from pandas) (2.8.2)\n",
            "Requirement already satisfied: six>=1.5 in /usr/local/lib/python3.7/dist-packages (from python-dateutil>=2.7.3->pandas) (1.15.0)\n",
            "Looking in indexes: https://pypi.org/simple, https://us-python.pkg.dev/colab-wheels/public/simple/\n",
            "Requirement already satisfied: numpy in /usr/local/lib/python3.7/dist-packages (1.21.6)\n",
            "Looking in indexes: https://pypi.org/simple, https://us-python.pkg.dev/colab-wheels/public/simple/\n",
            "Requirement already satisfied: matplotlib in /usr/local/lib/python3.7/dist-packages (3.2.2)\n",
            "Requirement already satisfied: numpy>=1.11 in /usr/local/lib/python3.7/dist-packages (from matplotlib) (1.21.6)\n",
            "Requirement already satisfied: kiwisolver>=1.0.1 in /usr/local/lib/python3.7/dist-packages (from matplotlib) (1.4.2)\n",
            "Requirement already satisfied: cycler>=0.10 in /usr/local/lib/python3.7/dist-packages (from matplotlib) (0.11.0)\n",
            "Requirement already satisfied: pyparsing!=2.0.4,!=2.1.2,!=2.1.6,>=2.0.1 in /usr/local/lib/python3.7/dist-packages (from matplotlib) (3.0.9)\n",
            "Requirement already satisfied: python-dateutil>=2.1 in /usr/local/lib/python3.7/dist-packages (from matplotlib) (2.8.2)\n",
            "Requirement already satisfied: typing-extensions in /usr/local/lib/python3.7/dist-packages (from kiwisolver>=1.0.1->matplotlib) (4.2.0)\n",
            "Requirement already satisfied: six>=1.5 in /usr/local/lib/python3.7/dist-packages (from python-dateutil>=2.1->matplotlib) (1.15.0)\n",
            "Looking in indexes: https://pypi.org/simple, https://us-python.pkg.dev/colab-wheels/public/simple/\n",
            "Requirement already satisfied: seaborn in /usr/local/lib/python3.7/dist-packages (0.11.2)\n",
            "Requirement already satisfied: numpy>=1.15 in /usr/local/lib/python3.7/dist-packages (from seaborn) (1.21.6)\n",
            "Requirement already satisfied: scipy>=1.0 in /usr/local/lib/python3.7/dist-packages (from seaborn) (1.4.1)\n",
            "Requirement already satisfied: matplotlib>=2.2 in /usr/local/lib/python3.7/dist-packages (from seaborn) (3.2.2)\n",
            "Requirement already satisfied: pandas>=0.23 in /usr/local/lib/python3.7/dist-packages (from seaborn) (1.3.5)\n",
            "Requirement already satisfied: cycler>=0.10 in /usr/local/lib/python3.7/dist-packages (from matplotlib>=2.2->seaborn) (0.11.0)\n",
            "Requirement already satisfied: python-dateutil>=2.1 in /usr/local/lib/python3.7/dist-packages (from matplotlib>=2.2->seaborn) (2.8.2)\n",
            "Requirement already satisfied: kiwisolver>=1.0.1 in /usr/local/lib/python3.7/dist-packages (from matplotlib>=2.2->seaborn) (1.4.2)\n",
            "Requirement already satisfied: pyparsing!=2.0.4,!=2.1.2,!=2.1.6,>=2.0.1 in /usr/local/lib/python3.7/dist-packages (from matplotlib>=2.2->seaborn) (3.0.9)\n",
            "Requirement already satisfied: typing-extensions in /usr/local/lib/python3.7/dist-packages (from kiwisolver>=1.0.1->matplotlib>=2.2->seaborn) (4.2.0)\n",
            "Requirement already satisfied: pytz>=2017.3 in /usr/local/lib/python3.7/dist-packages (from pandas>=0.23->seaborn) (2022.1)\n",
            "Requirement already satisfied: six>=1.5 in /usr/local/lib/python3.7/dist-packages (from python-dateutil>=2.1->matplotlib>=2.2->seaborn) (1.15.0)\n",
            "Looking in indexes: https://pypi.org/simple, https://us-python.pkg.dev/colab-wheels/public/simple/\n",
            "Requirement already satisfied: joblib in /usr/local/lib/python3.7/dist-packages (1.1.0)\n",
            "Looking in indexes: https://pypi.org/simple, https://us-python.pkg.dev/colab-wheels/public/simple/\n",
            "Requirement already satisfied: sklearn in /usr/local/lib/python3.7/dist-packages (0.0)\n",
            "Requirement already satisfied: scikit-learn in /usr/local/lib/python3.7/dist-packages (from sklearn) (1.0.2)\n",
            "Requirement already satisfied: threadpoolctl>=2.0.0 in /usr/local/lib/python3.7/dist-packages (from scikit-learn->sklearn) (3.1.0)\n",
            "Requirement already satisfied: joblib>=0.11 in /usr/local/lib/python3.7/dist-packages (from scikit-learn->sklearn) (1.1.0)\n",
            "Requirement already satisfied: scipy>=1.1.0 in /usr/local/lib/python3.7/dist-packages (from scikit-learn->sklearn) (1.4.1)\n",
            "Requirement already satisfied: numpy>=1.14.6 in /usr/local/lib/python3.7/dist-packages (from scikit-learn->sklearn) (1.21.6)\n",
            "Looking in indexes: https://pypi.org/simple, https://us-python.pkg.dev/colab-wheels/public/simple/\n",
            "Requirement already satisfied: flask in /usr/local/lib/python3.7/dist-packages (1.1.4)\n",
            "Requirement already satisfied: click<8.0,>=5.1 in /usr/local/lib/python3.7/dist-packages (from flask) (7.1.2)\n",
            "Requirement already satisfied: Jinja2<3.0,>=2.10.1 in /usr/local/lib/python3.7/dist-packages (from flask) (2.11.3)\n",
            "Requirement already satisfied: Werkzeug<2.0,>=0.15 in /usr/local/lib/python3.7/dist-packages (from flask) (1.0.1)\n",
            "Requirement already satisfied: itsdangerous<2.0,>=0.24 in /usr/local/lib/python3.7/dist-packages (from flask) (1.1.0)\n",
            "Requirement already satisfied: MarkupSafe>=0.23 in /usr/local/lib/python3.7/dist-packages (from Jinja2<3.0,>=2.10.1->flask) (2.0.1)\n"
          ]
        }
      ],
      "source": [
        "!pip install pandas\n",
        "!pip install numpy\n",
        "!pip install matplotlib\n",
        "!pip install seaborn\n",
        "!pip install joblib\n",
        "!pip install sklearn\n",
        "!pip install flask"
      ]
    },
    {
      "cell_type": "markdown",
      "metadata": {
        "id": "gV6_uZo00MtE"
      },
      "source": [
        "Import 套件"
      ]
    },
    {
      "cell_type": "code",
      "execution_count": null,
      "metadata": {
        "id": "iL2BEHyxzzVy"
      },
      "outputs": [],
      "source": [
        "# -*- coding: utf-8 -*-\n",
        "\n",
        "import pandas as pd\n",
        "import numpy as np\n",
        "import matplotlib.pyplot as plt\n",
        "import seaborn as sns\n",
        "import pandas as pd\n",
        "import numpy as np\n",
        "import os\n",
        "import glob\n",
        "from google.colab import drive"
      ]
    },
    {
      "cell_type": "markdown",
      "metadata": {
        "id": "nN4Kwboi-tEF"
      },
      "source": [
        "資料合併"
      ]
    },
    {
      "cell_type": "code",
      "execution_count": null,
      "metadata": {
        "colab": {
          "base_uri": "https://localhost:8080/",
          "height": 411
        },
        "id": "YrPQS2AA-pgH",
        "outputId": "3ce283f0-abba-434b-ce40-256fbc2236a8"
      },
      "outputs": [
        {
          "ename": "ValueError",
          "evalue": "ignored",
          "output_type": "error",
          "traceback": [
            "\u001b[0;31m---------------------------------------------------------------------------\u001b[0m",
            "\u001b[0;31mValueError\u001b[0m                                Traceback (most recent call last)",
            "\u001b[0;32m<ipython-input-3-487347afe464>\u001b[0m in \u001b[0;36m<module>\u001b[0;34m()\u001b[0m\n\u001b[1;32m      4\u001b[0m \u001b[0;34m\u001b[0m\u001b[0m\n\u001b[1;32m      5\u001b[0m \u001b[0;34m\u001b[0m\u001b[0m\n\u001b[0;32m----> 6\u001b[0;31m \u001b[0mdf_1\u001b[0m \u001b[0;34m=\u001b[0m \u001b[0mpd\u001b[0m\u001b[0;34m.\u001b[0m\u001b[0mconcat\u001b[0m\u001b[0;34m(\u001b[0m\u001b[0;34m(\u001b[0m\u001b[0mpd\u001b[0m\u001b[0;34m.\u001b[0m\u001b[0mread_csv\u001b[0m\u001b[0;34m(\u001b[0m\u001b[0mf\u001b[0m\u001b[0;34m)\u001b[0m \u001b[0;32mfor\u001b[0m \u001b[0mf\u001b[0m \u001b[0;32min\u001b[0m \u001b[0mdata\u001b[0m\u001b[0;34m)\u001b[0m\u001b[0;34m)\u001b[0m\u001b[0;34m\u001b[0m\u001b[0;34m\u001b[0m\u001b[0m\n\u001b[0m\u001b[1;32m      7\u001b[0m \u001b[0;34m\u001b[0m\u001b[0m\n\u001b[1;32m      8\u001b[0m \u001b[0mdf_1\u001b[0m\u001b[0;34m.\u001b[0m\u001b[0mto_csv\u001b[0m\u001b[0;34m(\u001b[0m\u001b[0;34m'./1_f.csv'\u001b[0m\u001b[0;34m,\u001b[0m\u001b[0mencoding\u001b[0m\u001b[0;34m=\u001b[0m\u001b[0;34m\"utf_8_sig\"\u001b[0m\u001b[0;34m,\u001b[0m\u001b[0mindex\u001b[0m\u001b[0;34m=\u001b[0m\u001b[0;32mFalse\u001b[0m\u001b[0;34m)\u001b[0m\u001b[0;34m\u001b[0m\u001b[0;34m\u001b[0m\u001b[0m\n",
            "\u001b[0;32m/usr/local/lib/python3.7/dist-packages/pandas/util/_decorators.py\u001b[0m in \u001b[0;36mwrapper\u001b[0;34m(*args, **kwargs)\u001b[0m\n\u001b[1;32m    309\u001b[0m                     \u001b[0mstacklevel\u001b[0m\u001b[0;34m=\u001b[0m\u001b[0mstacklevel\u001b[0m\u001b[0;34m,\u001b[0m\u001b[0;34m\u001b[0m\u001b[0;34m\u001b[0m\u001b[0m\n\u001b[1;32m    310\u001b[0m                 )\n\u001b[0;32m--> 311\u001b[0;31m             \u001b[0;32mreturn\u001b[0m \u001b[0mfunc\u001b[0m\u001b[0;34m(\u001b[0m\u001b[0;34m*\u001b[0m\u001b[0margs\u001b[0m\u001b[0;34m,\u001b[0m \u001b[0;34m**\u001b[0m\u001b[0mkwargs\u001b[0m\u001b[0;34m)\u001b[0m\u001b[0;34m\u001b[0m\u001b[0;34m\u001b[0m\u001b[0m\n\u001b[0m\u001b[1;32m    312\u001b[0m \u001b[0;34m\u001b[0m\u001b[0m\n\u001b[1;32m    313\u001b[0m         \u001b[0;32mreturn\u001b[0m \u001b[0mwrapper\u001b[0m\u001b[0;34m\u001b[0m\u001b[0;34m\u001b[0m\u001b[0m\n",
            "\u001b[0;32m/usr/local/lib/python3.7/dist-packages/pandas/core/reshape/concat.py\u001b[0m in \u001b[0;36mconcat\u001b[0;34m(objs, axis, join, ignore_index, keys, levels, names, verify_integrity, sort, copy)\u001b[0m\n\u001b[1;32m    302\u001b[0m         \u001b[0mverify_integrity\u001b[0m\u001b[0;34m=\u001b[0m\u001b[0mverify_integrity\u001b[0m\u001b[0;34m,\u001b[0m\u001b[0;34m\u001b[0m\u001b[0;34m\u001b[0m\u001b[0m\n\u001b[1;32m    303\u001b[0m         \u001b[0mcopy\u001b[0m\u001b[0;34m=\u001b[0m\u001b[0mcopy\u001b[0m\u001b[0;34m,\u001b[0m\u001b[0;34m\u001b[0m\u001b[0;34m\u001b[0m\u001b[0m\n\u001b[0;32m--> 304\u001b[0;31m         \u001b[0msort\u001b[0m\u001b[0;34m=\u001b[0m\u001b[0msort\u001b[0m\u001b[0;34m,\u001b[0m\u001b[0;34m\u001b[0m\u001b[0;34m\u001b[0m\u001b[0m\n\u001b[0m\u001b[1;32m    305\u001b[0m     )\n\u001b[1;32m    306\u001b[0m \u001b[0;34m\u001b[0m\u001b[0m\n",
            "\u001b[0;32m/usr/local/lib/python3.7/dist-packages/pandas/core/reshape/concat.py\u001b[0m in \u001b[0;36m__init__\u001b[0;34m(self, objs, axis, join, keys, levels, names, ignore_index, verify_integrity, copy, sort)\u001b[0m\n\u001b[1;32m    349\u001b[0m \u001b[0;34m\u001b[0m\u001b[0m\n\u001b[1;32m    350\u001b[0m         \u001b[0;32mif\u001b[0m \u001b[0mlen\u001b[0m\u001b[0;34m(\u001b[0m\u001b[0mobjs\u001b[0m\u001b[0;34m)\u001b[0m \u001b[0;34m==\u001b[0m \u001b[0;36m0\u001b[0m\u001b[0;34m:\u001b[0m\u001b[0;34m\u001b[0m\u001b[0;34m\u001b[0m\u001b[0m\n\u001b[0;32m--> 351\u001b[0;31m             \u001b[0;32mraise\u001b[0m \u001b[0mValueError\u001b[0m\u001b[0;34m(\u001b[0m\u001b[0;34m\"No objects to concatenate\"\u001b[0m\u001b[0;34m)\u001b[0m\u001b[0;34m\u001b[0m\u001b[0;34m\u001b[0m\u001b[0m\n\u001b[0m\u001b[1;32m    352\u001b[0m \u001b[0;34m\u001b[0m\u001b[0m\n\u001b[1;32m    353\u001b[0m         \u001b[0;32mif\u001b[0m \u001b[0mkeys\u001b[0m \u001b[0;32mis\u001b[0m \u001b[0;32mNone\u001b[0m\u001b[0;34m:\u001b[0m\u001b[0;34m\u001b[0m\u001b[0;34m\u001b[0m\u001b[0m\n",
            "\u001b[0;31mValueError\u001b[0m: No objects to concatenate"
          ]
        }
      ],
      "source": [
        "path_domestic = os.path.abspath(os.getcwd()) + '/data'\n",
        "root = \"/content/drive/MyDrive/1102/AI Machine learning/data\"\n",
        "data = glob.glob(os.path.join(root, \"*.csv\"))\n",
        "\n",
        "\n",
        "df_1 = pd.concat((pd.read_csv(f) for f in data))\n",
        "\n",
        "df_1.to_csv('./1_f.csv',encoding=\"utf_8_sig\",index=False)"
      ]
    },
    {
      "cell_type": "code",
      "execution_count": null,
      "metadata": {
        "colab": {
          "base_uri": "https://localhost:8080/"
        },
        "id": "NkIDJGHPb5QV",
        "outputId": "2e254271-9ab2-4bd3-8563-3a5237d7a70f"
      },
      "outputs": [
        {
          "name": "stdout",
          "output_type": "stream",
          "text": [
            "Mounted at /content/drive\n"
          ]
        }
      ],
      "source": [
        "from google.colab import drive\n",
        "drive.mount('/content/drive')"
      ]
    },
    {
      "cell_type": "markdown",
      "metadata": {
        "id": "3gcqCR3i0KTG"
      },
      "source": [
        "利用已取得的資料，讀取並存入讀取並存入data frame"
      ]
    },
    {
      "cell_type": "code",
      "execution_count": null,
      "metadata": {
        "id": "728lvtKO0ZUy"
      },
      "outputs": [],
      "source": [
        "df = pd.read_csv(\"./1_f.csv\")"
      ]
    },
    {
      "cell_type": "markdown",
      "metadata": {
        "id": "5HQsMVy-03Aq"
      },
      "source": [
        "Explore the data we have."
      ]
    },
    {
      "cell_type": "code",
      "execution_count": null,
      "metadata": {
        "colab": {
          "base_uri": "https://localhost:8080/",
          "height": 1000
        },
        "id": "Vz-7yive5YuQ",
        "outputId": "548e4a38-5caa-4baa-8a9e-58617f803978"
      },
      "outputs": [
        {
          "name": "stdout",
          "output_type": "stream",
          "text": [
            "<class 'pandas.core.frame.DataFrame'>\n",
            "RangeIndex: 854 entries, 0 to 853\n",
            "Data columns (total 36 columns):\n",
            " #   Column                                                                                                                                                                                                                                                                                                                                       Non-Null Count  Dtype  \n",
            "---  ------                                                                                                                                                                                                                                                                                                                                       --------------  -----  \n",
            " 0   ObsTime\tStnPres\tSeaPres\tStnPresMax\tStnPresMaxTime\tStnPresMin\tStnPresMinTime\tTemperature\tT Max\tT Max Time\tT Min\tT Min Time\tTd dew point\tRH\tRHMin\tRHMinTime\tWS\tWD\tWSGust\tWDGust\tWGustTime\tPrecp\tPrecpHour\tPrecpMax10\tPrecpMax10Time\tPrecpMax60\tPrecpMax60Time\tSunShine\tSunShineRate\tGloblRad\tVisbMean\tEvapA\tUVI Max\tUVI Max Time\tCloud Amount  366 non-null    object \n",
            " 1   ObsTime                                                                                                                                                                                                                                                                                                                                      488 non-null    float64\n",
            " 2   StnPres                                                                                                                                                                                                                                                                                                                                      488 non-null    float64\n",
            " 3   SeaPres                                                                                                                                                                                                                                                                                                                                      488 non-null    object \n",
            " 4   StnPresMax                                                                                                                                                                                                                                                                                                                                   488 non-null    object \n",
            " 5   StnPresMaxTime                                                                                                                                                                                                                                                                                                                               488 non-null    object \n",
            " 6   StnPresMin                                                                                                                                                                                                                                                                                                                                   488 non-null    object \n",
            " 7   StnPresMinTime                                                                                                                                                                                                                                                                                                                               488 non-null    object \n",
            " 8   Temperature                                                                                                                                                                                                                                                                                                                                  488 non-null    float64\n",
            " 9   T Max                                                                                                                                                                                                                                                                                                                                        488 non-null    object \n",
            " 10  T Max Time                                                                                                                                                                                                                                                                                                                                   488 non-null    object \n",
            " 11  T Min                                                                                                                                                                                                                                                                                                                                        488 non-null    object \n",
            " 12  T Min Time                                                                                                                                                                                                                                                                                                                                   488 non-null    object \n",
            " 13  Td dew point                                                                                                                                                                                                                                                                                                                                 488 non-null    object \n",
            " 14  RH                                                                                                                                                                                                                                                                                                                                           488 non-null    float64\n",
            " 15  RHMin                                                                                                                                                                                                                                                                                                                                        488 non-null    object \n",
            " 16  RHMinTime                                                                                                                                                                                                                                                                                                                                    488 non-null    object \n",
            " 17  WS                                                                                                                                                                                                                                                                                                                                           488 non-null    float64\n",
            " 18  WD                                                                                                                                                                                                                                                                                                                                           488 non-null    float64\n",
            " 19  WSGust                                                                                                                                                                                                                                                                                                                                       488 non-null    object \n",
            " 20  WDGust                                                                                                                                                                                                                                                                                                                                       488 non-null    object \n",
            " 21  WGustTime                                                                                                                                                                                                                                                                                                                                    488 non-null    object \n",
            " 22  Precp                                                                                                                                                                                                                                                                                                                                        488 non-null    float64\n",
            " 23  PrecpHour                                                                                                                                                                                                                                                                                                                                    488 non-null    object \n",
            " 24  PrecpMax10                                                                                                                                                                                                                                                                                                                                   488 non-null    object \n",
            " 25  PrecpMax10Time                                                                                                                                                                                                                                                                                                                               488 non-null    object \n",
            " 26  PrecpMax60                                                                                                                                                                                                                                                                                                                                   488 non-null    object \n",
            " 27  PrecpMax60Time                                                                                                                                                                                                                                                                                                                               488 non-null    object \n",
            " 28  SunShine                                                                                                                                                                                                                                                                                                                                     488 non-null    object \n",
            " 29  SunShineRate                                                                                                                                                                                                                                                                                                                                 488 non-null    object \n",
            " 30  GloblRad                                                                                                                                                                                                                                                                                                                                     488 non-null    object \n",
            " 31  VisbMean                                                                                                                                                                                                                                                                                                                                     488 non-null    object \n",
            " 32  EvapA                                                                                                                                                                                                                                                                                                                                        488 non-null    object \n",
            " 33  UVI Max                                                                                                                                                                                                                                                                                                                                      488 non-null    object \n",
            " 34  UVI Max Time                                                                                                                                                                                                                                                                                                                                 488 non-null    object \n",
            " 35  Cloud Amount                                                                                                                                                                                                                                                                                                                                 488 non-null    object \n",
            "dtypes: float64(7), object(29)\n",
            "memory usage: 240.3+ KB\n"
          ]
        },
        {
          "data": {
            "text/html": [
              "\n",
              "  <div id=\"df-720f87bc-bc82-40a1-893a-b2cc79df567b\">\n",
              "    <div class=\"colab-df-container\">\n",
              "      <div>\n",
              "<style scoped>\n",
              "    .dataframe tbody tr th:only-of-type {\n",
              "        vertical-align: middle;\n",
              "    }\n",
              "\n",
              "    .dataframe tbody tr th {\n",
              "        vertical-align: top;\n",
              "    }\n",
              "\n",
              "    .dataframe thead th {\n",
              "        text-align: right;\n",
              "    }\n",
              "</style>\n",
              "<table border=\"1\" class=\"dataframe\">\n",
              "  <thead>\n",
              "    <tr style=\"text-align: right;\">\n",
              "      <th></th>\n",
              "      <th>count</th>\n",
              "      <th>mean</th>\n",
              "      <th>std</th>\n",
              "      <th>min</th>\n",
              "      <th>25%</th>\n",
              "      <th>50%</th>\n",
              "      <th>75%</th>\n",
              "      <th>max</th>\n",
              "    </tr>\n",
              "  </thead>\n",
              "  <tbody>\n",
              "    <tr>\n",
              "      <th>ObsTime</th>\n",
              "      <td>488.0</td>\n",
              "      <td>15.754098</td>\n",
              "      <td>8.815994</td>\n",
              "      <td>1.0</td>\n",
              "      <td>8.0</td>\n",
              "      <td>16.00</td>\n",
              "      <td>23.0</td>\n",
              "      <td>31.0</td>\n",
              "    </tr>\n",
              "    <tr>\n",
              "      <th>StnPres</th>\n",
              "      <td>488.0</td>\n",
              "      <td>984.998770</td>\n",
              "      <td>2.947633</td>\n",
              "      <td>973.8</td>\n",
              "      <td>983.3</td>\n",
              "      <td>985.35</td>\n",
              "      <td>987.0</td>\n",
              "      <td>993.3</td>\n",
              "    </tr>\n",
              "    <tr>\n",
              "      <th>Temperature</th>\n",
              "      <td>488.0</td>\n",
              "      <td>25.065369</td>\n",
              "      <td>2.730745</td>\n",
              "      <td>15.6</td>\n",
              "      <td>23.1</td>\n",
              "      <td>25.50</td>\n",
              "      <td>27.3</td>\n",
              "      <td>29.9</td>\n",
              "    </tr>\n",
              "    <tr>\n",
              "      <th>RH</th>\n",
              "      <td>488.0</td>\n",
              "      <td>79.391393</td>\n",
              "      <td>10.112940</td>\n",
              "      <td>37.0</td>\n",
              "      <td>73.0</td>\n",
              "      <td>79.00</td>\n",
              "      <td>86.0</td>\n",
              "      <td>100.0</td>\n",
              "    </tr>\n",
              "    <tr>\n",
              "      <th>WS</th>\n",
              "      <td>488.0</td>\n",
              "      <td>1.473770</td>\n",
              "      <td>0.912613</td>\n",
              "      <td>0.0</td>\n",
              "      <td>0.8</td>\n",
              "      <td>1.20</td>\n",
              "      <td>1.9</td>\n",
              "      <td>5.7</td>\n",
              "    </tr>\n",
              "    <tr>\n",
              "      <th>WD</th>\n",
              "      <td>488.0</td>\n",
              "      <td>142.192623</td>\n",
              "      <td>101.134122</td>\n",
              "      <td>0.0</td>\n",
              "      <td>35.0</td>\n",
              "      <td>204.00</td>\n",
              "      <td>226.0</td>\n",
              "      <td>360.0</td>\n",
              "    </tr>\n",
              "    <tr>\n",
              "      <th>Precp</th>\n",
              "      <td>488.0</td>\n",
              "      <td>8.785861</td>\n",
              "      <td>23.973179</td>\n",
              "      <td>0.0</td>\n",
              "      <td>0.0</td>\n",
              "      <td>0.00</td>\n",
              "      <td>5.5</td>\n",
              "      <td>312.0</td>\n",
              "    </tr>\n",
              "  </tbody>\n",
              "</table>\n",
              "</div>\n",
              "      <button class=\"colab-df-convert\" onclick=\"convertToInteractive('df-720f87bc-bc82-40a1-893a-b2cc79df567b')\"\n",
              "              title=\"Convert this dataframe to an interactive table.\"\n",
              "              style=\"display:none;\">\n",
              "        \n",
              "  <svg xmlns=\"http://www.w3.org/2000/svg\" height=\"24px\"viewBox=\"0 0 24 24\"\n",
              "       width=\"24px\">\n",
              "    <path d=\"M0 0h24v24H0V0z\" fill=\"none\"/>\n",
              "    <path d=\"M18.56 5.44l.94 2.06.94-2.06 2.06-.94-2.06-.94-.94-2.06-.94 2.06-2.06.94zm-11 1L8.5 8.5l.94-2.06 2.06-.94-2.06-.94L8.5 2.5l-.94 2.06-2.06.94zm10 10l.94 2.06.94-2.06 2.06-.94-2.06-.94-.94-2.06-.94 2.06-2.06.94z\"/><path d=\"M17.41 7.96l-1.37-1.37c-.4-.4-.92-.59-1.43-.59-.52 0-1.04.2-1.43.59L10.3 9.45l-7.72 7.72c-.78.78-.78 2.05 0 2.83L4 21.41c.39.39.9.59 1.41.59.51 0 1.02-.2 1.41-.59l7.78-7.78 2.81-2.81c.8-.78.8-2.07 0-2.86zM5.41 20L4 18.59l7.72-7.72 1.47 1.35L5.41 20z\"/>\n",
              "  </svg>\n",
              "      </button>\n",
              "      \n",
              "  <style>\n",
              "    .colab-df-container {\n",
              "      display:flex;\n",
              "      flex-wrap:wrap;\n",
              "      gap: 12px;\n",
              "    }\n",
              "\n",
              "    .colab-df-convert {\n",
              "      background-color: #E8F0FE;\n",
              "      border: none;\n",
              "      border-radius: 50%;\n",
              "      cursor: pointer;\n",
              "      display: none;\n",
              "      fill: #1967D2;\n",
              "      height: 32px;\n",
              "      padding: 0 0 0 0;\n",
              "      width: 32px;\n",
              "    }\n",
              "\n",
              "    .colab-df-convert:hover {\n",
              "      background-color: #E2EBFA;\n",
              "      box-shadow: 0px 1px 2px rgba(60, 64, 67, 0.3), 0px 1px 3px 1px rgba(60, 64, 67, 0.15);\n",
              "      fill: #174EA6;\n",
              "    }\n",
              "\n",
              "    [theme=dark] .colab-df-convert {\n",
              "      background-color: #3B4455;\n",
              "      fill: #D2E3FC;\n",
              "    }\n",
              "\n",
              "    [theme=dark] .colab-df-convert:hover {\n",
              "      background-color: #434B5C;\n",
              "      box-shadow: 0px 1px 3px 1px rgba(0, 0, 0, 0.15);\n",
              "      filter: drop-shadow(0px 1px 2px rgba(0, 0, 0, 0.3));\n",
              "      fill: #FFFFFF;\n",
              "    }\n",
              "  </style>\n",
              "\n",
              "      <script>\n",
              "        const buttonEl =\n",
              "          document.querySelector('#df-720f87bc-bc82-40a1-893a-b2cc79df567b button.colab-df-convert');\n",
              "        buttonEl.style.display =\n",
              "          google.colab.kernel.accessAllowed ? 'block' : 'none';\n",
              "\n",
              "        async function convertToInteractive(key) {\n",
              "          const element = document.querySelector('#df-720f87bc-bc82-40a1-893a-b2cc79df567b');\n",
              "          const dataTable =\n",
              "            await google.colab.kernel.invokeFunction('convertToInteractive',\n",
              "                                                     [key], {});\n",
              "          if (!dataTable) return;\n",
              "\n",
              "          const docLinkHtml = 'Like what you see? Visit the ' +\n",
              "            '<a target=\"_blank\" href=https://colab.research.google.com/notebooks/data_table.ipynb>data table notebook</a>'\n",
              "            + ' to learn more about interactive tables.';\n",
              "          element.innerHTML = '';\n",
              "          dataTable['output_type'] = 'display_data';\n",
              "          await google.colab.output.renderOutput(dataTable, element);\n",
              "          const docLink = document.createElement('div');\n",
              "          docLink.innerHTML = docLinkHtml;\n",
              "          element.appendChild(docLink);\n",
              "        }\n",
              "      </script>\n",
              "    </div>\n",
              "  </div>\n",
              "  "
            ],
            "text/plain": [
              "             count        mean         std    min    25%     50%    75%    max\n",
              "ObsTime      488.0   15.754098    8.815994    1.0    8.0   16.00   23.0   31.0\n",
              "StnPres      488.0  984.998770    2.947633  973.8  983.3  985.35  987.0  993.3\n",
              "Temperature  488.0   25.065369    2.730745   15.6   23.1   25.50   27.3   29.9\n",
              "RH           488.0   79.391393   10.112940   37.0   73.0   79.00   86.0  100.0\n",
              "WS           488.0    1.473770    0.912613    0.0    0.8    1.20    1.9    5.7\n",
              "WD           488.0  142.192623  101.134122    0.0   35.0  204.00  226.0  360.0\n",
              "Precp        488.0    8.785861   23.973179    0.0    0.0    0.00    5.5  312.0"
            ]
          },
          "execution_count": 7,
          "metadata": {},
          "output_type": "execute_result"
        }
      ],
      "source": [
        "df.info()\n",
        "df.head()\n",
        "df.describe().T"
      ]
    },
    {
      "cell_type": "markdown",
      "metadata": {
        "id": "f7uh_4h95zgw"
      },
      "source": [
        "由上看出有些資料我們並不需要，因此我們加以整理，因此移除我們覺得不需要的變數"
      ]
    },
    {
      "cell_type": "code",
      "execution_count": null,
      "metadata": {
        "id": "OUMBgCkT02Kv"
      },
      "outputs": [],
      "source": [
        "df.drop(['ObsTime', 'SeaPres', 'StnPresMaxTime', 'StnPresMinTime'], axis = 1, inplace = True)\n",
        "df.drop(['T Max Time', 'T Min Time', 'Td dew point'], axis = 1, inplace = True)\n",
        "df.drop(['RHMinTime', 'WGustTime'], axis = 1, inplace = True)\n",
        "df.drop(['PrecpHour', 'PrecpMax10', 'PrecpMax10Time', 'PrecpMax60', 'PrecpMax60Time'], axis = 1, inplace = True)\n",
        "df.drop(['SunShine', 'SunShineRate', 'GloblRad', 'VisbMean'], axis = 1, inplace = True)\n",
        "df.drop(['EvapA', 'UVI Max', 'UVI Max Time', 'Cloud Amount'], axis = 1, inplace = True) "
      ]
    },
    {
      "cell_type": "markdown",
      "metadata": {
        "id": "1njUSBiB6MrS"
      },
      "source": [
        "再觀察一下我們的資料"
      ]
    },
    {
      "cell_type": "code",
      "execution_count": null,
      "metadata": {
        "colab": {
          "base_uri": "https://localhost:8080/"
        },
        "id": "1CbwaK9k6L11",
        "outputId": "8c9a4672-e2cd-4c77-da35-b4c720a3a1fa"
      },
      "outputs": [
        {
          "name": "stdout",
          "output_type": "stream",
          "text": [
            "<class 'pandas.core.frame.DataFrame'>\n",
            "RangeIndex: 854 entries, 0 to 853\n",
            "Data columns (total 14 columns):\n",
            " #   Column                                                                                                                                                                                                                                                                                                                                       Non-Null Count  Dtype  \n",
            "---  ------                                                                                                                                                                                                                                                                                                                                       --------------  -----  \n",
            " 0   ObsTime\tStnPres\tSeaPres\tStnPresMax\tStnPresMaxTime\tStnPresMin\tStnPresMinTime\tTemperature\tT Max\tT Max Time\tT Min\tT Min Time\tTd dew point\tRH\tRHMin\tRHMinTime\tWS\tWD\tWSGust\tWDGust\tWGustTime\tPrecp\tPrecpHour\tPrecpMax10\tPrecpMax10Time\tPrecpMax60\tPrecpMax60Time\tSunShine\tSunShineRate\tGloblRad\tVisbMean\tEvapA\tUVI Max\tUVI Max Time\tCloud Amount  366 non-null    object \n",
            " 1   StnPres                                                                                                                                                                                                                                                                                                                                      488 non-null    float64\n",
            " 2   StnPresMax                                                                                                                                                                                                                                                                                                                                   488 non-null    object \n",
            " 3   StnPresMin                                                                                                                                                                                                                                                                                                                                   488 non-null    object \n",
            " 4   Temperature                                                                                                                                                                                                                                                                                                                                  488 non-null    float64\n",
            " 5   T Max                                                                                                                                                                                                                                                                                                                                        488 non-null    object \n",
            " 6   T Min                                                                                                                                                                                                                                                                                                                                        488 non-null    object \n",
            " 7   RH                                                                                                                                                                                                                                                                                                                                           488 non-null    float64\n",
            " 8   RHMin                                                                                                                                                                                                                                                                                                                                        488 non-null    object \n",
            " 9   WS                                                                                                                                                                                                                                                                                                                                           488 non-null    float64\n",
            " 10  WD                                                                                                                                                                                                                                                                                                                                           488 non-null    float64\n",
            " 11  WSGust                                                                                                                                                                                                                                                                                                                                       488 non-null    object \n",
            " 12  WDGust                                                                                                                                                                                                                                                                                                                                       488 non-null    object \n",
            " 13  Precp                                                                                                                                                                                                                                                                                                                                        488 non-null    float64\n",
            "dtypes: float64(6), object(8)\n",
            "memory usage: 93.5+ KB\n"
          ]
        }
      ],
      "source": [
        "df.info()"
      ]
    },
    {
      "cell_type": "markdown",
      "metadata": {
        "id": "XhOR_qjo07ya"
      },
      "source": [
        "首先我們看到幾乎所有資料的型態都為object並且都沒有缺失值，因此我們要對此處理，結果發現轉換不了，有些原始資料的缺失值會以「...」的方式補齊，所以我們要先把「...」先替代掉，再把data type轉換成轉換成float。"
      ]
    },
    {
      "cell_type": "code",
      "execution_count": null,
      "metadata": {
        "colab": {
          "base_uri": "https://localhost:8080/",
          "height": 307
        },
        "id": "gny7aWvqcUmy",
        "outputId": "62985851-9319-46cf-cddf-3d84d2dd5348"
      },
      "outputs": [
        {
          "ename": "KeyError",
          "evalue": "ignored",
          "output_type": "error",
          "traceback": [
            "\u001b[0;31m---------------------------------------------------------------------------\u001b[0m",
            "\u001b[0;31mKeyError\u001b[0m                                  Traceback (most recent call last)",
            "\u001b[0;32m<ipython-input-13-8debd436b4dc>\u001b[0m in \u001b[0;36m<module>\u001b[0;34m()\u001b[0m\n\u001b[0;32m----> 1\u001b[0;31m \u001b[0mdf\u001b[0m\u001b[0;34m.\u001b[0m\u001b[0mdrop\u001b[0m\u001b[0;34m(\u001b[0m\u001b[0;34m[\u001b[0m\u001b[0;34m'ObsTime'\u001b[0m\u001b[0;34m]\u001b[0m\u001b[0;34m,\u001b[0m \u001b[0maxis\u001b[0m \u001b[0;34m=\u001b[0m \u001b[0;36m1\u001b[0m\u001b[0;34m,\u001b[0m \u001b[0minplace\u001b[0m \u001b[0;34m=\u001b[0m \u001b[0;32mTrue\u001b[0m\u001b[0;34m)\u001b[0m\u001b[0;34m\u001b[0m\u001b[0;34m\u001b[0m\u001b[0m\n\u001b[0m",
            "\u001b[0;32m/usr/local/lib/python3.7/dist-packages/pandas/util/_decorators.py\u001b[0m in \u001b[0;36mwrapper\u001b[0;34m(*args, **kwargs)\u001b[0m\n\u001b[1;32m    309\u001b[0m                     \u001b[0mstacklevel\u001b[0m\u001b[0;34m=\u001b[0m\u001b[0mstacklevel\u001b[0m\u001b[0;34m,\u001b[0m\u001b[0;34m\u001b[0m\u001b[0;34m\u001b[0m\u001b[0m\n\u001b[1;32m    310\u001b[0m                 )\n\u001b[0;32m--> 311\u001b[0;31m             \u001b[0;32mreturn\u001b[0m \u001b[0mfunc\u001b[0m\u001b[0;34m(\u001b[0m\u001b[0;34m*\u001b[0m\u001b[0margs\u001b[0m\u001b[0;34m,\u001b[0m \u001b[0;34m**\u001b[0m\u001b[0mkwargs\u001b[0m\u001b[0;34m)\u001b[0m\u001b[0;34m\u001b[0m\u001b[0;34m\u001b[0m\u001b[0m\n\u001b[0m\u001b[1;32m    312\u001b[0m \u001b[0;34m\u001b[0m\u001b[0m\n\u001b[1;32m    313\u001b[0m         \u001b[0;32mreturn\u001b[0m \u001b[0mwrapper\u001b[0m\u001b[0;34m\u001b[0m\u001b[0;34m\u001b[0m\u001b[0m\n",
            "\u001b[0;32m/usr/local/lib/python3.7/dist-packages/pandas/core/frame.py\u001b[0m in \u001b[0;36mdrop\u001b[0;34m(self, labels, axis, index, columns, level, inplace, errors)\u001b[0m\n\u001b[1;32m   4911\u001b[0m             \u001b[0mlevel\u001b[0m\u001b[0;34m=\u001b[0m\u001b[0mlevel\u001b[0m\u001b[0;34m,\u001b[0m\u001b[0;34m\u001b[0m\u001b[0;34m\u001b[0m\u001b[0m\n\u001b[1;32m   4912\u001b[0m             \u001b[0minplace\u001b[0m\u001b[0;34m=\u001b[0m\u001b[0minplace\u001b[0m\u001b[0;34m,\u001b[0m\u001b[0;34m\u001b[0m\u001b[0;34m\u001b[0m\u001b[0m\n\u001b[0;32m-> 4913\u001b[0;31m             \u001b[0merrors\u001b[0m\u001b[0;34m=\u001b[0m\u001b[0merrors\u001b[0m\u001b[0;34m,\u001b[0m\u001b[0;34m\u001b[0m\u001b[0;34m\u001b[0m\u001b[0m\n\u001b[0m\u001b[1;32m   4914\u001b[0m         )\n\u001b[1;32m   4915\u001b[0m \u001b[0;34m\u001b[0m\u001b[0m\n",
            "\u001b[0;32m/usr/local/lib/python3.7/dist-packages/pandas/core/generic.py\u001b[0m in \u001b[0;36mdrop\u001b[0;34m(self, labels, axis, index, columns, level, inplace, errors)\u001b[0m\n\u001b[1;32m   4148\u001b[0m         \u001b[0;32mfor\u001b[0m \u001b[0maxis\u001b[0m\u001b[0;34m,\u001b[0m \u001b[0mlabels\u001b[0m \u001b[0;32min\u001b[0m \u001b[0maxes\u001b[0m\u001b[0;34m.\u001b[0m\u001b[0mitems\u001b[0m\u001b[0;34m(\u001b[0m\u001b[0;34m)\u001b[0m\u001b[0;34m:\u001b[0m\u001b[0;34m\u001b[0m\u001b[0;34m\u001b[0m\u001b[0m\n\u001b[1;32m   4149\u001b[0m             \u001b[0;32mif\u001b[0m \u001b[0mlabels\u001b[0m \u001b[0;32mis\u001b[0m \u001b[0;32mnot\u001b[0m \u001b[0;32mNone\u001b[0m\u001b[0;34m:\u001b[0m\u001b[0;34m\u001b[0m\u001b[0;34m\u001b[0m\u001b[0m\n\u001b[0;32m-> 4150\u001b[0;31m                 \u001b[0mobj\u001b[0m \u001b[0;34m=\u001b[0m \u001b[0mobj\u001b[0m\u001b[0;34m.\u001b[0m\u001b[0m_drop_axis\u001b[0m\u001b[0;34m(\u001b[0m\u001b[0mlabels\u001b[0m\u001b[0;34m,\u001b[0m \u001b[0maxis\u001b[0m\u001b[0;34m,\u001b[0m \u001b[0mlevel\u001b[0m\u001b[0;34m=\u001b[0m\u001b[0mlevel\u001b[0m\u001b[0;34m,\u001b[0m \u001b[0merrors\u001b[0m\u001b[0;34m=\u001b[0m\u001b[0merrors\u001b[0m\u001b[0;34m)\u001b[0m\u001b[0;34m\u001b[0m\u001b[0;34m\u001b[0m\u001b[0m\n\u001b[0m\u001b[1;32m   4151\u001b[0m \u001b[0;34m\u001b[0m\u001b[0m\n\u001b[1;32m   4152\u001b[0m         \u001b[0;32mif\u001b[0m \u001b[0minplace\u001b[0m\u001b[0;34m:\u001b[0m\u001b[0;34m\u001b[0m\u001b[0;34m\u001b[0m\u001b[0m\n",
            "\u001b[0;32m/usr/local/lib/python3.7/dist-packages/pandas/core/generic.py\u001b[0m in \u001b[0;36m_drop_axis\u001b[0;34m(self, labels, axis, level, errors)\u001b[0m\n\u001b[1;32m   4183\u001b[0m                 \u001b[0mnew_axis\u001b[0m \u001b[0;34m=\u001b[0m \u001b[0maxis\u001b[0m\u001b[0;34m.\u001b[0m\u001b[0mdrop\u001b[0m\u001b[0;34m(\u001b[0m\u001b[0mlabels\u001b[0m\u001b[0;34m,\u001b[0m \u001b[0mlevel\u001b[0m\u001b[0;34m=\u001b[0m\u001b[0mlevel\u001b[0m\u001b[0;34m,\u001b[0m \u001b[0merrors\u001b[0m\u001b[0;34m=\u001b[0m\u001b[0merrors\u001b[0m\u001b[0;34m)\u001b[0m\u001b[0;34m\u001b[0m\u001b[0;34m\u001b[0m\u001b[0m\n\u001b[1;32m   4184\u001b[0m             \u001b[0;32melse\u001b[0m\u001b[0;34m:\u001b[0m\u001b[0;34m\u001b[0m\u001b[0;34m\u001b[0m\u001b[0m\n\u001b[0;32m-> 4185\u001b[0;31m                 \u001b[0mnew_axis\u001b[0m \u001b[0;34m=\u001b[0m \u001b[0maxis\u001b[0m\u001b[0;34m.\u001b[0m\u001b[0mdrop\u001b[0m\u001b[0;34m(\u001b[0m\u001b[0mlabels\u001b[0m\u001b[0;34m,\u001b[0m \u001b[0merrors\u001b[0m\u001b[0;34m=\u001b[0m\u001b[0merrors\u001b[0m\u001b[0;34m)\u001b[0m\u001b[0;34m\u001b[0m\u001b[0;34m\u001b[0m\u001b[0m\n\u001b[0m\u001b[1;32m   4186\u001b[0m             \u001b[0mresult\u001b[0m \u001b[0;34m=\u001b[0m \u001b[0mself\u001b[0m\u001b[0;34m.\u001b[0m\u001b[0mreindex\u001b[0m\u001b[0;34m(\u001b[0m\u001b[0;34m**\u001b[0m\u001b[0;34m{\u001b[0m\u001b[0maxis_name\u001b[0m\u001b[0;34m:\u001b[0m \u001b[0mnew_axis\u001b[0m\u001b[0;34m}\u001b[0m\u001b[0;34m)\u001b[0m\u001b[0;34m\u001b[0m\u001b[0;34m\u001b[0m\u001b[0m\n\u001b[1;32m   4187\u001b[0m \u001b[0;34m\u001b[0m\u001b[0m\n",
            "\u001b[0;32m/usr/local/lib/python3.7/dist-packages/pandas/core/indexes/base.py\u001b[0m in \u001b[0;36mdrop\u001b[0;34m(self, labels, errors)\u001b[0m\n\u001b[1;32m   6015\u001b[0m         \u001b[0;32mif\u001b[0m \u001b[0mmask\u001b[0m\u001b[0;34m.\u001b[0m\u001b[0many\u001b[0m\u001b[0;34m(\u001b[0m\u001b[0;34m)\u001b[0m\u001b[0;34m:\u001b[0m\u001b[0;34m\u001b[0m\u001b[0;34m\u001b[0m\u001b[0m\n\u001b[1;32m   6016\u001b[0m             \u001b[0;32mif\u001b[0m \u001b[0merrors\u001b[0m \u001b[0;34m!=\u001b[0m \u001b[0;34m\"ignore\"\u001b[0m\u001b[0;34m:\u001b[0m\u001b[0;34m\u001b[0m\u001b[0;34m\u001b[0m\u001b[0m\n\u001b[0;32m-> 6017\u001b[0;31m                 \u001b[0;32mraise\u001b[0m \u001b[0mKeyError\u001b[0m\u001b[0;34m(\u001b[0m\u001b[0;34mf\"{labels[mask]} not found in axis\"\u001b[0m\u001b[0;34m)\u001b[0m\u001b[0;34m\u001b[0m\u001b[0;34m\u001b[0m\u001b[0m\n\u001b[0m\u001b[1;32m   6018\u001b[0m             \u001b[0mindexer\u001b[0m \u001b[0;34m=\u001b[0m \u001b[0mindexer\u001b[0m\u001b[0;34m[\u001b[0m\u001b[0;34m~\u001b[0m\u001b[0mmask\u001b[0m\u001b[0;34m]\u001b[0m\u001b[0;34m\u001b[0m\u001b[0;34m\u001b[0m\u001b[0m\n\u001b[1;32m   6019\u001b[0m         \u001b[0;32mreturn\u001b[0m \u001b[0mself\u001b[0m\u001b[0;34m.\u001b[0m\u001b[0mdelete\u001b[0m\u001b[0;34m(\u001b[0m\u001b[0mindexer\u001b[0m\u001b[0;34m)\u001b[0m\u001b[0;34m\u001b[0m\u001b[0;34m\u001b[0m\u001b[0m\n",
            "\u001b[0;31mKeyError\u001b[0m: \"['ObsTime'] not found in axis\""
          ]
        }
      ],
      "source": [
        "df.drop(['ObsTime'], axis = 1, inplace = True)"
      ]
    },
    {
      "cell_type": "code",
      "execution_count": null,
      "metadata": {
        "colab": {
          "base_uri": "https://localhost:8080/",
          "height": 429
        },
        "id": "6dB_Pdhc06VA",
        "outputId": "eabb4713-ce8a-4304-fad4-b99c6cec6cfb"
      },
      "outputs": [
        {
          "name": "stderr",
          "output_type": "stream",
          "text": [
            "/usr/local/lib/python3.7/dist-packages/ipykernel_launcher.py:3: DeprecationWarning: `np.float` is a deprecated alias for the builtin `float`. To silence this warning, use `float` by itself. Doing this will not modify any behavior and is safe. If you specifically wanted the numpy scalar type, use `np.float64` here.\n",
            "Deprecated in NumPy 1.20; for more details and guidance: https://numpy.org/devdocs/release/1.20.0-notes.html#deprecations\n",
            "  This is separate from the ipykernel package so we can avoid doing imports until\n"
          ]
        },
        {
          "ename": "ValueError",
          "evalue": "ignored",
          "output_type": "error",
          "traceback": [
            "\u001b[0;31m---------------------------------------------------------------------------\u001b[0m",
            "\u001b[0;31mValueError\u001b[0m                                Traceback (most recent call last)",
            "\u001b[0;32m<ipython-input-12-221bdfcf1532>\u001b[0m in \u001b[0;36m<module>\u001b[0;34m()\u001b[0m\n\u001b[1;32m      1\u001b[0m \u001b[0mdf\u001b[0m \u001b[0;34m=\u001b[0m \u001b[0mdf\u001b[0m\u001b[0;34m.\u001b[0m\u001b[0mreplace\u001b[0m\u001b[0;34m(\u001b[0m\u001b[0;34m'...'\u001b[0m\u001b[0;34m,\u001b[0m\u001b[0;34m'-999.0'\u001b[0m\u001b[0;34m)\u001b[0m\u001b[0;34m\u001b[0m\u001b[0;34m\u001b[0m\u001b[0m\n\u001b[1;32m      2\u001b[0m \u001b[0mdf\u001b[0m \u001b[0;34m=\u001b[0m \u001b[0mdf\u001b[0m\u001b[0;34m.\u001b[0m\u001b[0mreplace\u001b[0m\u001b[0;34m(\u001b[0m\u001b[0;34m'/'\u001b[0m\u001b[0;34m,\u001b[0m\u001b[0;34m'-999.0'\u001b[0m\u001b[0;34m)\u001b[0m\u001b[0;34m\u001b[0m\u001b[0;34m\u001b[0m\u001b[0m\n\u001b[0;32m----> 3\u001b[0;31m \u001b[0mdf\u001b[0m \u001b[0;34m=\u001b[0m \u001b[0mpd\u001b[0m\u001b[0;34m.\u001b[0m\u001b[0mDataFrame\u001b[0m\u001b[0;34m(\u001b[0m\u001b[0mdf\u001b[0m\u001b[0;34m,\u001b[0m \u001b[0mdtype\u001b[0m \u001b[0;34m=\u001b[0m \u001b[0mnp\u001b[0m\u001b[0;34m.\u001b[0m\u001b[0mfloat\u001b[0m\u001b[0;34m)\u001b[0m\u001b[0;34m\u001b[0m\u001b[0;34m\u001b[0m\u001b[0m\n\u001b[0m",
            "\u001b[0;32m/usr/local/lib/python3.7/dist-packages/pandas/core/frame.py\u001b[0m in \u001b[0;36m__init__\u001b[0;34m(self, data, index, columns, dtype, copy)\u001b[0m\n\u001b[1;32m    607\u001b[0m         \u001b[0;32mif\u001b[0m \u001b[0misinstance\u001b[0m\u001b[0;34m(\u001b[0m\u001b[0mdata\u001b[0m\u001b[0;34m,\u001b[0m \u001b[0;34m(\u001b[0m\u001b[0mBlockManager\u001b[0m\u001b[0;34m,\u001b[0m \u001b[0mArrayManager\u001b[0m\u001b[0;34m)\u001b[0m\u001b[0;34m)\u001b[0m\u001b[0;34m:\u001b[0m\u001b[0;34m\u001b[0m\u001b[0;34m\u001b[0m\u001b[0m\n\u001b[1;32m    608\u001b[0m             mgr = self._init_mgr(\n\u001b[0;32m--> 609\u001b[0;31m                 \u001b[0mdata\u001b[0m\u001b[0;34m,\u001b[0m \u001b[0maxes\u001b[0m\u001b[0;34m=\u001b[0m\u001b[0;34m{\u001b[0m\u001b[0;34m\"index\"\u001b[0m\u001b[0;34m:\u001b[0m \u001b[0mindex\u001b[0m\u001b[0;34m,\u001b[0m \u001b[0;34m\"columns\"\u001b[0m\u001b[0;34m:\u001b[0m \u001b[0mcolumns\u001b[0m\u001b[0;34m}\u001b[0m\u001b[0;34m,\u001b[0m \u001b[0mdtype\u001b[0m\u001b[0;34m=\u001b[0m\u001b[0mdtype\u001b[0m\u001b[0;34m,\u001b[0m \u001b[0mcopy\u001b[0m\u001b[0;34m=\u001b[0m\u001b[0mcopy\u001b[0m\u001b[0;34m\u001b[0m\u001b[0;34m\u001b[0m\u001b[0m\n\u001b[0m\u001b[1;32m    610\u001b[0m             )\n\u001b[1;32m    611\u001b[0m \u001b[0;34m\u001b[0m\u001b[0m\n",
            "\u001b[0;32m/usr/local/lib/python3.7/dist-packages/pandas/core/generic.py\u001b[0m in \u001b[0;36m_init_mgr\u001b[0;34m(cls, mgr, axes, dtype, copy)\u001b[0m\n\u001b[1;32m    276\u001b[0m                 \u001b[0;32mpass\u001b[0m\u001b[0;34m\u001b[0m\u001b[0;34m\u001b[0m\u001b[0m\n\u001b[1;32m    277\u001b[0m             \u001b[0;32melse\u001b[0m\u001b[0;34m:\u001b[0m\u001b[0;34m\u001b[0m\u001b[0;34m\u001b[0m\u001b[0m\n\u001b[0;32m--> 278\u001b[0;31m                 \u001b[0mmgr\u001b[0m \u001b[0;34m=\u001b[0m \u001b[0mmgr\u001b[0m\u001b[0;34m.\u001b[0m\u001b[0mastype\u001b[0m\u001b[0;34m(\u001b[0m\u001b[0mdtype\u001b[0m\u001b[0;34m=\u001b[0m\u001b[0mdtype\u001b[0m\u001b[0;34m)\u001b[0m\u001b[0;34m\u001b[0m\u001b[0;34m\u001b[0m\u001b[0m\n\u001b[0m\u001b[1;32m    279\u001b[0m         \u001b[0;32mreturn\u001b[0m \u001b[0mmgr\u001b[0m\u001b[0;34m\u001b[0m\u001b[0;34m\u001b[0m\u001b[0m\n\u001b[1;32m    280\u001b[0m \u001b[0;34m\u001b[0m\u001b[0m\n",
            "\u001b[0;32m/usr/local/lib/python3.7/dist-packages/pandas/core/internals/managers.py\u001b[0m in \u001b[0;36mastype\u001b[0;34m(self, dtype, copy, errors)\u001b[0m\n\u001b[1;32m    416\u001b[0m \u001b[0;34m\u001b[0m\u001b[0m\n\u001b[1;32m    417\u001b[0m     \u001b[0;32mdef\u001b[0m \u001b[0mastype\u001b[0m\u001b[0;34m(\u001b[0m\u001b[0mself\u001b[0m\u001b[0;34m:\u001b[0m \u001b[0mT\u001b[0m\u001b[0;34m,\u001b[0m \u001b[0mdtype\u001b[0m\u001b[0;34m,\u001b[0m \u001b[0mcopy\u001b[0m\u001b[0;34m:\u001b[0m \u001b[0mbool\u001b[0m \u001b[0;34m=\u001b[0m \u001b[0;32mFalse\u001b[0m\u001b[0;34m,\u001b[0m \u001b[0merrors\u001b[0m\u001b[0;34m:\u001b[0m \u001b[0mstr\u001b[0m \u001b[0;34m=\u001b[0m \u001b[0;34m\"raise\"\u001b[0m\u001b[0;34m)\u001b[0m \u001b[0;34m->\u001b[0m \u001b[0mT\u001b[0m\u001b[0;34m:\u001b[0m\u001b[0;34m\u001b[0m\u001b[0;34m\u001b[0m\u001b[0m\n\u001b[0;32m--> 418\u001b[0;31m         \u001b[0;32mreturn\u001b[0m \u001b[0mself\u001b[0m\u001b[0;34m.\u001b[0m\u001b[0mapply\u001b[0m\u001b[0;34m(\u001b[0m\u001b[0;34m\"astype\"\u001b[0m\u001b[0;34m,\u001b[0m \u001b[0mdtype\u001b[0m\u001b[0;34m=\u001b[0m\u001b[0mdtype\u001b[0m\u001b[0;34m,\u001b[0m \u001b[0mcopy\u001b[0m\u001b[0;34m=\u001b[0m\u001b[0mcopy\u001b[0m\u001b[0;34m,\u001b[0m \u001b[0merrors\u001b[0m\u001b[0;34m=\u001b[0m\u001b[0merrors\u001b[0m\u001b[0;34m)\u001b[0m\u001b[0;34m\u001b[0m\u001b[0;34m\u001b[0m\u001b[0m\n\u001b[0m\u001b[1;32m    419\u001b[0m \u001b[0;34m\u001b[0m\u001b[0m\n\u001b[1;32m    420\u001b[0m     def convert(\n",
            "\u001b[0;32m/usr/local/lib/python3.7/dist-packages/pandas/core/internals/managers.py\u001b[0m in \u001b[0;36mapply\u001b[0;34m(self, f, align_keys, ignore_failures, **kwargs)\u001b[0m\n\u001b[1;32m    325\u001b[0m                     \u001b[0mapplied\u001b[0m \u001b[0;34m=\u001b[0m \u001b[0mb\u001b[0m\u001b[0;34m.\u001b[0m\u001b[0mapply\u001b[0m\u001b[0;34m(\u001b[0m\u001b[0mf\u001b[0m\u001b[0;34m,\u001b[0m \u001b[0;34m**\u001b[0m\u001b[0mkwargs\u001b[0m\u001b[0;34m)\u001b[0m\u001b[0;34m\u001b[0m\u001b[0;34m\u001b[0m\u001b[0m\n\u001b[1;32m    326\u001b[0m                 \u001b[0;32melse\u001b[0m\u001b[0;34m:\u001b[0m\u001b[0;34m\u001b[0m\u001b[0;34m\u001b[0m\u001b[0m\n\u001b[0;32m--> 327\u001b[0;31m                     \u001b[0mapplied\u001b[0m \u001b[0;34m=\u001b[0m \u001b[0mgetattr\u001b[0m\u001b[0;34m(\u001b[0m\u001b[0mb\u001b[0m\u001b[0;34m,\u001b[0m \u001b[0mf\u001b[0m\u001b[0;34m)\u001b[0m\u001b[0;34m(\u001b[0m\u001b[0;34m**\u001b[0m\u001b[0mkwargs\u001b[0m\u001b[0;34m)\u001b[0m\u001b[0;34m\u001b[0m\u001b[0;34m\u001b[0m\u001b[0m\n\u001b[0m\u001b[1;32m    328\u001b[0m             \u001b[0;32mexcept\u001b[0m \u001b[0;34m(\u001b[0m\u001b[0mTypeError\u001b[0m\u001b[0;34m,\u001b[0m \u001b[0mNotImplementedError\u001b[0m\u001b[0;34m)\u001b[0m\u001b[0;34m:\u001b[0m\u001b[0;34m\u001b[0m\u001b[0;34m\u001b[0m\u001b[0m\n\u001b[1;32m    329\u001b[0m                 \u001b[0;32mif\u001b[0m \u001b[0;32mnot\u001b[0m \u001b[0mignore_failures\u001b[0m\u001b[0;34m:\u001b[0m\u001b[0;34m\u001b[0m\u001b[0;34m\u001b[0m\u001b[0m\n",
            "\u001b[0;32m/usr/local/lib/python3.7/dist-packages/pandas/core/internals/blocks.py\u001b[0m in \u001b[0;36mastype\u001b[0;34m(self, dtype, copy, errors)\u001b[0m\n\u001b[1;32m    589\u001b[0m         \u001b[0mvalues\u001b[0m \u001b[0;34m=\u001b[0m \u001b[0mself\u001b[0m\u001b[0;34m.\u001b[0m\u001b[0mvalues\u001b[0m\u001b[0;34m\u001b[0m\u001b[0;34m\u001b[0m\u001b[0m\n\u001b[1;32m    590\u001b[0m \u001b[0;34m\u001b[0m\u001b[0m\n\u001b[0;32m--> 591\u001b[0;31m         \u001b[0mnew_values\u001b[0m \u001b[0;34m=\u001b[0m \u001b[0mastype_array_safe\u001b[0m\u001b[0;34m(\u001b[0m\u001b[0mvalues\u001b[0m\u001b[0;34m,\u001b[0m \u001b[0mdtype\u001b[0m\u001b[0;34m,\u001b[0m \u001b[0mcopy\u001b[0m\u001b[0;34m=\u001b[0m\u001b[0mcopy\u001b[0m\u001b[0;34m,\u001b[0m \u001b[0merrors\u001b[0m\u001b[0;34m=\u001b[0m\u001b[0merrors\u001b[0m\u001b[0;34m)\u001b[0m\u001b[0;34m\u001b[0m\u001b[0;34m\u001b[0m\u001b[0m\n\u001b[0m\u001b[1;32m    592\u001b[0m \u001b[0;34m\u001b[0m\u001b[0m\n\u001b[1;32m    593\u001b[0m         \u001b[0mnew_values\u001b[0m \u001b[0;34m=\u001b[0m \u001b[0mmaybe_coerce_values\u001b[0m\u001b[0;34m(\u001b[0m\u001b[0mnew_values\u001b[0m\u001b[0;34m)\u001b[0m\u001b[0;34m\u001b[0m\u001b[0;34m\u001b[0m\u001b[0m\n",
            "\u001b[0;32m/usr/local/lib/python3.7/dist-packages/pandas/core/dtypes/cast.py\u001b[0m in \u001b[0;36mastype_array_safe\u001b[0;34m(values, dtype, copy, errors)\u001b[0m\n\u001b[1;32m   1307\u001b[0m \u001b[0;34m\u001b[0m\u001b[0m\n\u001b[1;32m   1308\u001b[0m     \u001b[0;32mtry\u001b[0m\u001b[0;34m:\u001b[0m\u001b[0;34m\u001b[0m\u001b[0;34m\u001b[0m\u001b[0m\n\u001b[0;32m-> 1309\u001b[0;31m         \u001b[0mnew_values\u001b[0m \u001b[0;34m=\u001b[0m \u001b[0mastype_array\u001b[0m\u001b[0;34m(\u001b[0m\u001b[0mvalues\u001b[0m\u001b[0;34m,\u001b[0m \u001b[0mdtype\u001b[0m\u001b[0;34m,\u001b[0m \u001b[0mcopy\u001b[0m\u001b[0;34m=\u001b[0m\u001b[0mcopy\u001b[0m\u001b[0;34m)\u001b[0m\u001b[0;34m\u001b[0m\u001b[0;34m\u001b[0m\u001b[0m\n\u001b[0m\u001b[1;32m   1310\u001b[0m     \u001b[0;32mexcept\u001b[0m \u001b[0;34m(\u001b[0m\u001b[0mValueError\u001b[0m\u001b[0;34m,\u001b[0m \u001b[0mTypeError\u001b[0m\u001b[0;34m)\u001b[0m\u001b[0;34m:\u001b[0m\u001b[0;34m\u001b[0m\u001b[0;34m\u001b[0m\u001b[0m\n\u001b[1;32m   1311\u001b[0m         \u001b[0;31m# e.g. astype_nansafe can fail on object-dtype of strings\u001b[0m\u001b[0;34m\u001b[0m\u001b[0;34m\u001b[0m\u001b[0;34m\u001b[0m\u001b[0m\n",
            "\u001b[0;32m/usr/local/lib/python3.7/dist-packages/pandas/core/dtypes/cast.py\u001b[0m in \u001b[0;36mastype_array\u001b[0;34m(values, dtype, copy)\u001b[0m\n\u001b[1;32m   1255\u001b[0m \u001b[0;34m\u001b[0m\u001b[0m\n\u001b[1;32m   1256\u001b[0m     \u001b[0;32melse\u001b[0m\u001b[0;34m:\u001b[0m\u001b[0;34m\u001b[0m\u001b[0;34m\u001b[0m\u001b[0m\n\u001b[0;32m-> 1257\u001b[0;31m         \u001b[0mvalues\u001b[0m \u001b[0;34m=\u001b[0m \u001b[0mastype_nansafe\u001b[0m\u001b[0;34m(\u001b[0m\u001b[0mvalues\u001b[0m\u001b[0;34m,\u001b[0m \u001b[0mdtype\u001b[0m\u001b[0;34m,\u001b[0m \u001b[0mcopy\u001b[0m\u001b[0;34m=\u001b[0m\u001b[0mcopy\u001b[0m\u001b[0;34m)\u001b[0m\u001b[0;34m\u001b[0m\u001b[0;34m\u001b[0m\u001b[0m\n\u001b[0m\u001b[1;32m   1258\u001b[0m \u001b[0;34m\u001b[0m\u001b[0m\n\u001b[1;32m   1259\u001b[0m     \u001b[0;31m# in pandas we don't store numpy str dtypes, so convert to object\u001b[0m\u001b[0;34m\u001b[0m\u001b[0;34m\u001b[0m\u001b[0;34m\u001b[0m\u001b[0m\n",
            "\u001b[0;32m/usr/local/lib/python3.7/dist-packages/pandas/core/dtypes/cast.py\u001b[0m in \u001b[0;36mastype_nansafe\u001b[0;34m(arr, dtype, copy, skipna)\u001b[0m\n\u001b[1;32m   1093\u001b[0m     \u001b[0;32mif\u001b[0m \u001b[0marr\u001b[0m\u001b[0;34m.\u001b[0m\u001b[0mndim\u001b[0m \u001b[0;34m>\u001b[0m \u001b[0;36m1\u001b[0m\u001b[0;34m:\u001b[0m\u001b[0;34m\u001b[0m\u001b[0;34m\u001b[0m\u001b[0m\n\u001b[1;32m   1094\u001b[0m         \u001b[0mflat\u001b[0m \u001b[0;34m=\u001b[0m \u001b[0marr\u001b[0m\u001b[0;34m.\u001b[0m\u001b[0mravel\u001b[0m\u001b[0;34m(\u001b[0m\u001b[0;34m)\u001b[0m\u001b[0;34m\u001b[0m\u001b[0;34m\u001b[0m\u001b[0m\n\u001b[0;32m-> 1095\u001b[0;31m         \u001b[0mresult\u001b[0m \u001b[0;34m=\u001b[0m \u001b[0mastype_nansafe\u001b[0m\u001b[0;34m(\u001b[0m\u001b[0mflat\u001b[0m\u001b[0;34m,\u001b[0m \u001b[0mdtype\u001b[0m\u001b[0;34m,\u001b[0m \u001b[0mcopy\u001b[0m\u001b[0;34m=\u001b[0m\u001b[0mcopy\u001b[0m\u001b[0;34m,\u001b[0m \u001b[0mskipna\u001b[0m\u001b[0;34m=\u001b[0m\u001b[0mskipna\u001b[0m\u001b[0;34m)\u001b[0m\u001b[0;34m\u001b[0m\u001b[0;34m\u001b[0m\u001b[0m\n\u001b[0m\u001b[1;32m   1096\u001b[0m         \u001b[0;31m# error: Item \"ExtensionArray\" of \"Union[ExtensionArray, ndarray]\" has no\u001b[0m\u001b[0;34m\u001b[0m\u001b[0;34m\u001b[0m\u001b[0;34m\u001b[0m\u001b[0m\n\u001b[1;32m   1097\u001b[0m         \u001b[0;31m# attribute \"reshape\"\u001b[0m\u001b[0;34m\u001b[0m\u001b[0;34m\u001b[0m\u001b[0;34m\u001b[0m\u001b[0m\n",
            "\u001b[0;32m/usr/local/lib/python3.7/dist-packages/pandas/core/dtypes/cast.py\u001b[0m in \u001b[0;36mastype_nansafe\u001b[0;34m(arr, dtype, copy, skipna)\u001b[0m\n\u001b[1;32m   1199\u001b[0m     \u001b[0;32mif\u001b[0m \u001b[0mcopy\u001b[0m \u001b[0;32mor\u001b[0m \u001b[0mis_object_dtype\u001b[0m\u001b[0;34m(\u001b[0m\u001b[0marr\u001b[0m\u001b[0;34m.\u001b[0m\u001b[0mdtype\u001b[0m\u001b[0;34m)\u001b[0m \u001b[0;32mor\u001b[0m \u001b[0mis_object_dtype\u001b[0m\u001b[0;34m(\u001b[0m\u001b[0mdtype\u001b[0m\u001b[0;34m)\u001b[0m\u001b[0;34m:\u001b[0m\u001b[0;34m\u001b[0m\u001b[0;34m\u001b[0m\u001b[0m\n\u001b[1;32m   1200\u001b[0m         \u001b[0;31m# Explicit copy, or required since NumPy can't view from / to object.\u001b[0m\u001b[0;34m\u001b[0m\u001b[0;34m\u001b[0m\u001b[0;34m\u001b[0m\u001b[0m\n\u001b[0;32m-> 1201\u001b[0;31m         \u001b[0;32mreturn\u001b[0m \u001b[0marr\u001b[0m\u001b[0;34m.\u001b[0m\u001b[0mastype\u001b[0m\u001b[0;34m(\u001b[0m\u001b[0mdtype\u001b[0m\u001b[0;34m,\u001b[0m \u001b[0mcopy\u001b[0m\u001b[0;34m=\u001b[0m\u001b[0;32mTrue\u001b[0m\u001b[0;34m)\u001b[0m\u001b[0;34m\u001b[0m\u001b[0;34m\u001b[0m\u001b[0m\n\u001b[0m\u001b[1;32m   1202\u001b[0m \u001b[0;34m\u001b[0m\u001b[0m\n\u001b[1;32m   1203\u001b[0m     \u001b[0;32mreturn\u001b[0m \u001b[0marr\u001b[0m\u001b[0;34m.\u001b[0m\u001b[0mastype\u001b[0m\u001b[0;34m(\u001b[0m\u001b[0mdtype\u001b[0m\u001b[0;34m,\u001b[0m \u001b[0mcopy\u001b[0m\u001b[0;34m=\u001b[0m\u001b[0mcopy\u001b[0m\u001b[0;34m)\u001b[0m\u001b[0;34m\u001b[0m\u001b[0;34m\u001b[0m\u001b[0m\n",
            "\u001b[0;31mValueError\u001b[0m: could not convert string to float: '1\\t988.5\\t...\\t990.3\\t2021/5/1 23:56\\t986.5\\t2021/5/1 02:04\\t23.8\\t28.9\\t2021/5/1 11:59\\t19.7\\t2021/5/1 03:23\\t...\\t72\\t48\\t2021/5/1 12:10\\t1\\t219\\t6\\t230\\t2021/5/1 09:06\\t0\\t...\\t...\\t...\\t...\\t...\\t...\\t...\\t...\\t...\\t...\\t...\\t...\\t...'"
          ]
        }
      ],
      "source": [
        "df = df.replace('...','-999.0')\n",
        "df = df.replace('/','-999.0')\n",
        "df = pd.DataFrame(df, dtype = np.float)"
      ]
    },
    {
      "cell_type": "markdown",
      "metadata": {
        "id": "mzd-GsOs7_y4"
      },
      "source": [
        "再觀察一下我們的資料"
      ]
    },
    {
      "cell_type": "code",
      "execution_count": null,
      "metadata": {
        "colab": {
          "base_uri": "https://localhost:8080/"
        },
        "id": "B6Dr8cXT7_97",
        "outputId": "eafeb4ae-70b0-4025-cfa2-16c45524eff4"
      },
      "outputs": [
        {
          "name": "stdout",
          "output_type": "stream",
          "text": [
            "<class 'pandas.core.frame.DataFrame'>\n",
            "RangeIndex: 854 entries, 0 to 853\n",
            "Data columns (total 14 columns):\n",
            " #   Column                                                                                                                                                                                                                                                                                                                                       Non-Null Count  Dtype  \n",
            "---  ------                                                                                                                                                                                                                                                                                                                                       --------------  -----  \n",
            " 0   ObsTime\tStnPres\tSeaPres\tStnPresMax\tStnPresMaxTime\tStnPresMin\tStnPresMinTime\tTemperature\tT Max\tT Max Time\tT Min\tT Min Time\tTd dew point\tRH\tRHMin\tRHMinTime\tWS\tWD\tWSGust\tWDGust\tWGustTime\tPrecp\tPrecpHour\tPrecpMax10\tPrecpMax10Time\tPrecpMax60\tPrecpMax60Time\tSunShine\tSunShineRate\tGloblRad\tVisbMean\tEvapA\tUVI Max\tUVI Max Time\tCloud Amount  366 non-null    object \n",
            " 1   StnPres                                                                                                                                                                                                                                                                                                                                      488 non-null    float64\n",
            " 2   StnPresMax                                                                                                                                                                                                                                                                                                                                   488 non-null    object \n",
            " 3   StnPresMin                                                                                                                                                                                                                                                                                                                                   488 non-null    object \n",
            " 4   Temperature                                                                                                                                                                                                                                                                                                                                  488 non-null    float64\n",
            " 5   T Max                                                                                                                                                                                                                                                                                                                                        488 non-null    object \n",
            " 6   T Min                                                                                                                                                                                                                                                                                                                                        488 non-null    object \n",
            " 7   RH                                                                                                                                                                                                                                                                                                                                           488 non-null    float64\n",
            " 8   RHMin                                                                                                                                                                                                                                                                                                                                        488 non-null    object \n",
            " 9   WS                                                                                                                                                                                                                                                                                                                                           488 non-null    float64\n",
            " 10  WD                                                                                                                                                                                                                                                                                                                                           488 non-null    float64\n",
            " 11  WSGust                                                                                                                                                                                                                                                                                                                                       488 non-null    object \n",
            " 12  WDGust                                                                                                                                                                                                                                                                                                                                       488 non-null    object \n",
            " 13  Precp                                                                                                                                                                                                                                                                                                                                        488 non-null    float64\n",
            "dtypes: float64(6), object(8)\n",
            "memory usage: 93.5+ KB\n"
          ]
        }
      ],
      "source": [
        "df.info()"
      ]
    },
    {
      "cell_type": "markdown",
      "metadata": {
        "id": "beDzyDy_06LS"
      },
      "source": [
        "我們先處理降雨量，因為有降水及代表有下雨，所以只要大於大於0就轉換為1，反之轉換為0。"
      ]
    },
    {
      "cell_type": "code",
      "execution_count": null,
      "metadata": {
        "id": "IGnunyhB1Do1"
      },
      "outputs": [],
      "source": [
        "for k in range(854):\n",
        "    if df.iloc[k,12] > 0.0:\n",
        "        df.iloc[k,12] = 1\n",
        "    else:\n",
        "        df.iloc[k,12] = 0"
      ]
    },
    {
      "cell_type": "markdown",
      "metadata": {
        "id": "B-ryy02n1FVe"
      },
      "source": [
        "有些資料我們打算用平均值來填補，並取到小數點後第一位"
      ]
    },
    {
      "cell_type": "code",
      "execution_count": null,
      "metadata": {
        "id": "mtuCyhY71JUk"
      },
      "outputs": [],
      "source": [
        "count0, count1, count2, count3, count4, count5, count8 , count10 = 0, 0, 0, 0 ,0, 0, 0, 0\n",
        "stnprestotal , stnpresmaxtotal , stnpresmintotal, WStotal , WSGusttotal, Ttotal , Tmaxtotal , Tmintotal = 0 , 0 , 0, 0 , 0, 0 , 0 , 0\n",
        "\n",
        "for k in range(0,853):\n",
        "    if (df.iloc[k,0] != -999.0):\n",
        "        stnpres = float(df.iloc[k,0])\n",
        "        count0 += 1\n",
        "        stnprestotal += stnpres\n",
        "    if (df.iloc[k,1] != -999.0):\n",
        "        stnpresmax = float(df.iloc[k,1])\n",
        "        count1 += 1\n",
        "        stnpresmaxtotal += stnpresmax\n",
        "    if (df.iloc[k,2] != -999.0):\n",
        "        stnpresmin = float(df.iloc[k,2])\n",
        "        count2 += 1\n",
        "        stnpresmintotal += stnpresmin\n",
        "    if (df.iloc[k,3] != -999.0):\n",
        "        T = float(df.iloc[k,3])\n",
        "        count3 += 1\n",
        "        Ttotal += T\n",
        "    if (df.iloc[k,4] != -999.0):\n",
        "        Tmax = float(df.iloc[k,4])\n",
        "        count4 += 1\n",
        "        Tmaxtotal += Tmax\n",
        "    if (df.iloc[k,5] != -999.0):\n",
        "        Tmin = float(df.iloc[k,5])\n",
        "        count5 += 1\n",
        "        Tmintotal += Tmin\n",
        "    if (df.iloc[k,8] != -999.0):\n",
        "        WS = float(df.iloc[k,8])\n",
        "        count8 += 1\n",
        "        WStotal += WS\n",
        "    if (df.iloc[k,10] != -999.0):\n",
        "        WSGust = float(df.iloc[k,10])\n",
        "        count10 += 1\n",
        "        WSGusttotal += WSGust\n",
        "\n",
        "ave0 = round(stnprestotal / count0 , 1)\n",
        "ave1 = round(stnpresmaxtotal / count1 , 1)\n",
        "ave2 = round(stnpresmintotal / count2 , 1)\n",
        "ave3 = round(Ttotal / count3 , 1)\n",
        "ave4 = round(Tmaxtotal / count4 , 1)\n",
        "ave5 = round(Tmintotal / count5 , 1)\n",
        "ave8 = round(WStotal / count8 , 1)\n",
        "ave10 = round(WSGusttotal / count10 , 1)\n",
        "\n",
        "for c in range(854):\n",
        "    if df.iloc[c,0] == -999.0:\n",
        "        df.iloc[c,0] = ave0\n",
        "    if df.iloc[c,1] == -999.0:\n",
        "        df.iloc[c,1] = ave1\n",
        "    if df.iloc[c,2] == -999.0:\n",
        "        df.iloc[c,2] = ave2\n",
        "    if df.iloc[c,3] == -999.0:\n",
        "        df.iloc[c,3] = ave3\n",
        "    if df.iloc[c,4] == -999.0:\n",
        "        df.iloc[c,4] = ave4\n",
        "    if df.iloc[c,5] == -999.0:\n",
        "        df.iloc[c,5] = ave5\n",
        "    if df.iloc[c,8] == -999.0:\n",
        "        df.iloc[c,8] = ave8\n",
        "    if df.iloc[c,10] == -999.0:\n",
        "        df.iloc[c,10] = ave10"
      ]
    },
    {
      "cell_type": "markdown",
      "metadata": {
        "id": "i2y2y_141S4n"
      },
      "source": [
        "剩下的資料我們以眾數的方式來填補缺失值"
      ]
    },
    {
      "cell_type": "markdown",
      "metadata": {
        "id": "GgyRaVFQf1kh"
      },
      "source": []
    },
    {
      "cell_type": "code",
      "execution_count": null,
      "metadata": {
        "id": "Ea0bnBNx1TOB"
      },
      "outputs": [],
      "source": [
        "for i in range(854):\n",
        "    if df.iloc[i,6] == -999.0:\n",
        "            df.iloc[i,6] = df['RH'].value_counts().idxmax()\n",
        "\n",
        "for i in range(854):\n",
        "    if df.iloc[i,7] == -999.0:\n",
        "            df.iloc[i,7] = df['RHMin'].value_counts().idxmax()           \n",
        "\n",
        "for i in range(854):\n",
        "    if df.iloc[i,9] == -999.0:\n",
        "            df.iloc[i,9] = df['WD'].value_counts().idxmax()\n",
        "\n",
        "for i in range(854):\n",
        "    if df.iloc[i,11] == -999.0:\n",
        "            df.iloc[i,11] = df['WDGust'].value_counts().idxmax()"
      ]
    },
    {
      "cell_type": "markdown",
      "metadata": {
        "id": "DdBrHrOS1Ujs"
      },
      "source": [
        "接著我們看看，每個各別資料對雨量的關係圖"
      ]
    },
    {
      "cell_type": "code",
      "execution_count": null,
      "metadata": {
        "colab": {
          "base_uri": "https://localhost:8080/",
          "height": 700
        },
        "id": "IrZpkRQD_YgL",
        "outputId": "2425003f-9313-4449-f61e-c802664f5d27"
      },
      "outputs": [
        {
          "data": {
            "image/png": "[encoded data removed]",
            "text/plain": [
              "<Figure size 1152x864 with 12 Axes>"
            ]
          },
          "metadata": {
            "needs_background": "light"
          },
          "output_type": "display_data"
        }
      ],
      "source": [
        "x1 = df['StnPres']\n",
        "x2 = df['StnPresMax']\n",
        "x3 = df['StnPresMin']\n",
        "x4 = df['T Max']\n",
        "x5 = df['T Min']\n",
        "x6 = df['Temperature']\n",
        "x7 = df['RH']\n",
        "x8 = df['RHMin']\n",
        "x9 = df['WS']\n",
        "x10 = df['WD']\n",
        "x11 = df['WSGust']\n",
        "x12 = df['WDGust']\n",
        "y = df['Precp']\n",
        "\n",
        "plt.figure(figsize=(16, 12))\n",
        "\n",
        "plt.subplot(3, 4, 1)\n",
        "plt.scatter(x1,y)\n",
        "plt.subplot(3, 4, 2)\n",
        "plt.scatter(x2,y)\n",
        "plt.subplot(3, 4, 3)\n",
        "plt.scatter(x3,y)\n",
        "plt.subplot(3, 4, 4)\n",
        "plt.scatter(x4,y)\n",
        "plt.subplot(3, 4, 5)\n",
        "plt.scatter(x5,y)\n",
        "plt.subplot(3, 4, 6)\n",
        "plt.scatter(x6,y)\n",
        "plt.subplot(3, 4, 7)\n",
        "plt.scatter(x7,y)\n",
        "plt.subplot(3, 4, 8)\n",
        "plt.scatter(x8,y)\n",
        "plt.subplot(3, 4, 9)\n",
        "plt.scatter(x9,y)\n",
        "plt.subplot(3, 4, 10)\n",
        "plt.scatter(x10,y)\n",
        "plt.subplot(3, 4, 11)\n",
        "plt.scatter(x11,y)\n",
        "plt.subplot(3, 4, 12)\n",
        "plt.scatter(x12,y)\n",
        "\n",
        "plt.show()"
      ]
    },
    {
      "cell_type": "markdown",
      "metadata": {
        "id": "4Upip-X2U851"
      },
      "source": [
        "接著我們看看，每個各別變數之間相關係數"
      ]
    },
    {
      "cell_type": "code",
      "execution_count": null,
      "metadata": {
        "colab": {
          "base_uri": "https://localhost:8080/",
          "height": 452
        },
        "id": "YMzEwDfnU9RV",
        "outputId": "02e78450-6671-4c3b-c463-4d7a69a57888"
      },
      "outputs": [
        {
          "data": {
            "text/html": [
              "\n",
              "  <div id=\"df-00d9d172-c917-4278-a5c3-537452250059\">\n",
              "    <div class=\"colab-df-container\">\n",
              "      <div>\n",
              "<style scoped>\n",
              "    .dataframe tbody tr th:only-of-type {\n",
              "        vertical-align: middle;\n",
              "    }\n",
              "\n",
              "    .dataframe tbody tr th {\n",
              "        vertical-align: top;\n",
              "    }\n",
              "\n",
              "    .dataframe thead th {\n",
              "        text-align: right;\n",
              "    }\n",
              "</style>\n",
              "<table border=\"1\" class=\"dataframe\">\n",
              "  <thead>\n",
              "    <tr style=\"text-align: right;\">\n",
              "      <th></th>\n",
              "      <th>StnPres</th>\n",
              "      <th>StnPresMax</th>\n",
              "      <th>StnPresMin</th>\n",
              "      <th>Temperature</th>\n",
              "      <th>T Max</th>\n",
              "      <th>T Min</th>\n",
              "      <th>RH</th>\n",
              "      <th>RHMin</th>\n",
              "      <th>WS</th>\n",
              "      <th>WD</th>\n",
              "      <th>WSGust</th>\n",
              "      <th>WDGust</th>\n",
              "      <th>Precp</th>\n",
              "    </tr>\n",
              "  </thead>\n",
              "  <tbody>\n",
              "    <tr>\n",
              "      <th>StnPres</th>\n",
              "      <td>1.000000</td>\n",
              "      <td>0.973837</td>\n",
              "      <td>0.977780</td>\n",
              "      <td>-0.393330</td>\n",
              "      <td>-0.278551</td>\n",
              "      <td>-0.365425</td>\n",
              "      <td>-0.000452</td>\n",
              "      <td>0.002457</td>\n",
              "      <td>-0.095994</td>\n",
              "      <td>-0.205172</td>\n",
              "      <td>-0.129541</td>\n",
              "      <td>-0.191010</td>\n",
              "      <td>-0.102302</td>\n",
              "    </tr>\n",
              "    <tr>\n",
              "      <th>StnPresMax</th>\n",
              "      <td>0.973837</td>\n",
              "      <td>1.000000</td>\n",
              "      <td>0.942063</td>\n",
              "      <td>-0.401371</td>\n",
              "      <td>-0.286646</td>\n",
              "      <td>-0.389644</td>\n",
              "      <td>0.006529</td>\n",
              "      <td>0.006868</td>\n",
              "      <td>-0.063372</td>\n",
              "      <td>-0.182046</td>\n",
              "      <td>-0.106577</td>\n",
              "      <td>-0.185542</td>\n",
              "      <td>-0.068398</td>\n",
              "    </tr>\n",
              "    <tr>\n",
              "      <th>StnPresMin</th>\n",
              "      <td>0.977780</td>\n",
              "      <td>0.942063</td>\n",
              "      <td>1.000000</td>\n",
              "      <td>-0.360691</td>\n",
              "      <td>-0.258129</td>\n",
              "      <td>-0.332116</td>\n",
              "      <td>-0.012693</td>\n",
              "      <td>-0.009457</td>\n",
              "      <td>-0.107386</td>\n",
              "      <td>-0.194920</td>\n",
              "      <td>-0.130746</td>\n",
              "      <td>-0.188141</td>\n",
              "      <td>-0.114482</td>\n",
              "    </tr>\n",
              "    <tr>\n",
              "      <th>Temperature</th>\n",
              "      <td>-0.393330</td>\n",
              "      <td>-0.401371</td>\n",
              "      <td>-0.360691</td>\n",
              "      <td>1.000000</td>\n",
              "      <td>0.936330</td>\n",
              "      <td>0.800535</td>\n",
              "      <td>-0.429906</td>\n",
              "      <td>-0.462815</td>\n",
              "      <td>-0.133649</td>\n",
              "      <td>0.577173</td>\n",
              "      <td>0.086536</td>\n",
              "      <td>0.420318</td>\n",
              "      <td>-0.436195</td>\n",
              "    </tr>\n",
              "    <tr>\n",
              "      <th>T Max</th>\n",
              "      <td>-0.278551</td>\n",
              "      <td>-0.286646</td>\n",
              "      <td>-0.258129</td>\n",
              "      <td>0.936330</td>\n",
              "      <td>1.000000</td>\n",
              "      <td>0.691656</td>\n",
              "      <td>-0.521878</td>\n",
              "      <td>-0.640560</td>\n",
              "      <td>-0.128305</td>\n",
              "      <td>0.530669</td>\n",
              "      <td>0.103263</td>\n",
              "      <td>0.386274</td>\n",
              "      <td>-0.465951</td>\n",
              "    </tr>\n",
              "    <tr>\n",
              "      <th>T Min</th>\n",
              "      <td>-0.365425</td>\n",
              "      <td>-0.389644</td>\n",
              "      <td>-0.332116</td>\n",
              "      <td>0.800535</td>\n",
              "      <td>0.691656</td>\n",
              "      <td>1.000000</td>\n",
              "      <td>-0.152051</td>\n",
              "      <td>-0.159250</td>\n",
              "      <td>-0.102209</td>\n",
              "      <td>0.400518</td>\n",
              "      <td>0.094228</td>\n",
              "      <td>0.329499</td>\n",
              "      <td>-0.223502</td>\n",
              "    </tr>\n",
              "    <tr>\n",
              "      <th>RH</th>\n",
              "      <td>-0.000452</td>\n",
              "      <td>0.006529</td>\n",
              "      <td>-0.012693</td>\n",
              "      <td>-0.429906</td>\n",
              "      <td>-0.521878</td>\n",
              "      <td>-0.152051</td>\n",
              "      <td>1.000000</td>\n",
              "      <td>0.882385</td>\n",
              "      <td>-0.341775</td>\n",
              "      <td>-0.288269</td>\n",
              "      <td>-0.141324</td>\n",
              "      <td>-0.218402</td>\n",
              "      <td>0.635275</td>\n",
              "    </tr>\n",
              "    <tr>\n",
              "      <th>RHMin</th>\n",
              "      <td>0.002457</td>\n",
              "      <td>0.006868</td>\n",
              "      <td>-0.009457</td>\n",
              "      <td>-0.462815</td>\n",
              "      <td>-0.640560</td>\n",
              "      <td>-0.159250</td>\n",
              "      <td>0.882385</td>\n",
              "      <td>1.000000</td>\n",
              "      <td>-0.189154</td>\n",
              "      <td>-0.305214</td>\n",
              "      <td>-0.184937</td>\n",
              "      <td>-0.234054</td>\n",
              "      <td>0.534163</td>\n",
              "    </tr>\n",
              "    <tr>\n",
              "      <th>WS</th>\n",
              "      <td>-0.095994</td>\n",
              "      <td>-0.063372</td>\n",
              "      <td>-0.107386</td>\n",
              "      <td>-0.133649</td>\n",
              "      <td>-0.128305</td>\n",
              "      <td>-0.102209</td>\n",
              "      <td>-0.341775</td>\n",
              "      <td>-0.189154</td>\n",
              "      <td>1.000000</td>\n",
              "      <td>-0.053436</td>\n",
              "      <td>0.044637</td>\n",
              "      <td>-0.091865</td>\n",
              "      <td>-0.094960</td>\n",
              "    </tr>\n",
              "    <tr>\n",
              "      <th>WD</th>\n",
              "      <td>-0.205172</td>\n",
              "      <td>-0.182046</td>\n",
              "      <td>-0.194920</td>\n",
              "      <td>0.577173</td>\n",
              "      <td>0.530669</td>\n",
              "      <td>0.400518</td>\n",
              "      <td>-0.288269</td>\n",
              "      <td>-0.305214</td>\n",
              "      <td>-0.053436</td>\n",
              "      <td>1.000000</td>\n",
              "      <td>0.082668</td>\n",
              "      <td>0.422772</td>\n",
              "      <td>-0.255363</td>\n",
              "    </tr>\n",
              "    <tr>\n",
              "      <th>WSGust</th>\n",
              "      <td>-0.129541</td>\n",
              "      <td>-0.106577</td>\n",
              "      <td>-0.130746</td>\n",
              "      <td>0.086536</td>\n",
              "      <td>0.103263</td>\n",
              "      <td>0.094228</td>\n",
              "      <td>-0.141324</td>\n",
              "      <td>-0.184937</td>\n",
              "      <td>0.044637</td>\n",
              "      <td>0.082668</td>\n",
              "      <td>1.000000</td>\n",
              "      <td>0.114226</td>\n",
              "      <td>0.022863</td>\n",
              "    </tr>\n",
              "    <tr>\n",
              "      <th>WDGust</th>\n",
              "      <td>-0.191010</td>\n",
              "      <td>-0.185542</td>\n",
              "      <td>-0.188141</td>\n",
              "      <td>0.420318</td>\n",
              "      <td>0.386274</td>\n",
              "      <td>0.329499</td>\n",
              "      <td>-0.218402</td>\n",
              "      <td>-0.234054</td>\n",
              "      <td>-0.091865</td>\n",
              "      <td>0.422772</td>\n",
              "      <td>0.114226</td>\n",
              "      <td>1.000000</td>\n",
              "      <td>-0.212534</td>\n",
              "    </tr>\n",
              "    <tr>\n",
              "      <th>Precp</th>\n",
              "      <td>-0.102302</td>\n",
              "      <td>-0.068398</td>\n",
              "      <td>-0.114482</td>\n",
              "      <td>-0.436195</td>\n",
              "      <td>-0.465951</td>\n",
              "      <td>-0.223502</td>\n",
              "      <td>0.635275</td>\n",
              "      <td>0.534163</td>\n",
              "      <td>-0.094960</td>\n",
              "      <td>-0.255363</td>\n",
              "      <td>0.022863</td>\n",
              "      <td>-0.212534</td>\n",
              "      <td>1.000000</td>\n",
              "    </tr>\n",
              "  </tbody>\n",
              "</table>\n",
              "</div>\n",
              "      <button class=\"colab-df-convert\" onclick=\"convertToInteractive('df-00d9d172-c917-4278-a5c3-537452250059')\"\n",
              "              title=\"Convert this dataframe to an interactive table.\"\n",
              "              style=\"display:none;\">\n",
              "        \n",
              "  <svg xmlns=\"http://www.w3.org/2000/svg\" height=\"24px\"viewBox=\"0 0 24 24\"\n",
              "       width=\"24px\">\n",
              "    <path d=\"M0 0h24v24H0V0z\" fill=\"none\"/>\n",
              "    <path d=\"M18.56 5.44l.94 2.06.94-2.06 2.06-.94-2.06-.94-.94-2.06-.94 2.06-2.06.94zm-11 1L8.5 8.5l.94-2.06 2.06-.94-2.06-.94L8.5 2.5l-.94 2.06-2.06.94zm10 10l.94 2.06.94-2.06 2.06-.94-2.06-.94-.94-2.06-.94 2.06-2.06.94z\"/><path d=\"M17.41 7.96l-1.37-1.37c-.4-.4-.92-.59-1.43-.59-.52 0-1.04.2-1.43.59L10.3 9.45l-7.72 7.72c-.78.78-.78 2.05 0 2.83L4 21.41c.39.39.9.59 1.41.59.51 0 1.02-.2 1.41-.59l7.78-7.78 2.81-2.81c.8-.78.8-2.07 0-2.86zM5.41 20L4 18.59l7.72-7.72 1.47 1.35L5.41 20z\"/>\n",
              "  </svg>\n",
              "      </button>\n",
              "      \n",
              "  <style>\n",
              "    .colab-df-container {\n",
              "      display:flex;\n",
              "      flex-wrap:wrap;\n",
              "      gap: 12px;\n",
              "    }\n",
              "\n",
              "    .colab-df-convert {\n",
              "      background-color: #E8F0FE;\n",
              "      border: none;\n",
              "      border-radius: 50%;\n",
              "      cursor: pointer;\n",
              "      display: none;\n",
              "      fill: #1967D2;\n",
              "      height: 32px;\n",
              "      padding: 0 0 0 0;\n",
              "      width: 32px;\n",
              "    }\n",
              "\n",
              "    .colab-df-convert:hover {\n",
              "      background-color: #E2EBFA;\n",
              "      box-shadow: 0px 1px 2px rgba(60, 64, 67, 0.3), 0px 1px 3px 1px rgba(60, 64, 67, 0.15);\n",
              "      fill: #174EA6;\n",
              "    }\n",
              "\n",
              "    [theme=dark] .colab-df-convert {\n",
              "      background-color: #3B4455;\n",
              "      fill: #D2E3FC;\n",
              "    }\n",
              "\n",
              "    [theme=dark] .colab-df-convert:hover {\n",
              "      background-color: #434B5C;\n",
              "      box-shadow: 0px 1px 3px 1px rgba(0, 0, 0, 0.15);\n",
              "      filter: drop-shadow(0px 1px 2px rgba(0, 0, 0, 0.3));\n",
              "      fill: #FFFFFF;\n",
              "    }\n",
              "  </style>\n",
              "\n",
              "      <script>\n",
              "        const buttonEl =\n",
              "          document.querySelector('#df-00d9d172-c917-4278-a5c3-537452250059 button.colab-df-convert');\n",
              "        buttonEl.style.display =\n",
              "          google.colab.kernel.accessAllowed ? 'block' : 'none';\n",
              "\n",
              "        async function convertToInteractive(key) {\n",
              "          const element = document.querySelector('#df-00d9d172-c917-4278-a5c3-537452250059');\n",
              "          const dataTable =\n",
              "            await google.colab.kernel.invokeFunction('convertToInteractive',\n",
              "                                                     [key], {});\n",
              "          if (!dataTable) return;\n",
              "\n",
              "          const docLinkHtml = 'Like what you see? Visit the ' +\n",
              "            '<a target=\"_blank\" href=https://colab.research.google.com/notebooks/data_table.ipynb>data table notebook</a>'\n",
              "            + ' to learn more about interactive tables.';\n",
              "          element.innerHTML = '';\n",
              "          dataTable['output_type'] = 'display_data';\n",
              "          await google.colab.output.renderOutput(dataTable, element);\n",
              "          const docLink = document.createElement('div');\n",
              "          docLink.innerHTML = docLinkHtml;\n",
              "          element.appendChild(docLink);\n",
              "        }\n",
              "      </script>\n",
              "    </div>\n",
              "  </div>\n",
              "  "
            ],
            "text/plain": [
              "              StnPres  StnPresMax  StnPresMin  Temperature     T Max  \\\n",
              "StnPres      1.000000    0.973837    0.977780    -0.393330 -0.278551   \n",
              "StnPresMax   0.973837    1.000000    0.942063    -0.401371 -0.286646   \n",
              "StnPresMin   0.977780    0.942063    1.000000    -0.360691 -0.258129   \n",
              "Temperature -0.393330   -0.401371   -0.360691     1.000000  0.936330   \n",
              "T Max       -0.278551   -0.286646   -0.258129     0.936330  1.000000   \n",
              "T Min       -0.365425   -0.389644   -0.332116     0.800535  0.691656   \n",
              "RH          -0.000452    0.006529   -0.012693    -0.429906 -0.521878   \n",
              "RHMin        0.002457    0.006868   -0.009457    -0.462815 -0.640560   \n",
              "WS          -0.095994   -0.063372   -0.107386    -0.133649 -0.128305   \n",
              "WD          -0.205172   -0.182046   -0.194920     0.577173  0.530669   \n",
              "WSGust      -0.129541   -0.106577   -0.130746     0.086536  0.103263   \n",
              "WDGust      -0.191010   -0.185542   -0.188141     0.420318  0.386274   \n",
              "Precp       -0.102302   -0.068398   -0.114482    -0.436195 -0.465951   \n",
              "\n",
              "                T Min        RH     RHMin        WS        WD    WSGust  \\\n",
              "StnPres     -0.365425 -0.000452  0.002457 -0.095994 -0.205172 -0.129541   \n",
              "StnPresMax  -0.389644  0.006529  0.006868 -0.063372 -0.182046 -0.106577   \n",
              "StnPresMin  -0.332116 -0.012693 -0.009457 -0.107386 -0.194920 -0.130746   \n",
              "Temperature  0.800535 -0.429906 -0.462815 -0.133649  0.577173  0.086536   \n",
              "T Max        0.691656 -0.521878 -0.640560 -0.128305  0.530669  0.103263   \n",
              "T Min        1.000000 -0.152051 -0.159250 -0.102209  0.400518  0.094228   \n",
              "RH          -0.152051  1.000000  0.882385 -0.341775 -0.288269 -0.141324   \n",
              "RHMin       -0.159250  0.882385  1.000000 -0.189154 -0.305214 -0.184937   \n",
              "WS          -0.102209 -0.341775 -0.189154  1.000000 -0.053436  0.044637   \n",
              "WD           0.400518 -0.288269 -0.305214 -0.053436  1.000000  0.082668   \n",
              "WSGust       0.094228 -0.141324 -0.184937  0.044637  0.082668  1.000000   \n",
              "WDGust       0.329499 -0.218402 -0.234054 -0.091865  0.422772  0.114226   \n",
              "Precp       -0.223502  0.635275  0.534163 -0.094960 -0.255363  0.022863   \n",
              "\n",
              "               WDGust     Precp  \n",
              "StnPres     -0.191010 -0.102302  \n",
              "StnPresMax  -0.185542 -0.068398  \n",
              "StnPresMin  -0.188141 -0.114482  \n",
              "Temperature  0.420318 -0.436195  \n",
              "T Max        0.386274 -0.465951  \n",
              "T Min        0.329499 -0.223502  \n",
              "RH          -0.218402  0.635275  \n",
              "RHMin       -0.234054  0.534163  \n",
              "WS          -0.091865 -0.094960  \n",
              "WD           0.422772 -0.255363  \n",
              "WSGust       0.114226  0.022863  \n",
              "WDGust       1.000000 -0.212534  \n",
              "Precp       -0.212534  1.000000  "
            ]
          },
          "execution_count": 14,
          "metadata": {},
          "output_type": "execute_result"
        }
      ],
      "source": [
        "df.corr()"
      ]
    },
    {
      "cell_type": "markdown",
      "metadata": {
        "id": "sp476FjdHfIC"
      },
      "source": [
        "我們接著再把所有資料都餵給模型，來觀察模型辨識程度"
      ]
    },
    {
      "cell_type": "code",
      "execution_count": null,
      "metadata": {
        "colab": {
          "base_uri": "https://localhost:8080/"
        },
        "id": "BJzSkD0I_KFq",
        "outputId": "97567d3a-1f0c-4147-bd37-9e7e94bb501c"
      },
      "outputs": [
        {
          "name": "stderr",
          "output_type": "stream",
          "text": [
            "/usr/local/lib/python3.7/dist-packages/sklearn/linear_model/_logistic.py:818: ConvergenceWarning: lbfgs failed to converge (status=1):\n",
            "STOP: TOTAL NO. of ITERATIONS REACHED LIMIT.\n",
            "\n",
            "Increase the number of iterations (max_iter) or scale the data as shown in:\n",
            "    https://scikit-learn.org/stable/modules/preprocessing.html\n",
            "Please also refer to the documentation for alternative solver options:\n",
            "    https://scikit-learn.org/stable/modules/linear_model.html#logistic-regression\n",
            "  extra_warning_msg=_LOGISTIC_SOLVER_CONVERGENCE_MSG,\n"
          ]
        },
        {
          "data": {
            "text/plain": [
              "0.7558139534883721"
            ]
          },
          "execution_count": 15,
          "metadata": {},
          "output_type": "execute_result"
        }
      ],
      "source": [
        "X = df.drop(['Precp'], axis=1)\n",
        "y = df['Precp']\n",
        "\n",
        "from sklearn.model_selection import train_test_split\n",
        "from sklearn.linear_model import LogisticRegression\n",
        "from sklearn.metrics import confusion_matrix, accuracy_score, precision_score, recall_score\n",
        "\n",
        "X_train,X_test, y_train,y_test = train_test_split(X, y, test_size=0.3, random_state=67)\n",
        "lr = LogisticRegression(max_iter=200)\n",
        "lr.fit(X_train, y_train)\n",
        "predictions = lr.predict(X_test)\n",
        "accuracy_score(y_test, predictions)\n",
        "recall_score(y_test, predictions)\n",
        "precision_score(y_test, predictions)"
      ]
    },
    {
      "cell_type": "markdown",
      "metadata": {
        "id": "f-OJt4B2HMOT"
      },
      "source": [
        "經過多次交叉測試後，發現什麼都沒有刪除，分數會最高"
      ]
    },
    {
      "cell_type": "code",
      "execution_count": null,
      "metadata": {
        "colab": {
          "base_uri": "https://localhost:8080/"
        },
        "id": "M5iU2pIZ1U4X",
        "outputId": "0d3821dd-c502-45c9-bdab-eb9bacefe54a"
      },
      "outputs": [
        {
          "name": "stderr",
          "output_type": "stream",
          "text": [
            "/usr/local/lib/python3.7/dist-packages/sklearn/linear_model/_logistic.py:818: ConvergenceWarning: lbfgs failed to converge (status=1):\n",
            "STOP: TOTAL NO. of ITERATIONS REACHED LIMIT.\n",
            "\n",
            "Increase the number of iterations (max_iter) or scale the data as shown in:\n",
            "    https://scikit-learn.org/stable/modules/preprocessing.html\n",
            "Please also refer to the documentation for alternative solver options:\n",
            "    https://scikit-learn.org/stable/modules/linear_model.html#logistic-regression\n",
            "  extra_warning_msg=_LOGISTIC_SOLVER_CONVERGENCE_MSG,\n"
          ]
        },
        {
          "data": {
            "text/plain": [
              "0.7710843373493976"
            ]
          },
          "execution_count": 16,
          "metadata": {},
          "output_type": "execute_result"
        }
      ],
      "source": [
        "X = df.drop(['Precp'], axis=1)\n",
        "y = df['Precp']\n",
        "X_train,X_test, y_train,y_test = train_test_split(X, y, test_size=0.3, random_state=67)\n",
        "lr = LogisticRegression(max_iter=200)\n",
        "lr.fit(X_train, y_train)\n",
        "predictions = lr.predict(X_test)\n",
        "accuracy_score(y_test, predictions)\n",
        "recall_score(y_test, predictions)\n",
        "precision_score(y_test, predictions)"
      ]
    },
    {
      "cell_type": "markdown",
      "metadata": {
        "id": "uXpL2iXWK6Eg"
      },
      "source": [
        "接著我們圖表化看出模型的矩陣關係\n"
      ]
    },
    {
      "cell_type": "code",
      "execution_count": null,
      "metadata": {
        "colab": {
          "base_uri": "https://localhost:8080/",
          "height": 111
        },
        "id": "55v2Cb-gK6TJ",
        "outputId": "9922497e-fa8c-4d53-fc4f-5729dfbee5a0"
      },
      "outputs": [
        {
          "data": {
            "text/html": [
              "\n",
              "  <div id=\"df-f0724324-f92d-43e0-a515-d8489ae95409\">\n",
              "    <div class=\"colab-df-container\">\n",
              "      <div>\n",
              "<style scoped>\n",
              "    .dataframe tbody tr th:only-of-type {\n",
              "        vertical-align: middle;\n",
              "    }\n",
              "\n",
              "    .dataframe tbody tr th {\n",
              "        vertical-align: top;\n",
              "    }\n",
              "\n",
              "    .dataframe thead th {\n",
              "        text-align: right;\n",
              "    }\n",
              "</style>\n",
              "<table border=\"1\" class=\"dataframe\">\n",
              "  <thead>\n",
              "    <tr style=\"text-align: right;\">\n",
              "      <th></th>\n",
              "      <th>Predict not rain</th>\n",
              "      <th>Predict rain</th>\n",
              "    </tr>\n",
              "  </thead>\n",
              "  <tbody>\n",
              "    <tr>\n",
              "      <th>True not rain</th>\n",
              "      <td>149</td>\n",
              "      <td>19</td>\n",
              "    </tr>\n",
              "    <tr>\n",
              "      <th>True rain</th>\n",
              "      <td>25</td>\n",
              "      <td>64</td>\n",
              "    </tr>\n",
              "  </tbody>\n",
              "</table>\n",
              "</div>\n",
              "      <button class=\"colab-df-convert\" onclick=\"convertToInteractive('df-f0724324-f92d-43e0-a515-d8489ae95409')\"\n",
              "              title=\"Convert this dataframe to an interactive table.\"\n",
              "              style=\"display:none;\">\n",
              "        \n",
              "  <svg xmlns=\"http://www.w3.org/2000/svg\" height=\"24px\"viewBox=\"0 0 24 24\"\n",
              "       width=\"24px\">\n",
              "    <path d=\"M0 0h24v24H0V0z\" fill=\"none\"/>\n",
              "    <path d=\"M18.56 5.44l.94 2.06.94-2.06 2.06-.94-2.06-.94-.94-2.06-.94 2.06-2.06.94zm-11 1L8.5 8.5l.94-2.06 2.06-.94-2.06-.94L8.5 2.5l-.94 2.06-2.06.94zm10 10l.94 2.06.94-2.06 2.06-.94-2.06-.94-.94-2.06-.94 2.06-2.06.94z\"/><path d=\"M17.41 7.96l-1.37-1.37c-.4-.4-.92-.59-1.43-.59-.52 0-1.04.2-1.43.59L10.3 9.45l-7.72 7.72c-.78.78-.78 2.05 0 2.83L4 21.41c.39.39.9.59 1.41.59.51 0 1.02-.2 1.41-.59l7.78-7.78 2.81-2.81c.8-.78.8-2.07 0-2.86zM5.41 20L4 18.59l7.72-7.72 1.47 1.35L5.41 20z\"/>\n",
              "  </svg>\n",
              "      </button>\n",
              "      \n",
              "  <style>\n",
              "    .colab-df-container {\n",
              "      display:flex;\n",
              "      flex-wrap:wrap;\n",
              "      gap: 12px;\n",
              "    }\n",
              "\n",
              "    .colab-df-convert {\n",
              "      background-color: #E8F0FE;\n",
              "      border: none;\n",
              "      border-radius: 50%;\n",
              "      cursor: pointer;\n",
              "      display: none;\n",
              "      fill: #1967D2;\n",
              "      height: 32px;\n",
              "      padding: 0 0 0 0;\n",
              "      width: 32px;\n",
              "    }\n",
              "\n",
              "    .colab-df-convert:hover {\n",
              "      background-color: #E2EBFA;\n",
              "      box-shadow: 0px 1px 2px rgba(60, 64, 67, 0.3), 0px 1px 3px 1px rgba(60, 64, 67, 0.15);\n",
              "      fill: #174EA6;\n",
              "    }\n",
              "\n",
              "    [theme=dark] .colab-df-convert {\n",
              "      background-color: #3B4455;\n",
              "      fill: #D2E3FC;\n",
              "    }\n",
              "\n",
              "    [theme=dark] .colab-df-convert:hover {\n",
              "      background-color: #434B5C;\n",
              "      box-shadow: 0px 1px 3px 1px rgba(0, 0, 0, 0.15);\n",
              "      filter: drop-shadow(0px 1px 2px rgba(0, 0, 0, 0.3));\n",
              "      fill: #FFFFFF;\n",
              "    }\n",
              "  </style>\n",
              "\n",
              "      <script>\n",
              "        const buttonEl =\n",
              "          document.querySelector('#df-f0724324-f92d-43e0-a515-d8489ae95409 button.colab-df-convert');\n",
              "        buttonEl.style.display =\n",
              "          google.colab.kernel.accessAllowed ? 'block' : 'none';\n",
              "\n",
              "        async function convertToInteractive(key) {\n",
              "          const element = document.querySelector('#df-f0724324-f92d-43e0-a515-d8489ae95409');\n",
              "          const dataTable =\n",
              "            await google.colab.kernel.invokeFunction('convertToInteractive',\n",
              "                                                     [key], {});\n",
              "          if (!dataTable) return;\n",
              "\n",
              "          const docLinkHtml = 'Like what you see? Visit the ' +\n",
              "            '<a target=\"_blank\" href=https://colab.research.google.com/notebooks/data_table.ipynb>data table notebook</a>'\n",
              "            + ' to learn more about interactive tables.';\n",
              "          element.innerHTML = '';\n",
              "          dataTable['output_type'] = 'display_data';\n",
              "          await google.colab.output.renderOutput(dataTable, element);\n",
              "          const docLink = document.createElement('div');\n",
              "          docLink.innerHTML = docLinkHtml;\n",
              "          element.appendChild(docLink);\n",
              "        }\n",
              "      </script>\n",
              "    </div>\n",
              "  </div>\n",
              "  "
            ],
            "text/plain": [
              "               Predict not rain  Predict rain\n",
              "True not rain               149            19\n",
              "True rain                    25            64"
            ]
          },
          "execution_count": 23,
          "metadata": {},
          "output_type": "execute_result"
        }
      ],
      "source": [
        "pd.DataFrame(confusion_matrix(y_test, predictions), columns = ['Predict not rain','Predict rain'], index=['True not rain', 'True rain'])"
      ]
    },
    {
      "cell_type": "markdown",
      "metadata": {
        "id": "dDcLSPLSIXue"
      },
      "source": [
        "最後我們測試模型的辨認是否順利，然後有發現到測出來的型態為[1.]、[0.]"
      ]
    },
    {
      "cell_type": "code",
      "execution_count": null,
      "metadata": {
        "colab": {
          "base_uri": "https://localhost:8080/"
        },
        "id": "fLGg2lSM1Yq5",
        "outputId": "3ea59d33-4fd0-4355-dcce-e02c20a17937"
      },
      "outputs": [
        {
          "name": "stdout",
          "output_type": "stream",
          "text": [
            "[1.]\n",
            "[0.]\n"
          ]
        },
        {
          "name": "stderr",
          "output_type": "stream",
          "text": [
            "/usr/local/lib/python3.7/dist-packages/sklearn/base.py:451: UserWarning: X does not have valid feature names, but LogisticRegression was fitted with feature names\n",
            "  \"X does not have valid feature names, but\"\n",
            "/usr/local/lib/python3.7/dist-packages/sklearn/base.py:451: UserWarning: X does not have valid feature names, but LogisticRegression was fitted with feature names\n",
            "  \"X does not have valid feature names, but\"\n"
          ]
        }
      ],
      "source": [
        "print(lr.predict([[900, 1000, 850, 23, 27, 18, 34, 12, 1, 23, 2, 45]]))\n",
        "print(lr.predict([[900, 860, 950 , 26, 31, 20, 70 , 50 , 3 , 20 , 6 , 25 ]]))"
      ]
    },
    {
      "cell_type": "markdown",
      "metadata": {
        "id": "mKC6j3lrpeA7"
      },
      "source": []
    },
    {
      "cell_type": "markdown",
      "metadata": {
        "id": "3CkUp7B21d_d"
      },
      "source": [
        "利用joblib模組將模型匯出"
      ]
    },
    {
      "cell_type": "code",
      "execution_count": null,
      "metadata": {
        "colab": {
          "base_uri": "https://localhost:8080/"
        },
        "id": "u5k-liWl1eU_",
        "outputId": "a35cf923-156c-4bbe-8fec-227b472deaa4"
      },
      "outputs": [
        {
          "data": {
            "text/plain": [
              "['Precipitation_Predict.pkl']"
            ]
          },
          "execution_count": 25,
          "metadata": {},
          "output_type": "execute_result"
        }
      ],
      "source": [
        "import joblib\n",
        "joblib.dump(lr,'Precipitation_Predict.pkl',compress=3)"
      ]
    },
    {
      "cell_type": "code",
      "execution_count": null,
      "metadata": {
        "id": "9qDCz8xFopty"
      },
      "outputs": [],
      "source": []
    }
  ],
  "metadata": {
    "colab": {
      "provenance": []
    },
    "kernelspec": {
      "display_name": "Python 3",
      "language": "python",
      "name": "python3"
    },
    "language_info": {
      "name": "python",
      "version": "3.10.1 (v3.10.1:2cd268a3a9, Dec  6 2021, 14:28:59) [Clang 13.0.0 (clang-1300.0.29.3)]"
    },
    "vscode": {
      "interpreter": {
        "hash": "aee8b7b246df8f9039afb4144a1f6fd8d2ca17a180786b69acc140d282b71a49"
      }
    }
  },
  "nbformat": 4,
  "nbformat_minor": 0
}
