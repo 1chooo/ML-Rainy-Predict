{
  "cells": [
    {
      "cell_type": "markdown",
      "metadata": {
        "colab_type": "text",
        "id": "view-in-github"
      },
      "source": [
        "<a href=\"https://colab.research.google.com/github/1chooo/ML-Rainy-Predict/blob/main/main.ipynb\" target=\"_parent\"><img src=\"https://colab.research.google.com/assets/colab-badge.svg\" alt=\"Open In Colab\"/></a>"
      ]
    },
    {
      "cell_type": "markdown",
      "metadata": {
        "id": "7lfkZaltMTnv"
      },
      "source": [
        "# **梅雨還是沒雨？**"
      ]
    },
    {
      "cell_type": "markdown",
      "metadata": {
        "id": "4ZRYCWMPLz4d"
      },
      "source": [
        "安裝套件"
      ]
    },
    {
      "cell_type": "markdown",
      "metadata": {
        "id": "gV6_uZo00MtE"
      },
      "source": [
        "Import 套件"
      ]
    },
    {
      "cell_type": "code",
      "execution_count": 1,
      "metadata": {
        "id": "iL2BEHyxzzVy"
      },
      "outputs": [],
      "source": [
        "# -*- coding: utf-8 -*-\n",
        "\n",
        "import pandas as pd\n",
        "import numpy as np\n",
        "import matplotlib.pyplot as plt\n",
        "import seaborn as sns\n",
        "import pandas as pd\n",
        "import numpy as np\n",
        "import os\n",
        "import glob"
      ]
    },
    {
      "cell_type": "markdown",
      "metadata": {
        "id": "3gcqCR3i0KTG"
      },
      "source": [
        "利用已取得的資料，讀取並存入讀取並存入data frame"
      ]
    },
    {
      "cell_type": "code",
      "execution_count": 2,
      "metadata": {},
      "outputs": [],
      "source": [
        "data_path = 'merged_data.csv'"
      ]
    },
    {
      "cell_type": "code",
      "execution_count": 3,
      "metadata": {
        "id": "728lvtKO0ZUy"
      },
      "outputs": [],
      "source": [
        "df = pd.read_csv(data_path)"
      ]
    },
    {
      "cell_type": "markdown",
      "metadata": {
        "id": "5HQsMVy-03Aq"
      },
      "source": [
        "Explore the data we have."
      ]
    },
    {
      "cell_type": "code",
      "execution_count": 4,
      "metadata": {
        "colab": {
          "base_uri": "https://localhost:8080/",
          "height": 841
        },
        "id": "Vz-7yive5YuQ",
        "outputId": "3fe620ac-b0b0-47a2-8441-3dc06879ab38"
      },
      "outputs": [
        {
          "name": "stdout",
          "output_type": "stream",
          "text": [
            "<class 'pandas.core.frame.DataFrame'>\n",
            "RangeIndex: 854 entries, 0 to 853\n",
            "Data columns (total 35 columns):\n",
            " #   Column          Non-Null Count  Dtype  \n",
            "---  ------          --------------  -----  \n",
            " 0   ObsTime         854 non-null    int64  \n",
            " 1   StnPres         854 non-null    object \n",
            " 2   SeaPres         854 non-null    object \n",
            " 3   StnPresMax      854 non-null    object \n",
            " 4   StnPresMaxTime  854 non-null    object \n",
            " 5   StnPresMin      854 non-null    object \n",
            " 6   StnPresMinTime  854 non-null    object \n",
            " 7   Temperature     854 non-null    object \n",
            " 8   T Max           854 non-null    object \n",
            " 9   T Max Time      854 non-null    object \n",
            " 10  T Min           854 non-null    object \n",
            " 11  T Min Time      854 non-null    object \n",
            " 12  Td dew point    854 non-null    object \n",
            " 13  RH              854 non-null    object \n",
            " 14  RHMin           854 non-null    object \n",
            " 15  RHMinTime       854 non-null    object \n",
            " 16  WS              854 non-null    object \n",
            " 17  WD              854 non-null    object \n",
            " 18  WSGust          854 non-null    object \n",
            " 19  WDGust          854 non-null    object \n",
            " 20  WGustTime       854 non-null    object \n",
            " 21  Precp           854 non-null    float64\n",
            " 22  PrecpHour       854 non-null    object \n",
            " 23  PrecpMax10      854 non-null    object \n",
            " 24  PrecpMax10Time  854 non-null    object \n",
            " 25  PrecpMax60      854 non-null    object \n",
            " 26  PrecpMax60Time  854 non-null    object \n",
            " 27  SunShine        854 non-null    object \n",
            " 28  SunShineRate    854 non-null    object \n",
            " 29  GloblRad        854 non-null    object \n",
            " 30  VisbMean        854 non-null    object \n",
            " 31  EvapA           854 non-null    object \n",
            " 32  UVI Max         854 non-null    object \n",
            " 33  UVI Max Time    854 non-null    object \n",
            " 34  Cloud Amount    854 non-null    object \n",
            "dtypes: float64(1), int64(1), object(33)\n",
            "memory usage: 233.6+ KB\n"
          ]
        },
        {
          "data": {
            "text/html": [
              "<div>\n",
              "<style scoped>\n",
              "    .dataframe tbody tr th:only-of-type {\n",
              "        vertical-align: middle;\n",
              "    }\n",
              "\n",
              "    .dataframe tbody tr th {\n",
              "        vertical-align: top;\n",
              "    }\n",
              "\n",
              "    .dataframe thead th {\n",
              "        text-align: right;\n",
              "    }\n",
              "</style>\n",
              "<table border=\"1\" class=\"dataframe\">\n",
              "  <thead>\n",
              "    <tr style=\"text-align: right;\">\n",
              "      <th></th>\n",
              "      <th>count</th>\n",
              "      <th>mean</th>\n",
              "      <th>std</th>\n",
              "      <th>min</th>\n",
              "      <th>25%</th>\n",
              "      <th>50%</th>\n",
              "      <th>75%</th>\n",
              "      <th>max</th>\n",
              "    </tr>\n",
              "  </thead>\n",
              "  <tbody>\n",
              "    <tr>\n",
              "      <th>ObsTime</th>\n",
              "      <td>854.0</td>\n",
              "      <td>15.754098</td>\n",
              "      <td>8.812117</td>\n",
              "      <td>1.0</td>\n",
              "      <td>8.0</td>\n",
              "      <td>16.0</td>\n",
              "      <td>23.0</td>\n",
              "      <td>31.0</td>\n",
              "    </tr>\n",
              "    <tr>\n",
              "      <th>Precp</th>\n",
              "      <td>854.0</td>\n",
              "      <td>8.038642</td>\n",
              "      <td>21.628585</td>\n",
              "      <td>0.0</td>\n",
              "      <td>0.0</td>\n",
              "      <td>0.0</td>\n",
              "      <td>4.0</td>\n",
              "      <td>312.0</td>\n",
              "    </tr>\n",
              "  </tbody>\n",
              "</table>\n",
              "</div>"
            ],
            "text/plain": [
              "         count       mean        std  min  25%   50%   75%    max\n",
              "ObsTime  854.0  15.754098   8.812117  1.0  8.0  16.0  23.0   31.0\n",
              "Precp    854.0   8.038642  21.628585  0.0  0.0   0.0   4.0  312.0"
            ]
          },
          "execution_count": 4,
          "metadata": {},
          "output_type": "execute_result"
        }
      ],
      "source": [
        "df.info()\n",
        "df.head()\n",
        "df.describe().T"
      ]
    },
    {
      "cell_type": "markdown",
      "metadata": {
        "id": "f7uh_4h95zgw"
      },
      "source": [
        "由上看出有些資料我們並不需要，因此我們加以整理，因此移除我們覺得不需要的變數"
      ]
    },
    {
      "cell_type": "markdown",
      "metadata": {
        "id": "1njUSBiB6MrS"
      },
      "source": [
        "再觀察一下我們的資料"
      ]
    },
    {
      "cell_type": "markdown",
      "metadata": {
        "id": "XhOR_qjo07ya"
      },
      "source": [
        "首先我們看到幾乎所有資料的型態都為object並且都沒有缺失值，因此我們要對此處理，結果發現轉換不了，有些原始資料的缺失值會以「...」的方式補齊，所以我們要先把「...」先替代掉，再把data type轉換成轉換成float。"
      ]
    },
    {
      "cell_type": "code",
      "execution_count": 5,
      "metadata": {
        "colab": {
          "base_uri": "https://localhost:8080/"
        },
        "id": "s6CiKZAGDMK7",
        "outputId": "fe75de3f-0316-4f84-f9c7-7b0143a50d94"
      },
      "outputs": [
        {
          "name": "stdout",
          "output_type": "stream",
          "text": [
            "<class 'pandas.core.frame.DataFrame'>\n",
            "RangeIndex: 854 entries, 0 to 853\n",
            "Data columns (total 13 columns):\n",
            " #   Column       Non-Null Count  Dtype  \n",
            "---  ------       --------------  -----  \n",
            " 0   StnPres      854 non-null    object \n",
            " 1   StnPresMax   854 non-null    object \n",
            " 2   StnPresMin   854 non-null    object \n",
            " 3   Temperature  854 non-null    object \n",
            " 4   T Max        854 non-null    object \n",
            " 5   T Min        854 non-null    object \n",
            " 6   RH           854 non-null    object \n",
            " 7   RHMin        854 non-null    object \n",
            " 8   WS           854 non-null    object \n",
            " 9   WD           854 non-null    object \n",
            " 10  WSGust       854 non-null    object \n",
            " 11  WDGust       854 non-null    object \n",
            " 12  Precp        854 non-null    float64\n",
            "dtypes: float64(1), object(12)\n",
            "memory usage: 86.9+ KB\n"
          ]
        }
      ],
      "source": [
        "df.drop(['ObsTime', 'SeaPres', 'StnPresMaxTime', 'StnPresMinTime'], axis = 1, inplace = True)\n",
        "df.drop(['T Max Time', 'T Min Time', 'Td dew point'], axis = 1, inplace = True)\n",
        "df.drop(['RHMinTime', 'WGustTime'], axis = 1, inplace = True)\n",
        "df.drop(['PrecpHour', 'PrecpMax10', 'PrecpMax10Time', 'PrecpMax60', 'PrecpMax60Time'], axis = 1, inplace = True)\n",
        "df.drop(['SunShine', 'SunShineRate', 'GloblRad', 'VisbMean'], axis = 1, inplace = True)\n",
        "df.drop(['EvapA', 'UVI Max', 'UVI Max Time', 'Cloud Amount'], axis = 1, inplace = True) \n",
        "df.info()"
      ]
    },
    {
      "cell_type": "code",
      "execution_count": 6,
      "metadata": {
        "id": "6dB_Pdhc06VA"
      },
      "outputs": [],
      "source": [
        "df = df.replace('...','-999')\n",
        "df = df.replace('/','-999')\n",
        "\n",
        "\n",
        "for i in range(854):\n",
        "    for j in range(0, 13):\n",
        "        if df.iloc[i, j] == '-999':\n",
        "            df.iloc[i, j] = 0.0\n",
        "\n",
        "# df = pd.DataFrame(df, dtype = np.float)"
      ]
    },
    {
      "cell_type": "code",
      "execution_count": 7,
      "metadata": {
        "colab": {
          "base_uri": "https://localhost:8080/"
        },
        "id": "nb_u_cJmC5h8",
        "outputId": "9c3283b4-8659-4446-c2a1-5cbb8452fa3b"
      },
      "outputs": [],
      "source": [
        "df = pd.DataFrame(df, dtype = np.float64)"
      ]
    },
    {
      "cell_type": "markdown",
      "metadata": {
        "id": "mzd-GsOs7_y4"
      },
      "source": [
        "再觀察一下我們的資料"
      ]
    },
    {
      "cell_type": "code",
      "execution_count": 8,
      "metadata": {
        "colab": {
          "base_uri": "https://localhost:8080/"
        },
        "id": "B6Dr8cXT7_97",
        "outputId": "948c0b9c-6fec-4f75-fbff-2fe042eed2ae"
      },
      "outputs": [
        {
          "name": "stdout",
          "output_type": "stream",
          "text": [
            "<class 'pandas.core.frame.DataFrame'>\n",
            "RangeIndex: 854 entries, 0 to 853\n",
            "Data columns (total 13 columns):\n",
            " #   Column       Non-Null Count  Dtype  \n",
            "---  ------       --------------  -----  \n",
            " 0   StnPres      854 non-null    float64\n",
            " 1   StnPresMax   854 non-null    float64\n",
            " 2   StnPresMin   854 non-null    float64\n",
            " 3   Temperature  854 non-null    float64\n",
            " 4   T Max        854 non-null    float64\n",
            " 5   T Min        854 non-null    float64\n",
            " 6   RH           854 non-null    float64\n",
            " 7   RHMin        854 non-null    float64\n",
            " 8   WS           854 non-null    float64\n",
            " 9   WD           854 non-null    float64\n",
            " 10  WSGust       854 non-null    float64\n",
            " 11  WDGust       854 non-null    float64\n",
            " 12  Precp        854 non-null    float64\n",
            "dtypes: float64(13)\n",
            "memory usage: 86.9 KB\n"
          ]
        }
      ],
      "source": [
        "df.info()"
      ]
    },
    {
      "cell_type": "markdown",
      "metadata": {
        "id": "beDzyDy_06LS"
      },
      "source": [
        "我們先處理降雨量，因為有降水及代表有下雨，所以只要大於大於0就轉換為1，反之轉換為0。"
      ]
    },
    {
      "cell_type": "code",
      "execution_count": 9,
      "metadata": {
        "id": "IGnunyhB1Do1"
      },
      "outputs": [],
      "source": [
        "for k in range(854):\n",
        "    if df.iloc[k,12] > 0.0:\n",
        "        df.iloc[k,12] = 1\n",
        "    else:\n",
        "        df.iloc[k,12] = 0"
      ]
    },
    {
      "cell_type": "markdown",
      "metadata": {
        "id": "B-ryy02n1FVe"
      },
      "source": [
        "有些資料我們打算用平均值來填補，並取到小數點後第一位"
      ]
    },
    {
      "cell_type": "code",
      "execution_count": 10,
      "metadata": {
        "id": "mtuCyhY71JUk"
      },
      "outputs": [],
      "source": [
        "count0, count1, count2, count3, count4, count5, count8 , count10 = 0, 0, 0, 0 ,0, 0, 0, 0\n",
        "stnprestotal , stnpresmaxtotal , stnpresmintotal, WStotal , WSGusttotal, Ttotal , Tmaxtotal , Tmintotal = 0 , 0 , 0, 0 , 0, 0 , 0 , 0\n",
        "\n",
        "for k in range(0,853):\n",
        "    if (df.iloc[k,0] != -999.0):\n",
        "        stnpres = float(df.iloc[k,0])\n",
        "        count0 += 1\n",
        "        stnprestotal += stnpres\n",
        "    if (df.iloc[k,1] != -999.0):\n",
        "        stnpresmax = float(df.iloc[k,1])\n",
        "        count1 += 1\n",
        "        stnpresmaxtotal += stnpresmax\n",
        "    if (df.iloc[k,2] != -999.0):\n",
        "        stnpresmin = float(df.iloc[k,2])\n",
        "        count2 += 1\n",
        "        stnpresmintotal += stnpresmin\n",
        "    if (df.iloc[k,3] != -999.0):\n",
        "        T = float(df.iloc[k,3])\n",
        "        count3 += 1\n",
        "        Ttotal += T\n",
        "    if (df.iloc[k,4] != -999.0):\n",
        "        Tmax = float(df.iloc[k,4])\n",
        "        count4 += 1\n",
        "        Tmaxtotal += Tmax\n",
        "    if (df.iloc[k,5] != -999.0):\n",
        "        Tmin = float(df.iloc[k,5])\n",
        "        count5 += 1\n",
        "        Tmintotal += Tmin\n",
        "    if (df.iloc[k,8] != -999.0):\n",
        "        WS = float(df.iloc[k,8])\n",
        "        count8 += 1\n",
        "        WStotal += WS\n",
        "    if (df.iloc[k,10] != -999.0):\n",
        "        WSGust = float(df.iloc[k,10])\n",
        "        count10 += 1\n",
        "        WSGusttotal += WSGust\n",
        "\n",
        "ave0 = round(stnprestotal / count0 , 1)\n",
        "ave1 = round(stnpresmaxtotal / count1 , 1)\n",
        "ave2 = round(stnpresmintotal / count2 , 1)\n",
        "ave3 = round(Ttotal / count3 , 1)\n",
        "ave4 = round(Tmaxtotal / count4 , 1)\n",
        "ave5 = round(Tmintotal / count5 , 1)\n",
        "ave8 = round(WStotal / count8 , 1)\n",
        "ave10 = round(WSGusttotal / count10 , 1)\n",
        "\n",
        "for c in range(854):\n",
        "    if df.iloc[c,0] == -999.0:\n",
        "        df.iloc[c,0] = ave0\n",
        "    if df.iloc[c,1] == -999.0:\n",
        "        df.iloc[c,1] = ave1\n",
        "    if df.iloc[c,2] == -999.0:\n",
        "        df.iloc[c,2] = ave2\n",
        "    if df.iloc[c,3] == -999.0:\n",
        "        df.iloc[c,3] = ave3\n",
        "    if df.iloc[c,4] == -999.0:\n",
        "        df.iloc[c,4] = ave4\n",
        "    if df.iloc[c,5] == -999.0:\n",
        "        df.iloc[c,5] = ave5\n",
        "    if df.iloc[c,8] == -999.0:\n",
        "        df.iloc[c,8] = ave8\n",
        "    if df.iloc[c,10] == -999.0:\n",
        "        df.iloc[c,10] = ave10"
      ]
    },
    {
      "cell_type": "markdown",
      "metadata": {
        "id": "i2y2y_141S4n"
      },
      "source": [
        "剩下的資料我們以眾數的方式來填補缺失值"
      ]
    },
    {
      "cell_type": "code",
      "execution_count": 11,
      "metadata": {
        "id": "Ea0bnBNx1TOB"
      },
      "outputs": [],
      "source": [
        "for i in range(854):\n",
        "    if df.iloc[i,6] == -999.0:\n",
        "            df.iloc[i,6] = df['RH'].value_counts().idxmax()\n",
        "\n",
        "for i in range(854):\n",
        "    if df.iloc[i,7] == -999.0:\n",
        "            df.iloc[i,7] = df['RHMin'].value_counts().idxmax()           \n",
        "\n",
        "for i in range(854):\n",
        "    if df.iloc[i,9] == -999.0:\n",
        "            df.iloc[i,9] = df['WD'].value_counts().idxmax()\n",
        "\n",
        "for i in range(854):\n",
        "    if df.iloc[i,11] == -999.0:\n",
        "            df.iloc[i,11] = df['WDGust'].value_counts().idxmax()"
      ]
    },
    {
      "cell_type": "markdown",
      "metadata": {
        "id": "DdBrHrOS1Ujs"
      },
      "source": [
        "接著我們看看，每個各別資料對雨量的關係圖"
      ]
    },
    {
      "cell_type": "code",
      "execution_count": 12,
      "metadata": {
        "colab": {
          "base_uri": "https://localhost:8080/",
          "height": 680
        },
        "id": "IrZpkRQD_YgL",
        "outputId": "2ff6820b-f21a-48f4-ef19-fa93ea8c6065"
      },
      "outputs": [
        {
          "data": {
            "image/png": "[encoded data removed]",
            "text/plain": [
              "<Figure size 1600x1200 with 12 Axes>"
            ]
          },
          "metadata": {},
          "output_type": "display_data"
        }
      ],
      "source": [
        "x1 = df['StnPres']\n",
        "x2 = df['StnPresMax']\n",
        "x3 = df['StnPresMin']\n",
        "x4 = df['T Max']\n",
        "x5 = df['T Min']\n",
        "x6 = df['Temperature']\n",
        "x7 = df['RH']\n",
        "x8 = df['RHMin']\n",
        "x9 = df['WS']\n",
        "x10 = df['WD']\n",
        "x11 = df['WSGust']\n",
        "x12 = df['WDGust']\n",
        "y = df['Precp']\n",
        "\n",
        "plt.figure(figsize=(16, 12))\n",
        "\n",
        "plt.subplot(3, 4, 1)\n",
        "plt.scatter(x1,y)\n",
        "plt.subplot(3, 4, 2)\n",
        "plt.scatter(x2,y)\n",
        "plt.subplot(3, 4, 3)\n",
        "plt.scatter(x3,y)\n",
        "plt.subplot(3, 4, 4)\n",
        "plt.scatter(x4,y)\n",
        "plt.subplot(3, 4, 5)\n",
        "plt.scatter(x5,y)\n",
        "plt.subplot(3, 4, 6)\n",
        "plt.scatter(x6,y)\n",
        "plt.subplot(3, 4, 7)\n",
        "plt.scatter(x7,y)\n",
        "plt.subplot(3, 4, 8)\n",
        "plt.scatter(x8,y)\n",
        "plt.subplot(3, 4, 9)\n",
        "plt.scatter(x9,y)\n",
        "plt.subplot(3, 4, 10)\n",
        "plt.scatter(x10,y)\n",
        "plt.subplot(3, 4, 11)\n",
        "plt.scatter(x11,y)\n",
        "plt.subplot(3, 4, 12)\n",
        "plt.scatter(x12,y)\n",
        "\n",
        "plt.show()"
      ]
    },
    {
      "cell_type": "markdown",
      "metadata": {
        "id": "4Upip-X2U851"
      },
      "source": [
        "接著我們看看，每個各別變數之間相關係數"
      ]
    },
    {
      "cell_type": "code",
      "execution_count": 13,
      "metadata": {
        "colab": {
          "base_uri": "https://localhost:8080/",
          "height": 521
        },
        "id": "YMzEwDfnU9RV",
        "outputId": "ec0c292b-4fba-4ed5-eca3-d5235ae3651e"
      },
      "outputs": [
        {
          "data": {
            "text/html": [
              "<div>\n",
              "<style scoped>\n",
              "    .dataframe tbody tr th:only-of-type {\n",
              "        vertical-align: middle;\n",
              "    }\n",
              "\n",
              "    .dataframe tbody tr th {\n",
              "        vertical-align: top;\n",
              "    }\n",
              "\n",
              "    .dataframe thead th {\n",
              "        text-align: right;\n",
              "    }\n",
              "</style>\n",
              "<table border=\"1\" class=\"dataframe\">\n",
              "  <thead>\n",
              "    <tr style=\"text-align: right;\">\n",
              "      <th></th>\n",
              "      <th>StnPres</th>\n",
              "      <th>StnPresMax</th>\n",
              "      <th>StnPresMin</th>\n",
              "      <th>Temperature</th>\n",
              "      <th>T Max</th>\n",
              "      <th>T Min</th>\n",
              "      <th>RH</th>\n",
              "      <th>RHMin</th>\n",
              "      <th>WS</th>\n",
              "      <th>WD</th>\n",
              "      <th>WSGust</th>\n",
              "      <th>WDGust</th>\n",
              "      <th>Precp</th>\n",
              "    </tr>\n",
              "  </thead>\n",
              "  <tbody>\n",
              "    <tr>\n",
              "      <th>StnPres</th>\n",
              "      <td>1.000000</td>\n",
              "      <td>0.240201</td>\n",
              "      <td>0.240289</td>\n",
              "      <td>0.272549</td>\n",
              "      <td>0.168845</td>\n",
              "      <td>0.153820</td>\n",
              "      <td>0.285313</td>\n",
              "      <td>0.132303</td>\n",
              "      <td>0.044859</td>\n",
              "      <td>0.033314</td>\n",
              "      <td>0.015842</td>\n",
              "      <td>0.035912</td>\n",
              "      <td>0.019570</td>\n",
              "    </tr>\n",
              "    <tr>\n",
              "      <th>StnPresMax</th>\n",
              "      <td>0.240201</td>\n",
              "      <td>1.000000</td>\n",
              "      <td>0.999973</td>\n",
              "      <td>0.056268</td>\n",
              "      <td>0.768712</td>\n",
              "      <td>0.729879</td>\n",
              "      <td>0.074762</td>\n",
              "      <td>0.553902</td>\n",
              "      <td>0.043982</td>\n",
              "      <td>0.034027</td>\n",
              "      <td>0.111267</td>\n",
              "      <td>0.215487</td>\n",
              "      <td>-0.001650</td>\n",
              "    </tr>\n",
              "    <tr>\n",
              "      <th>StnPresMin</th>\n",
              "      <td>0.240289</td>\n",
              "      <td>0.999973</td>\n",
              "      <td>1.000000</td>\n",
              "      <td>0.056728</td>\n",
              "      <td>0.768907</td>\n",
              "      <td>0.730449</td>\n",
              "      <td>0.074363</td>\n",
              "      <td>0.553597</td>\n",
              "      <td>0.042953</td>\n",
              "      <td>0.033559</td>\n",
              "      <td>0.110630</td>\n",
              "      <td>0.215243</td>\n",
              "      <td>-0.002730</td>\n",
              "    </tr>\n",
              "    <tr>\n",
              "      <th>Temperature</th>\n",
              "      <td>0.272549</td>\n",
              "      <td>0.056268</td>\n",
              "      <td>0.056728</td>\n",
              "      <td>1.000000</td>\n",
              "      <td>0.615459</td>\n",
              "      <td>0.563524</td>\n",
              "      <td>-0.304349</td>\n",
              "      <td>-0.331209</td>\n",
              "      <td>-0.110673</td>\n",
              "      <td>0.564645</td>\n",
              "      <td>0.089133</td>\n",
              "      <td>0.405178</td>\n",
              "      <td>-0.406448</td>\n",
              "    </tr>\n",
              "    <tr>\n",
              "      <th>T Max</th>\n",
              "      <td>0.168845</td>\n",
              "      <td>0.768712</td>\n",
              "      <td>0.768907</td>\n",
              "      <td>0.615459</td>\n",
              "      <td>1.000000</td>\n",
              "      <td>0.865799</td>\n",
              "      <td>-0.259750</td>\n",
              "      <td>0.089095</td>\n",
              "      <td>-0.046342</td>\n",
              "      <td>0.365773</td>\n",
              "      <td>0.152831</td>\n",
              "      <td>0.409718</td>\n",
              "      <td>-0.295950</td>\n",
              "    </tr>\n",
              "    <tr>\n",
              "      <th>T Min</th>\n",
              "      <td>0.153820</td>\n",
              "      <td>0.729879</td>\n",
              "      <td>0.730449</td>\n",
              "      <td>0.563524</td>\n",
              "      <td>0.865799</td>\n",
              "      <td>1.000000</td>\n",
              "      <td>-0.043790</td>\n",
              "      <td>0.317525</td>\n",
              "      <td>-0.035807</td>\n",
              "      <td>0.298919</td>\n",
              "      <td>0.146913</td>\n",
              "      <td>0.379962</td>\n",
              "      <td>-0.151575</td>\n",
              "    </tr>\n",
              "    <tr>\n",
              "      <th>RH</th>\n",
              "      <td>0.285313</td>\n",
              "      <td>0.074762</td>\n",
              "      <td>0.074363</td>\n",
              "      <td>-0.304349</td>\n",
              "      <td>-0.259750</td>\n",
              "      <td>-0.043790</td>\n",
              "      <td>1.000000</td>\n",
              "      <td>0.745634</td>\n",
              "      <td>-0.311686</td>\n",
              "      <td>-0.260921</td>\n",
              "      <td>-0.126060</td>\n",
              "      <td>-0.187863</td>\n",
              "      <td>0.616572</td>\n",
              "    </tr>\n",
              "    <tr>\n",
              "      <th>RHMin</th>\n",
              "      <td>0.132303</td>\n",
              "      <td>0.553902</td>\n",
              "      <td>0.553597</td>\n",
              "      <td>-0.331209</td>\n",
              "      <td>0.089095</td>\n",
              "      <td>0.317525</td>\n",
              "      <td>0.745634</td>\n",
              "      <td>1.000000</td>\n",
              "      <td>-0.133481</td>\n",
              "      <td>-0.233848</td>\n",
              "      <td>-0.090241</td>\n",
              "      <td>-0.066406</td>\n",
              "      <td>0.445047</td>\n",
              "    </tr>\n",
              "    <tr>\n",
              "      <th>WS</th>\n",
              "      <td>0.044859</td>\n",
              "      <td>0.043982</td>\n",
              "      <td>0.042953</td>\n",
              "      <td>-0.110673</td>\n",
              "      <td>-0.046342</td>\n",
              "      <td>-0.035807</td>\n",
              "      <td>-0.311686</td>\n",
              "      <td>-0.133481</td>\n",
              "      <td>1.000000</td>\n",
              "      <td>-0.050616</td>\n",
              "      <td>0.049441</td>\n",
              "      <td>-0.077140</td>\n",
              "      <td>-0.093244</td>\n",
              "    </tr>\n",
              "    <tr>\n",
              "      <th>WD</th>\n",
              "      <td>0.033314</td>\n",
              "      <td>0.034027</td>\n",
              "      <td>0.033559</td>\n",
              "      <td>0.564645</td>\n",
              "      <td>0.365773</td>\n",
              "      <td>0.298919</td>\n",
              "      <td>-0.260921</td>\n",
              "      <td>-0.233848</td>\n",
              "      <td>-0.050616</td>\n",
              "      <td>1.000000</td>\n",
              "      <td>0.086360</td>\n",
              "      <td>0.423635</td>\n",
              "      <td>-0.252854</td>\n",
              "    </tr>\n",
              "    <tr>\n",
              "      <th>WSGust</th>\n",
              "      <td>0.015842</td>\n",
              "      <td>0.111267</td>\n",
              "      <td>0.110630</td>\n",
              "      <td>0.089133</td>\n",
              "      <td>0.152831</td>\n",
              "      <td>0.146913</td>\n",
              "      <td>-0.126060</td>\n",
              "      <td>-0.090241</td>\n",
              "      <td>0.049441</td>\n",
              "      <td>0.086360</td>\n",
              "      <td>1.000000</td>\n",
              "      <td>0.136021</td>\n",
              "      <td>0.022690</td>\n",
              "    </tr>\n",
              "    <tr>\n",
              "      <th>WDGust</th>\n",
              "      <td>0.035912</td>\n",
              "      <td>0.215487</td>\n",
              "      <td>0.215243</td>\n",
              "      <td>0.405178</td>\n",
              "      <td>0.409718</td>\n",
              "      <td>0.379962</td>\n",
              "      <td>-0.187863</td>\n",
              "      <td>-0.066406</td>\n",
              "      <td>-0.077140</td>\n",
              "      <td>0.423635</td>\n",
              "      <td>0.136021</td>\n",
              "      <td>1.000000</td>\n",
              "      <td>-0.208240</td>\n",
              "    </tr>\n",
              "    <tr>\n",
              "      <th>Precp</th>\n",
              "      <td>0.019570</td>\n",
              "      <td>-0.001650</td>\n",
              "      <td>-0.002730</td>\n",
              "      <td>-0.406448</td>\n",
              "      <td>-0.295950</td>\n",
              "      <td>-0.151575</td>\n",
              "      <td>0.616572</td>\n",
              "      <td>0.445047</td>\n",
              "      <td>-0.093244</td>\n",
              "      <td>-0.252854</td>\n",
              "      <td>0.022690</td>\n",
              "      <td>-0.208240</td>\n",
              "      <td>1.000000</td>\n",
              "    </tr>\n",
              "  </tbody>\n",
              "</table>\n",
              "</div>"
            ],
            "text/plain": [
              "              StnPres  StnPresMax  StnPresMin  Temperature     T Max  \\\n",
              "StnPres      1.000000    0.240201    0.240289     0.272549  0.168845   \n",
              "StnPresMax   0.240201    1.000000    0.999973     0.056268  0.768712   \n",
              "StnPresMin   0.240289    0.999973    1.000000     0.056728  0.768907   \n",
              "Temperature  0.272549    0.056268    0.056728     1.000000  0.615459   \n",
              "T Max        0.168845    0.768712    0.768907     0.615459  1.000000   \n",
              "T Min        0.153820    0.729879    0.730449     0.563524  0.865799   \n",
              "RH           0.285313    0.074762    0.074363    -0.304349 -0.259750   \n",
              "RHMin        0.132303    0.553902    0.553597    -0.331209  0.089095   \n",
              "WS           0.044859    0.043982    0.042953    -0.110673 -0.046342   \n",
              "WD           0.033314    0.034027    0.033559     0.564645  0.365773   \n",
              "WSGust       0.015842    0.111267    0.110630     0.089133  0.152831   \n",
              "WDGust       0.035912    0.215487    0.215243     0.405178  0.409718   \n",
              "Precp        0.019570   -0.001650   -0.002730    -0.406448 -0.295950   \n",
              "\n",
              "                T Min        RH     RHMin        WS        WD    WSGust  \\\n",
              "StnPres      0.153820  0.285313  0.132303  0.044859  0.033314  0.015842   \n",
              "StnPresMax   0.729879  0.074762  0.553902  0.043982  0.034027  0.111267   \n",
              "StnPresMin   0.730449  0.074363  0.553597  0.042953  0.033559  0.110630   \n",
              "Temperature  0.563524 -0.304349 -0.331209 -0.110673  0.564645  0.089133   \n",
              "T Max        0.865799 -0.259750  0.089095 -0.046342  0.365773  0.152831   \n",
              "T Min        1.000000 -0.043790  0.317525 -0.035807  0.298919  0.146913   \n",
              "RH          -0.043790  1.000000  0.745634 -0.311686 -0.260921 -0.126060   \n",
              "RHMin        0.317525  0.745634  1.000000 -0.133481 -0.233848 -0.090241   \n",
              "WS          -0.035807 -0.311686 -0.133481  1.000000 -0.050616  0.049441   \n",
              "WD           0.298919 -0.260921 -0.233848 -0.050616  1.000000  0.086360   \n",
              "WSGust       0.146913 -0.126060 -0.090241  0.049441  0.086360  1.000000   \n",
              "WDGust       0.379962 -0.187863 -0.066406 -0.077140  0.423635  0.136021   \n",
              "Precp       -0.151575  0.616572  0.445047 -0.093244 -0.252854  0.022690   \n",
              "\n",
              "               WDGust     Precp  \n",
              "StnPres      0.035912  0.019570  \n",
              "StnPresMax   0.215487 -0.001650  \n",
              "StnPresMin   0.215243 -0.002730  \n",
              "Temperature  0.405178 -0.406448  \n",
              "T Max        0.409718 -0.295950  \n",
              "T Min        0.379962 -0.151575  \n",
              "RH          -0.187863  0.616572  \n",
              "RHMin       -0.066406  0.445047  \n",
              "WS          -0.077140 -0.093244  \n",
              "WD           0.423635 -0.252854  \n",
              "WSGust       0.136021  0.022690  \n",
              "WDGust       1.000000 -0.208240  \n",
              "Precp       -0.208240  1.000000  "
            ]
          },
          "execution_count": 13,
          "metadata": {},
          "output_type": "execute_result"
        }
      ],
      "source": [
        "df.corr()"
      ]
    },
    {
      "cell_type": "markdown",
      "metadata": {
        "id": "sp476FjdHfIC"
      },
      "source": [
        "我們接著再把所有資料都餵給模型，來觀察模型辨識程度"
      ]
    },
    {
      "cell_type": "code",
      "execution_count": 14,
      "metadata": {
        "colab": {
          "base_uri": "https://localhost:8080/"
        },
        "id": "BJzSkD0I_KFq",
        "outputId": "2a0dce47-2098-4542-c09e-f40da2f61bc4"
      },
      "outputs": [
        {
          "name": "stderr",
          "output_type": "stream",
          "text": [
            "/Library/Frameworks/Python.framework/Versions/3.10/lib/python3.10/site-packages/sklearn/linear_model/_logistic.py:458: ConvergenceWarning: lbfgs failed to converge (status=1):\n",
            "STOP: TOTAL NO. of ITERATIONS REACHED LIMIT.\n",
            "\n",
            "Increase the number of iterations (max_iter) or scale the data as shown in:\n",
            "    https://scikit-learn.org/stable/modules/preprocessing.html\n",
            "Please also refer to the documentation for alternative solver options:\n",
            "    https://scikit-learn.org/stable/modules/linear_model.html#logistic-regression\n",
            "  n_iter_i = _check_optimize_result(\n"
          ]
        },
        {
          "data": {
            "text/plain": [
              "0.7647058823529411"
            ]
          },
          "execution_count": 14,
          "metadata": {},
          "output_type": "execute_result"
        }
      ],
      "source": [
        "X = df.drop(['Precp'], axis=1)\n",
        "y = df['Precp']\n",
        "\n",
        "from sklearn.model_selection import train_test_split\n",
        "from sklearn.linear_model import LogisticRegression\n",
        "from sklearn.metrics import confusion_matrix, accuracy_score, precision_score, recall_score\n",
        "\n",
        "X_train,X_test, y_train,y_test = train_test_split(X, y, test_size=0.3, random_state=67)\n",
        "lr = LogisticRegression(max_iter=200)\n",
        "lr.fit(X_train, y_train)\n",
        "predictions = lr.predict(X_test)\n",
        "accuracy_score(y_test, predictions)\n",
        "recall_score(y_test, predictions)\n",
        "precision_score(y_test, predictions)"
      ]
    },
    {
      "cell_type": "markdown",
      "metadata": {
        "id": "f-OJt4B2HMOT"
      },
      "source": [
        "經過多次交叉測試後，發現什麼都沒有刪除，分數會最高"
      ]
    },
    {
      "cell_type": "code",
      "execution_count": 15,
      "metadata": {
        "colab": {
          "base_uri": "https://localhost:8080/"
        },
        "id": "M5iU2pIZ1U4X",
        "outputId": "6a0820a7-f272-4ab8-aa46-a174b68b27a2"
      },
      "outputs": [
        {
          "name": "stderr",
          "output_type": "stream",
          "text": [
            "/Library/Frameworks/Python.framework/Versions/3.10/lib/python3.10/site-packages/sklearn/linear_model/_logistic.py:458: ConvergenceWarning: lbfgs failed to converge (status=1):\n",
            "STOP: TOTAL NO. of ITERATIONS REACHED LIMIT.\n",
            "\n",
            "Increase the number of iterations (max_iter) or scale the data as shown in:\n",
            "    https://scikit-learn.org/stable/modules/preprocessing.html\n",
            "Please also refer to the documentation for alternative solver options:\n",
            "    https://scikit-learn.org/stable/modules/linear_model.html#logistic-regression\n",
            "  n_iter_i = _check_optimize_result(\n"
          ]
        },
        {
          "data": {
            "text/plain": [
              "0.7647058823529411"
            ]
          },
          "execution_count": 15,
          "metadata": {},
          "output_type": "execute_result"
        }
      ],
      "source": [
        "X = df.drop(['Precp'], axis=1)\n",
        "y = df['Precp']\n",
        "X_train,X_test, y_train,y_test = train_test_split(X, y, test_size=0.3, random_state=67)\n",
        "lr = LogisticRegression(max_iter=200)\n",
        "lr.fit(X_train, y_train)\n",
        "predictions = lr.predict(X_test)\n",
        "accuracy_score(y_test, predictions)\n",
        "recall_score(y_test, predictions)\n",
        "precision_score(y_test, predictions)"
      ]
    },
    {
      "cell_type": "markdown",
      "metadata": {
        "id": "uXpL2iXWK6Eg"
      },
      "source": [
        "接著我們圖表化看出模型的矩陣關係\n"
      ]
    },
    {
      "cell_type": "code",
      "execution_count": 16,
      "metadata": {
        "colab": {
          "base_uri": "https://localhost:8080/",
          "height": 112
        },
        "id": "55v2Cb-gK6TJ",
        "outputId": "673a91a9-13a3-4fba-ba08-4ce2709df6d6"
      },
      "outputs": [
        {
          "data": {
            "text/html": [
              "<div>\n",
              "<style scoped>\n",
              "    .dataframe tbody tr th:only-of-type {\n",
              "        vertical-align: middle;\n",
              "    }\n",
              "\n",
              "    .dataframe tbody tr th {\n",
              "        vertical-align: top;\n",
              "    }\n",
              "\n",
              "    .dataframe thead th {\n",
              "        text-align: right;\n",
              "    }\n",
              "</style>\n",
              "<table border=\"1\" class=\"dataframe\">\n",
              "  <thead>\n",
              "    <tr style=\"text-align: right;\">\n",
              "      <th></th>\n",
              "      <th>Predict not rain</th>\n",
              "      <th>Predict rain</th>\n",
              "    </tr>\n",
              "  </thead>\n",
              "  <tbody>\n",
              "    <tr>\n",
              "      <th>True not rain</th>\n",
              "      <td>148</td>\n",
              "      <td>20</td>\n",
              "    </tr>\n",
              "    <tr>\n",
              "      <th>True rain</th>\n",
              "      <td>24</td>\n",
              "      <td>65</td>\n",
              "    </tr>\n",
              "  </tbody>\n",
              "</table>\n",
              "</div>"
            ],
            "text/plain": [
              "               Predict not rain  Predict rain\n",
              "True not rain               148            20\n",
              "True rain                    24            65"
            ]
          },
          "execution_count": 16,
          "metadata": {},
          "output_type": "execute_result"
        }
      ],
      "source": [
        "pd.DataFrame(confusion_matrix(y_test, predictions), columns = ['Predict not rain','Predict rain'], index=['True not rain', 'True rain'])"
      ]
    },
    {
      "cell_type": "markdown",
      "metadata": {
        "id": "dDcLSPLSIXue"
      },
      "source": [
        "最後我們測試模型的辨認是否順利，然後有發現到測出來的型態為[1.]、[0.]"
      ]
    },
    {
      "cell_type": "code",
      "execution_count": 17,
      "metadata": {
        "colab": {
          "base_uri": "https://localhost:8080/"
        },
        "id": "fLGg2lSM1Yq5",
        "outputId": "7979d6c7-b23d-4da8-ed16-76ab268f87cd"
      },
      "outputs": [
        {
          "name": "stdout",
          "output_type": "stream",
          "text": [
            "[1.]\n",
            "[0.]\n"
          ]
        },
        {
          "name": "stderr",
          "output_type": "stream",
          "text": [
            "/Library/Frameworks/Python.framework/Versions/3.10/lib/python3.10/site-packages/sklearn/base.py:409: UserWarning: X does not have valid feature names, but LogisticRegression was fitted with feature names\n",
            "  warnings.warn(\n",
            "/Library/Frameworks/Python.framework/Versions/3.10/lib/python3.10/site-packages/sklearn/base.py:409: UserWarning: X does not have valid feature names, but LogisticRegression was fitted with feature names\n",
            "  warnings.warn(\n"
          ]
        }
      ],
      "source": [
        "print(lr.predict([[900, 1000, 850, 23, 27, 18, 34, 12, 1, 23, 2, 45]]))\n",
        "print(lr.predict([[900, 860, 950 , 26, 31, 20, 70 , 50 , 3 , 20 , 6 , 25 ]]))"
      ]
    },
    {
      "cell_type": "markdown",
      "metadata": {
        "id": "mKC6j3lrpeA7"
      },
      "source": []
    },
    {
      "cell_type": "markdown",
      "metadata": {
        "id": "3CkUp7B21d_d"
      },
      "source": [
        "利用joblib模組將模型匯出"
      ]
    },
    {
      "cell_type": "code",
      "execution_count": 18,
      "metadata": {
        "colab": {
          "base_uri": "https://localhost:8080/"
        },
        "id": "u5k-liWl1eU_",
        "outputId": "0ecee0d8-e7eb-4070-cd02-3264b50e38eb"
      },
      "outputs": [
        {
          "data": {
            "text/plain": [
              "['Precipitation_Predict.pkl']"
            ]
          },
          "execution_count": 18,
          "metadata": {},
          "output_type": "execute_result"
        }
      ],
      "source": [
        "import joblib\n",
        "joblib.dump(lr,'Precipitation_Predict.pkl',compress=3)"
      ]
    },
    {
      "cell_type": "code",
      "execution_count": null,
      "metadata": {
        "id": "9qDCz8xFopty"
      },
      "outputs": [],
      "source": []
    },
    {
      "cell_type": "code",
      "execution_count": null,
      "metadata": {},
      "outputs": [],
      "source": []
    }
  ],
  "metadata": {
    "colab": {
      "include_colab_link": true,
      "provenance": []
    },
    "kernelspec": {
      "display_name": "Python 3",
      "language": "python",
      "name": "python3"
    },
    "language_info": {
      "codemirror_mode": {
        "name": "ipython",
        "version": 3
      },
      "file_extension": ".py",
      "mimetype": "text/x-python",
      "name": "python",
      "nbconvert_exporter": "python",
      "pygments_lexer": "ipython3",
      "version": "3.10.1"
    },
    "vscode": {
      "interpreter": {
        "hash": "aee8b7b246df8f9039afb4144a1f6fd8d2ca17a180786b69acc140d282b71a49"
      }
    }
  },
  "nbformat": 4,
  "nbformat_minor": 0
}
