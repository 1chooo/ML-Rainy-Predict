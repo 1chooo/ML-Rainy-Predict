{
  "nbformat": 4,
  "nbformat_minor": 0,
  "metadata": {
    "colab": {
      "provenance": [],
      "include_colab_link": true
    },
    "kernelspec": {
      "name": "python3",
      "display_name": "Python 3"
    },
    "language_info": {
      "name": "python"
    }
  },
  "cells": [
    {
      "cell_type": "markdown",
      "metadata": {
        "id": "view-in-github",
        "colab_type": "text"
      },
      "source": [
        "<a href=\"https://colab.research.google.com/github/1chooo/ML-Rainy-Predict/blob/main/main.ipynb\" target=\"_parent\"><img src=\"https://colab.research.google.com/assets/colab-badge.svg\" alt=\"Open In Colab\"/></a>"
      ]
    },
    {
      "cell_type": "markdown",
      "source": [
        "# **梅雨還是沒雨？**"
      ],
      "metadata": {
        "id": "7lfkZaltMTnv"
      }
    },
    {
      "cell_type": "markdown",
      "source": [
        "安裝套件"
      ],
      "metadata": {
        "id": "4ZRYCWMPLz4d"
      }
    },
    {
      "cell_type": "code",
      "source": [
        "!pip install pandas\n",
        "!pip install numpy\n",
        "!pip install matplotlib\n",
        "!pip install seaborn\n",
        "!pip install joblib\n",
        "!pip install sklearn\n",
        "!pip install flask"
      ],
      "metadata": {
        "colab": {
          "base_uri": "https://localhost:8080/"
        },
        "id": "Hhy-1UXJLy-g",
        "outputId": "7f32988e-d6da-4f5e-fe80-edeb971ec101"
      },
      "execution_count": 1,
      "outputs": [
        {
          "output_type": "stream",
          "name": "stdout",
          "text": [
            "Looking in indexes: https://pypi.org/simple, https://us-python.pkg.dev/colab-wheels/public/simple/\n",
            "Requirement already satisfied: pandas in /usr/local/lib/python3.8/dist-packages (1.3.5)\n",
            "Requirement already satisfied: python-dateutil>=2.7.3 in /usr/local/lib/python3.8/dist-packages (from pandas) (2.8.2)\n",
            "Requirement already satisfied: pytz>=2017.3 in /usr/local/lib/python3.8/dist-packages (from pandas) (2022.7)\n",
            "Requirement already satisfied: numpy>=1.17.3 in /usr/local/lib/python3.8/dist-packages (from pandas) (1.21.6)\n",
            "Requirement already satisfied: six>=1.5 in /usr/local/lib/python3.8/dist-packages (from python-dateutil>=2.7.3->pandas) (1.15.0)\n",
            "Looking in indexes: https://pypi.org/simple, https://us-python.pkg.dev/colab-wheels/public/simple/\n",
            "Requirement already satisfied: numpy in /usr/local/lib/python3.8/dist-packages (1.21.6)\n",
            "Looking in indexes: https://pypi.org/simple, https://us-python.pkg.dev/colab-wheels/public/simple/\n",
            "Requirement already satisfied: matplotlib in /usr/local/lib/python3.8/dist-packages (3.2.2)\n",
            "Requirement already satisfied: kiwisolver>=1.0.1 in /usr/local/lib/python3.8/dist-packages (from matplotlib) (1.4.4)\n",
            "Requirement already satisfied: pyparsing!=2.0.4,!=2.1.2,!=2.1.6,>=2.0.1 in /usr/local/lib/python3.8/dist-packages (from matplotlib) (3.0.9)\n",
            "Requirement already satisfied: numpy>=1.11 in /usr/local/lib/python3.8/dist-packages (from matplotlib) (1.21.6)\n",
            "Requirement already satisfied: python-dateutil>=2.1 in /usr/local/lib/python3.8/dist-packages (from matplotlib) (2.8.2)\n",
            "Requirement already satisfied: cycler>=0.10 in /usr/local/lib/python3.8/dist-packages (from matplotlib) (0.11.0)\n",
            "Requirement already satisfied: six>=1.5 in /usr/local/lib/python3.8/dist-packages (from python-dateutil>=2.1->matplotlib) (1.15.0)\n",
            "Looking in indexes: https://pypi.org/simple, https://us-python.pkg.dev/colab-wheels/public/simple/\n",
            "Requirement already satisfied: seaborn in /usr/local/lib/python3.8/dist-packages (0.11.2)\n",
            "Requirement already satisfied: pandas>=0.23 in /usr/local/lib/python3.8/dist-packages (from seaborn) (1.3.5)\n",
            "Requirement already satisfied: matplotlib>=2.2 in /usr/local/lib/python3.8/dist-packages (from seaborn) (3.2.2)\n",
            "Requirement already satisfied: scipy>=1.0 in /usr/local/lib/python3.8/dist-packages (from seaborn) (1.7.3)\n",
            "Requirement already satisfied: numpy>=1.15 in /usr/local/lib/python3.8/dist-packages (from seaborn) (1.21.6)\n",
            "Requirement already satisfied: pyparsing!=2.0.4,!=2.1.2,!=2.1.6,>=2.0.1 in /usr/local/lib/python3.8/dist-packages (from matplotlib>=2.2->seaborn) (3.0.9)\n",
            "Requirement already satisfied: python-dateutil>=2.1 in /usr/local/lib/python3.8/dist-packages (from matplotlib>=2.2->seaborn) (2.8.2)\n",
            "Requirement already satisfied: kiwisolver>=1.0.1 in /usr/local/lib/python3.8/dist-packages (from matplotlib>=2.2->seaborn) (1.4.4)\n",
            "Requirement already satisfied: cycler>=0.10 in /usr/local/lib/python3.8/dist-packages (from matplotlib>=2.2->seaborn) (0.11.0)\n",
            "Requirement already satisfied: pytz>=2017.3 in /usr/local/lib/python3.8/dist-packages (from pandas>=0.23->seaborn) (2022.7)\n",
            "Requirement already satisfied: six>=1.5 in /usr/local/lib/python3.8/dist-packages (from python-dateutil>=2.1->matplotlib>=2.2->seaborn) (1.15.0)\n",
            "Looking in indexes: https://pypi.org/simple, https://us-python.pkg.dev/colab-wheels/public/simple/\n",
            "Requirement already satisfied: joblib in /usr/local/lib/python3.8/dist-packages (1.2.0)\n",
            "Looking in indexes: https://pypi.org/simple, https://us-python.pkg.dev/colab-wheels/public/simple/\n",
            "Collecting sklearn\n",
            "  Downloading sklearn-0.0.post1.tar.gz (3.6 kB)\n",
            "  Preparing metadata (setup.py) ... \u001b[?25l\u001b[?25hdone\n",
            "Building wheels for collected packages: sklearn\n",
            "  Building wheel for sklearn (setup.py) ... \u001b[?25l\u001b[?25hdone\n",
            "  Created wheel for sklearn: filename=sklearn-0.0.post1-py3-none-any.whl size=2344 sha256=2276b70b4593bd789c5b534500a86c64cd97fb5ff347c3c9e2bf4ebf664374c5\n",
            "  Stored in directory: /root/.cache/pip/wheels/14/25/f7/1cc0956978ae479e75140219088deb7a36f60459df242b1a72\n",
            "Successfully built sklearn\n",
            "Installing collected packages: sklearn\n",
            "Successfully installed sklearn-0.0.post1\n",
            "Looking in indexes: https://pypi.org/simple, https://us-python.pkg.dev/colab-wheels/public/simple/\n",
            "Requirement already satisfied: flask in /usr/local/lib/python3.8/dist-packages (1.1.4)\n",
            "Requirement already satisfied: itsdangerous<2.0,>=0.24 in /usr/local/lib/python3.8/dist-packages (from flask) (1.1.0)\n",
            "Requirement already satisfied: Werkzeug<2.0,>=0.15 in /usr/local/lib/python3.8/dist-packages (from flask) (1.0.1)\n",
            "Requirement already satisfied: click<8.0,>=5.1 in /usr/local/lib/python3.8/dist-packages (from flask) (7.1.2)\n",
            "Requirement already satisfied: Jinja2<3.0,>=2.10.1 in /usr/local/lib/python3.8/dist-packages (from flask) (2.11.3)\n",
            "Requirement already satisfied: MarkupSafe>=0.23 in /usr/local/lib/python3.8/dist-packages (from Jinja2<3.0,>=2.10.1->flask) (2.0.1)\n"
          ]
        }
      ]
    },
    {
      "cell_type": "markdown",
      "source": [
        "Import 套件"
      ],
      "metadata": {
        "id": "gV6_uZo00MtE"
      }
    },
    {
      "cell_type": "code",
      "execution_count": 2,
      "metadata": {
        "id": "iL2BEHyxzzVy"
      },
      "outputs": [],
      "source": [
        "# -*- coding: utf-8 -*-\n",
        "\n",
        "import pandas as pd\n",
        "import numpy as np\n",
        "import matplotlib.pyplot as plt\n",
        "import seaborn as sns\n",
        "import pandas as pd\n",
        "import numpy as np\n",
        "import os\n",
        "import glob\n",
        "from google.colab import drive"
      ]
    },
    {
      "cell_type": "markdown",
      "source": [
        "資料合併"
      ],
      "metadata": {
        "id": "nN4Kwboi-tEF"
      }
    },
    {
      "cell_type": "code",
      "source": [
        "from google.colab import drive\n",
        "drive.mount('/content/drive')"
      ],
      "metadata": {
        "colab": {
          "base_uri": "https://localhost:8080/"
        },
        "id": "NkIDJGHPb5QV",
        "outputId": "e8b52a3e-698c-4246-9e4f-d694700ee48b"
      },
      "execution_count": 29,
      "outputs": [
        {
          "output_type": "stream",
          "name": "stdout",
          "text": [
            "Drive already mounted at /content/drive; to attempt to forcibly remount, call drive.mount(\"/content/drive\", force_remount=True).\n"
          ]
        }
      ]
    },
    {
      "cell_type": "code",
      "source": [
        "data_path = '/content/drive/MyDrive/1102/AI Machine learning/data/20years_data.csv'"
      ],
      "metadata": {
        "id": "HtY1Het9ImY6"
      },
      "execution_count": 30,
      "outputs": []
    },
    {
      "cell_type": "markdown",
      "source": [
        "利用已取得的資料，讀取並存入讀取並存入data frame"
      ],
      "metadata": {
        "id": "3gcqCR3i0KTG"
      }
    },
    {
      "cell_type": "code",
      "source": [
        "df = pd.read_csv(data_path)"
      ],
      "metadata": {
        "id": "728lvtKO0ZUy"
      },
      "execution_count": 31,
      "outputs": []
    },
    {
      "cell_type": "markdown",
      "source": [
        "Explore the data we have."
      ],
      "metadata": {
        "id": "5HQsMVy-03Aq"
      }
    },
    {
      "cell_type": "code",
      "source": [
        "df.info()\n",
        "df.head()\n",
        "df.describe().T"
      ],
      "metadata": {
        "colab": {
          "base_uri": "https://localhost:8080/",
          "height": 841
        },
        "id": "Vz-7yive5YuQ",
        "outputId": "3fe620ac-b0b0-47a2-8441-3dc06879ab38"
      },
      "execution_count": 32,
      "outputs": [
        {
          "output_type": "stream",
          "name": "stdout",
          "text": [
            "<class 'pandas.core.frame.DataFrame'>\n",
            "RangeIndex: 854 entries, 0 to 853\n",
            "Data columns (total 35 columns):\n",
            " #   Column          Non-Null Count  Dtype  \n",
            "---  ------          --------------  -----  \n",
            " 0   ObsTime         854 non-null    int64  \n",
            " 1   StnPres         854 non-null    object \n",
            " 2   SeaPres         854 non-null    object \n",
            " 3   StnPresMax      854 non-null    object \n",
            " 4   StnPresMaxTime  854 non-null    object \n",
            " 5   StnPresMin      854 non-null    object \n",
            " 6   StnPresMinTime  854 non-null    object \n",
            " 7   Temperature     854 non-null    object \n",
            " 8   T Max           854 non-null    object \n",
            " 9   T Max Time      854 non-null    object \n",
            " 10  T Min           854 non-null    object \n",
            " 11  T Min Time      854 non-null    object \n",
            " 12  Td dew point    854 non-null    object \n",
            " 13  RH              854 non-null    object \n",
            " 14  RHMin           854 non-null    object \n",
            " 15  RHMinTime       854 non-null    object \n",
            " 16  WS              854 non-null    object \n",
            " 17  WD              854 non-null    object \n",
            " 18  WSGust          854 non-null    object \n",
            " 19  WDGust          854 non-null    object \n",
            " 20  WGustTime       854 non-null    object \n",
            " 21  Precp           854 non-null    float64\n",
            " 22  PrecpHour       854 non-null    object \n",
            " 23  PrecpMax10      854 non-null    object \n",
            " 24  PrecpMax10Time  854 non-null    object \n",
            " 25  PrecpMax60      854 non-null    object \n",
            " 26  PrecpMax60Time  854 non-null    object \n",
            " 27  SunShine        854 non-null    object \n",
            " 28  SunShineRate    854 non-null    object \n",
            " 29  GloblRad        854 non-null    object \n",
            " 30  VisbMean        854 non-null    object \n",
            " 31  EvapA           854 non-null    object \n",
            " 32  UVI Max         854 non-null    object \n",
            " 33  UVI Max Time    854 non-null    object \n",
            " 34  Cloud Amount    854 non-null    object \n",
            "dtypes: float64(1), int64(1), object(33)\n",
            "memory usage: 233.6+ KB\n"
          ]
        },
        {
          "output_type": "execute_result",
          "data": {
            "text/plain": [
              "         count       mean        std  min  25%   50%   75%    max\n",
              "ObsTime  854.0  15.754098   8.812117  1.0  8.0  16.0  23.0   31.0\n",
              "Precp    854.0   8.038642  21.628585  0.0  0.0   0.0   4.0  312.0"
            ],
            "text/html": [
              "\n",
              "  <div id=\"df-fd5abdef-e3f8-415e-af97-463cabe7963e\">\n",
              "    <div class=\"colab-df-container\">\n",
              "      <div>\n",
              "<style scoped>\n",
              "    .dataframe tbody tr th:only-of-type {\n",
              "        vertical-align: middle;\n",
              "    }\n",
              "\n",
              "    .dataframe tbody tr th {\n",
              "        vertical-align: top;\n",
              "    }\n",
              "\n",
              "    .dataframe thead th {\n",
              "        text-align: right;\n",
              "    }\n",
              "</style>\n",
              "<table border=\"1\" class=\"dataframe\">\n",
              "  <thead>\n",
              "    <tr style=\"text-align: right;\">\n",
              "      <th></th>\n",
              "      <th>count</th>\n",
              "      <th>mean</th>\n",
              "      <th>std</th>\n",
              "      <th>min</th>\n",
              "      <th>25%</th>\n",
              "      <th>50%</th>\n",
              "      <th>75%</th>\n",
              "      <th>max</th>\n",
              "    </tr>\n",
              "  </thead>\n",
              "  <tbody>\n",
              "    <tr>\n",
              "      <th>ObsTime</th>\n",
              "      <td>854.0</td>\n",
              "      <td>15.754098</td>\n",
              "      <td>8.812117</td>\n",
              "      <td>1.0</td>\n",
              "      <td>8.0</td>\n",
              "      <td>16.0</td>\n",
              "      <td>23.0</td>\n",
              "      <td>31.0</td>\n",
              "    </tr>\n",
              "    <tr>\n",
              "      <th>Precp</th>\n",
              "      <td>854.0</td>\n",
              "      <td>8.038642</td>\n",
              "      <td>21.628585</td>\n",
              "      <td>0.0</td>\n",
              "      <td>0.0</td>\n",
              "      <td>0.0</td>\n",
              "      <td>4.0</td>\n",
              "      <td>312.0</td>\n",
              "    </tr>\n",
              "  </tbody>\n",
              "</table>\n",
              "</div>\n",
              "      <button class=\"colab-df-convert\" onclick=\"convertToInteractive('df-fd5abdef-e3f8-415e-af97-463cabe7963e')\"\n",
              "              title=\"Convert this dataframe to an interactive table.\"\n",
              "              style=\"display:none;\">\n",
              "        \n",
              "  <svg xmlns=\"http://www.w3.org/2000/svg\" height=\"24px\"viewBox=\"0 0 24 24\"\n",
              "       width=\"24px\">\n",
              "    <path d=\"M0 0h24v24H0V0z\" fill=\"none\"/>\n",
              "    <path d=\"M18.56 5.44l.94 2.06.94-2.06 2.06-.94-2.06-.94-.94-2.06-.94 2.06-2.06.94zm-11 1L8.5 8.5l.94-2.06 2.06-.94-2.06-.94L8.5 2.5l-.94 2.06-2.06.94zm10 10l.94 2.06.94-2.06 2.06-.94-2.06-.94-.94-2.06-.94 2.06-2.06.94z\"/><path d=\"M17.41 7.96l-1.37-1.37c-.4-.4-.92-.59-1.43-.59-.52 0-1.04.2-1.43.59L10.3 9.45l-7.72 7.72c-.78.78-.78 2.05 0 2.83L4 21.41c.39.39.9.59 1.41.59.51 0 1.02-.2 1.41-.59l7.78-7.78 2.81-2.81c.8-.78.8-2.07 0-2.86zM5.41 20L4 18.59l7.72-7.72 1.47 1.35L5.41 20z\"/>\n",
              "  </svg>\n",
              "      </button>\n",
              "      \n",
              "  <style>\n",
              "    .colab-df-container {\n",
              "      display:flex;\n",
              "      flex-wrap:wrap;\n",
              "      gap: 12px;\n",
              "    }\n",
              "\n",
              "    .colab-df-convert {\n",
              "      background-color: #E8F0FE;\n",
              "      border: none;\n",
              "      border-radius: 50%;\n",
              "      cursor: pointer;\n",
              "      display: none;\n",
              "      fill: #1967D2;\n",
              "      height: 32px;\n",
              "      padding: 0 0 0 0;\n",
              "      width: 32px;\n",
              "    }\n",
              "\n",
              "    .colab-df-convert:hover {\n",
              "      background-color: #E2EBFA;\n",
              "      box-shadow: 0px 1px 2px rgba(60, 64, 67, 0.3), 0px 1px 3px 1px rgba(60, 64, 67, 0.15);\n",
              "      fill: #174EA6;\n",
              "    }\n",
              "\n",
              "    [theme=dark] .colab-df-convert {\n",
              "      background-color: #3B4455;\n",
              "      fill: #D2E3FC;\n",
              "    }\n",
              "\n",
              "    [theme=dark] .colab-df-convert:hover {\n",
              "      background-color: #434B5C;\n",
              "      box-shadow: 0px 1px 3px 1px rgba(0, 0, 0, 0.15);\n",
              "      filter: drop-shadow(0px 1px 2px rgba(0, 0, 0, 0.3));\n",
              "      fill: #FFFFFF;\n",
              "    }\n",
              "  </style>\n",
              "\n",
              "      <script>\n",
              "        const buttonEl =\n",
              "          document.querySelector('#df-fd5abdef-e3f8-415e-af97-463cabe7963e button.colab-df-convert');\n",
              "        buttonEl.style.display =\n",
              "          google.colab.kernel.accessAllowed ? 'block' : 'none';\n",
              "\n",
              "        async function convertToInteractive(key) {\n",
              "          const element = document.querySelector('#df-fd5abdef-e3f8-415e-af97-463cabe7963e');\n",
              "          const dataTable =\n",
              "            await google.colab.kernel.invokeFunction('convertToInteractive',\n",
              "                                                     [key], {});\n",
              "          if (!dataTable) return;\n",
              "\n",
              "          const docLinkHtml = 'Like what you see? Visit the ' +\n",
              "            '<a target=\"_blank\" href=https://colab.research.google.com/notebooks/data_table.ipynb>data table notebook</a>'\n",
              "            + ' to learn more about interactive tables.';\n",
              "          element.innerHTML = '';\n",
              "          dataTable['output_type'] = 'display_data';\n",
              "          await google.colab.output.renderOutput(dataTable, element);\n",
              "          const docLink = document.createElement('div');\n",
              "          docLink.innerHTML = docLinkHtml;\n",
              "          element.appendChild(docLink);\n",
              "        }\n",
              "      </script>\n",
              "    </div>\n",
              "  </div>\n",
              "  "
            ]
          },
          "metadata": {},
          "execution_count": 32
        }
      ]
    },
    {
      "cell_type": "markdown",
      "source": [
        "由上看出有些資料我們並不需要，因此我們加以整理，因此移除我們覺得不需要的變數"
      ],
      "metadata": {
        "id": "f7uh_4h95zgw"
      }
    },
    {
      "cell_type": "markdown",
      "source": [
        "再觀察一下我們的資料"
      ],
      "metadata": {
        "id": "1njUSBiB6MrS"
      }
    },
    {
      "cell_type": "markdown",
      "source": [
        "首先我們看到幾乎所有資料的型態都為object並且都沒有缺失值，因此我們要對此處理，結果發現轉換不了，有些原始資料的缺失值會以「...」的方式補齊，所以我們要先把「...」先替代掉，再把data type轉換成轉換成float。"
      ],
      "metadata": {
        "id": "XhOR_qjo07ya"
      }
    },
    {
      "cell_type": "code",
      "source": [
        "df.drop(['ObsTime', 'SeaPres', 'StnPresMaxTime', 'StnPresMinTime'], axis = 1, inplace = True)\n",
        "df.drop(['T Max Time', 'T Min Time', 'Td dew point'], axis = 1, inplace = True)\n",
        "df.drop(['RHMinTime', 'WGustTime'], axis = 1, inplace = True)\n",
        "df.drop(['PrecpHour', 'PrecpMax10', 'PrecpMax10Time', 'PrecpMax60', 'PrecpMax60Time'], axis = 1, inplace = True)\n",
        "df.drop(['SunShine', 'SunShineRate', 'GloblRad', 'VisbMean'], axis = 1, inplace = True)\n",
        "df.drop(['EvapA', 'UVI Max', 'UVI Max Time', 'Cloud Amount'], axis = 1, inplace = True) \n",
        "df.info()"
      ],
      "metadata": {
        "colab": {
          "base_uri": "https://localhost:8080/"
        },
        "id": "s6CiKZAGDMK7",
        "outputId": "fe75de3f-0316-4f84-f9c7-7b0143a50d94"
      },
      "execution_count": 33,
      "outputs": [
        {
          "output_type": "stream",
          "name": "stdout",
          "text": [
            "<class 'pandas.core.frame.DataFrame'>\n",
            "RangeIndex: 854 entries, 0 to 853\n",
            "Data columns (total 13 columns):\n",
            " #   Column       Non-Null Count  Dtype  \n",
            "---  ------       --------------  -----  \n",
            " 0   StnPres      854 non-null    object \n",
            " 1   StnPresMax   854 non-null    object \n",
            " 2   StnPresMin   854 non-null    object \n",
            " 3   Temperature  854 non-null    object \n",
            " 4   T Max        854 non-null    object \n",
            " 5   T Min        854 non-null    object \n",
            " 6   RH           854 non-null    object \n",
            " 7   RHMin        854 non-null    object \n",
            " 8   WS           854 non-null    object \n",
            " 9   WD           854 non-null    object \n",
            " 10  WSGust       854 non-null    object \n",
            " 11  WDGust       854 non-null    object \n",
            " 12  Precp        854 non-null    float64\n",
            "dtypes: float64(1), object(12)\n",
            "memory usage: 86.9+ KB\n"
          ]
        }
      ]
    },
    {
      "cell_type": "code",
      "source": [
        "df = df.replace('...','-999')\n",
        "df = df.replace('/','-999')\n",
        "\n",
        "\n",
        "for i in range(854):\n",
        "    for j in range(0, 13):\n",
        "        if df.iloc[i, j] == '-999':\n",
        "            df.iloc[i, j] = 0.0\n",
        "\n",
        "# df = pd.DataFrame(df, dtype = np.float)"
      ],
      "metadata": {
        "id": "6dB_Pdhc06VA"
      },
      "execution_count": 34,
      "outputs": []
    },
    {
      "cell_type": "code",
      "source": [
        "df = pd.DataFrame(df, dtype = np.float)"
      ],
      "metadata": {
        "colab": {
          "base_uri": "https://localhost:8080/"
        },
        "id": "nb_u_cJmC5h8",
        "outputId": "9c3283b4-8659-4446-c2a1-5cbb8452fa3b"
      },
      "execution_count": 35,
      "outputs": [
        {
          "output_type": "stream",
          "name": "stderr",
          "text": [
            "<ipython-input-35-3bc58a692a52>:1: DeprecationWarning: `np.float` is a deprecated alias for the builtin `float`. To silence this warning, use `float` by itself. Doing this will not modify any behavior and is safe. If you specifically wanted the numpy scalar type, use `np.float64` here.\n",
            "Deprecated in NumPy 1.20; for more details and guidance: https://numpy.org/devdocs/release/1.20.0-notes.html#deprecations\n",
            "  df = pd.DataFrame(df, dtype = np.float)\n"
          ]
        }
      ]
    },
    {
      "cell_type": "markdown",
      "source": [
        "再觀察一下我們的資料"
      ],
      "metadata": {
        "id": "mzd-GsOs7_y4"
      }
    },
    {
      "cell_type": "code",
      "source": [
        "df.info()"
      ],
      "metadata": {
        "colab": {
          "base_uri": "https://localhost:8080/"
        },
        "id": "B6Dr8cXT7_97",
        "outputId": "948c0b9c-6fec-4f75-fbff-2fe042eed2ae"
      },
      "execution_count": 36,
      "outputs": [
        {
          "output_type": "stream",
          "name": "stdout",
          "text": [
            "<class 'pandas.core.frame.DataFrame'>\n",
            "RangeIndex: 854 entries, 0 to 853\n",
            "Data columns (total 13 columns):\n",
            " #   Column       Non-Null Count  Dtype  \n",
            "---  ------       --------------  -----  \n",
            " 0   StnPres      854 non-null    float64\n",
            " 1   StnPresMax   854 non-null    float64\n",
            " 2   StnPresMin   854 non-null    float64\n",
            " 3   Temperature  854 non-null    float64\n",
            " 4   T Max        854 non-null    float64\n",
            " 5   T Min        854 non-null    float64\n",
            " 6   RH           854 non-null    float64\n",
            " 7   RHMin        854 non-null    float64\n",
            " 8   WS           854 non-null    float64\n",
            " 9   WD           854 non-null    float64\n",
            " 10  WSGust       854 non-null    float64\n",
            " 11  WDGust       854 non-null    float64\n",
            " 12  Precp        854 non-null    float64\n",
            "dtypes: float64(13)\n",
            "memory usage: 86.9 KB\n"
          ]
        }
      ]
    },
    {
      "cell_type": "markdown",
      "source": [
        "我們先處理降雨量，因為有降水及代表有下雨，所以只要大於大於0就轉換為1，反之轉換為0。"
      ],
      "metadata": {
        "id": "beDzyDy_06LS"
      }
    },
    {
      "cell_type": "code",
      "source": [
        "for k in range(854):\n",
        "    if df.iloc[k,12] > 0.0:\n",
        "        df.iloc[k,12] = 1\n",
        "    else:\n",
        "        df.iloc[k,12] = 0"
      ],
      "metadata": {
        "id": "IGnunyhB1Do1"
      },
      "execution_count": 37,
      "outputs": []
    },
    {
      "cell_type": "markdown",
      "source": [
        "有些資料我們打算用平均值來填補，並取到小數點後第一位"
      ],
      "metadata": {
        "id": "B-ryy02n1FVe"
      }
    },
    {
      "cell_type": "code",
      "source": [
        "count0, count1, count2, count3, count4, count5, count8 , count10 = 0, 0, 0, 0 ,0, 0, 0, 0\n",
        "stnprestotal , stnpresmaxtotal , stnpresmintotal, WStotal , WSGusttotal, Ttotal , Tmaxtotal , Tmintotal = 0 , 0 , 0, 0 , 0, 0 , 0 , 0\n",
        "\n",
        "for k in range(0,853):\n",
        "    if (df.iloc[k,0] != -999.0):\n",
        "        stnpres = float(df.iloc[k,0])\n",
        "        count0 += 1\n",
        "        stnprestotal += stnpres\n",
        "    if (df.iloc[k,1] != -999.0):\n",
        "        stnpresmax = float(df.iloc[k,1])\n",
        "        count1 += 1\n",
        "        stnpresmaxtotal += stnpresmax\n",
        "    if (df.iloc[k,2] != -999.0):\n",
        "        stnpresmin = float(df.iloc[k,2])\n",
        "        count2 += 1\n",
        "        stnpresmintotal += stnpresmin\n",
        "    if (df.iloc[k,3] != -999.0):\n",
        "        T = float(df.iloc[k,3])\n",
        "        count3 += 1\n",
        "        Ttotal += T\n",
        "    if (df.iloc[k,4] != -999.0):\n",
        "        Tmax = float(df.iloc[k,4])\n",
        "        count4 += 1\n",
        "        Tmaxtotal += Tmax\n",
        "    if (df.iloc[k,5] != -999.0):\n",
        "        Tmin = float(df.iloc[k,5])\n",
        "        count5 += 1\n",
        "        Tmintotal += Tmin\n",
        "    if (df.iloc[k,8] != -999.0):\n",
        "        WS = float(df.iloc[k,8])\n",
        "        count8 += 1\n",
        "        WStotal += WS\n",
        "    if (df.iloc[k,10] != -999.0):\n",
        "        WSGust = float(df.iloc[k,10])\n",
        "        count10 += 1\n",
        "        WSGusttotal += WSGust\n",
        "\n",
        "ave0 = round(stnprestotal / count0 , 1)\n",
        "ave1 = round(stnpresmaxtotal / count1 , 1)\n",
        "ave2 = round(stnpresmintotal / count2 , 1)\n",
        "ave3 = round(Ttotal / count3 , 1)\n",
        "ave4 = round(Tmaxtotal / count4 , 1)\n",
        "ave5 = round(Tmintotal / count5 , 1)\n",
        "ave8 = round(WStotal / count8 , 1)\n",
        "ave10 = round(WSGusttotal / count10 , 1)\n",
        "\n",
        "for c in range(854):\n",
        "    if df.iloc[c,0] == -999.0:\n",
        "        df.iloc[c,0] = ave0\n",
        "    if df.iloc[c,1] == -999.0:\n",
        "        df.iloc[c,1] = ave1\n",
        "    if df.iloc[c,2] == -999.0:\n",
        "        df.iloc[c,2] = ave2\n",
        "    if df.iloc[c,3] == -999.0:\n",
        "        df.iloc[c,3] = ave3\n",
        "    if df.iloc[c,4] == -999.0:\n",
        "        df.iloc[c,4] = ave4\n",
        "    if df.iloc[c,5] == -999.0:\n",
        "        df.iloc[c,5] = ave5\n",
        "    if df.iloc[c,8] == -999.0:\n",
        "        df.iloc[c,8] = ave8\n",
        "    if df.iloc[c,10] == -999.0:\n",
        "        df.iloc[c,10] = ave10"
      ],
      "metadata": {
        "id": "mtuCyhY71JUk"
      },
      "execution_count": 38,
      "outputs": []
    },
    {
      "cell_type": "markdown",
      "source": [
        "剩下的資料我們以眾數的方式來填補缺失值"
      ],
      "metadata": {
        "id": "i2y2y_141S4n"
      }
    },
    {
      "cell_type": "code",
      "source": [
        "for i in range(854):\n",
        "    if df.iloc[i,6] == -999.0:\n",
        "            df.iloc[i,6] = df['RH'].value_counts().idxmax()\n",
        "\n",
        "for i in range(854):\n",
        "    if df.iloc[i,7] == -999.0:\n",
        "            df.iloc[i,7] = df['RHMin'].value_counts().idxmax()           \n",
        "\n",
        "for i in range(854):\n",
        "    if df.iloc[i,9] == -999.0:\n",
        "            df.iloc[i,9] = df['WD'].value_counts().idxmax()\n",
        "\n",
        "for i in range(854):\n",
        "    if df.iloc[i,11] == -999.0:\n",
        "            df.iloc[i,11] = df['WDGust'].value_counts().idxmax()"
      ],
      "metadata": {
        "id": "Ea0bnBNx1TOB"
      },
      "execution_count": 39,
      "outputs": []
    },
    {
      "cell_type": "markdown",
      "source": [
        "接著我們看看，每個各別資料對雨量的關係圖"
      ],
      "metadata": {
        "id": "DdBrHrOS1Ujs"
      }
    },
    {
      "cell_type": "code",
      "source": [
        "x1 = df['StnPres']\n",
        "x2 = df['StnPresMax']\n",
        "x3 = df['StnPresMin']\n",
        "x4 = df['T Max']\n",
        "x5 = df['T Min']\n",
        "x6 = df['Temperature']\n",
        "x7 = df['RH']\n",
        "x8 = df['RHMin']\n",
        "x9 = df['WS']\n",
        "x10 = df['WD']\n",
        "x11 = df['WSGust']\n",
        "x12 = df['WDGust']\n",
        "y = df['Precp']\n",
        "\n",
        "plt.figure(figsize=(16, 12))\n",
        "\n",
        "plt.subplot(3, 4, 1)\n",
        "plt.scatter(x1,y)\n",
        "plt.subplot(3, 4, 2)\n",
        "plt.scatter(x2,y)\n",
        "plt.subplot(3, 4, 3)\n",
        "plt.scatter(x3,y)\n",
        "plt.subplot(3, 4, 4)\n",
        "plt.scatter(x4,y)\n",
        "plt.subplot(3, 4, 5)\n",
        "plt.scatter(x5,y)\n",
        "plt.subplot(3, 4, 6)\n",
        "plt.scatter(x6,y)\n",
        "plt.subplot(3, 4, 7)\n",
        "plt.scatter(x7,y)\n",
        "plt.subplot(3, 4, 8)\n",
        "plt.scatter(x8,y)\n",
        "plt.subplot(3, 4, 9)\n",
        "plt.scatter(x9,y)\n",
        "plt.subplot(3, 4, 10)\n",
        "plt.scatter(x10,y)\n",
        "plt.subplot(3, 4, 11)\n",
        "plt.scatter(x11,y)\n",
        "plt.subplot(3, 4, 12)\n",
        "plt.scatter(x12,y)\n",
        "\n",
        "plt.show()"
      ],
      "metadata": {
        "id": "IrZpkRQD_YgL",
        "colab": {
          "base_uri": "https://localhost:8080/",
          "height": 680
        },
        "outputId": "2ff6820b-f21a-48f4-ef19-fa93ea8c6065"
      },
      "execution_count": 40,
      "outputs": [
        {
          "output_type": "display_data",
          "data": {
            "text/plain": [
              "<Figure size 1152x864 with 12 Axes>"
            ],
            "image/png": "[encoded data removed]"
          },
          "metadata": {
            "needs_background": "light"
          }
        }
      ]
    },
    {
      "cell_type": "markdown",
      "source": [
        "接著我們看看，每個各別變數之間相關係數"
      ],
      "metadata": {
        "id": "4Upip-X2U851"
      }
    },
    {
      "cell_type": "code",
      "source": [
        "df.corr()"
      ],
      "metadata": {
        "id": "YMzEwDfnU9RV",
        "colab": {
          "base_uri": "https://localhost:8080/",
          "height": 521
        },
        "outputId": "ec0c292b-4fba-4ed5-eca3-d5235ae3651e"
      },
      "execution_count": 41,
      "outputs": [
        {
          "output_type": "execute_result",
          "data": {
            "text/plain": [
              "              StnPres  StnPresMax  StnPresMin  Temperature     T Max  \\\n",
              "StnPres      1.000000    0.240201    0.240289     0.272549  0.168845   \n",
              "StnPresMax   0.240201    1.000000    0.999973     0.056268  0.768712   \n",
              "StnPresMin   0.240289    0.999973    1.000000     0.056728  0.768907   \n",
              "Temperature  0.272549    0.056268    0.056728     1.000000  0.615459   \n",
              "T Max        0.168845    0.768712    0.768907     0.615459  1.000000   \n",
              "T Min        0.153820    0.729879    0.730449     0.563524  0.865799   \n",
              "RH           0.285313    0.074762    0.074363    -0.304349 -0.259750   \n",
              "RHMin        0.132303    0.553902    0.553597    -0.331209  0.089095   \n",
              "WS           0.044859    0.043982    0.042953    -0.110673 -0.046342   \n",
              "WD           0.033314    0.034027    0.033559     0.564645  0.365773   \n",
              "WSGust       0.015842    0.111267    0.110630     0.089133  0.152831   \n",
              "WDGust       0.035912    0.215487    0.215243     0.405178  0.409718   \n",
              "Precp        0.019570   -0.001650   -0.002730    -0.406448 -0.295950   \n",
              "\n",
              "                T Min        RH     RHMin        WS        WD    WSGust  \\\n",
              "StnPres      0.153820  0.285313  0.132303  0.044859  0.033314  0.015842   \n",
              "StnPresMax   0.729879  0.074762  0.553902  0.043982  0.034027  0.111267   \n",
              "StnPresMin   0.730449  0.074363  0.553597  0.042953  0.033559  0.110630   \n",
              "Temperature  0.563524 -0.304349 -0.331209 -0.110673  0.564645  0.089133   \n",
              "T Max        0.865799 -0.259750  0.089095 -0.046342  0.365773  0.152831   \n",
              "T Min        1.000000 -0.043790  0.317525 -0.035807  0.298919  0.146913   \n",
              "RH          -0.043790  1.000000  0.745634 -0.311686 -0.260921 -0.126060   \n",
              "RHMin        0.317525  0.745634  1.000000 -0.133481 -0.233848 -0.090241   \n",
              "WS          -0.035807 -0.311686 -0.133481  1.000000 -0.050616  0.049441   \n",
              "WD           0.298919 -0.260921 -0.233848 -0.050616  1.000000  0.086360   \n",
              "WSGust       0.146913 -0.126060 -0.090241  0.049441  0.086360  1.000000   \n",
              "WDGust       0.379962 -0.187863 -0.066406 -0.077140  0.423635  0.136021   \n",
              "Precp       -0.151575  0.616572  0.445047 -0.093244 -0.252854  0.022690   \n",
              "\n",
              "               WDGust     Precp  \n",
              "StnPres      0.035912  0.019570  \n",
              "StnPresMax   0.215487 -0.001650  \n",
              "StnPresMin   0.215243 -0.002730  \n",
              "Temperature  0.405178 -0.406448  \n",
              "T Max        0.409718 -0.295950  \n",
              "T Min        0.379962 -0.151575  \n",
              "RH          -0.187863  0.616572  \n",
              "RHMin       -0.066406  0.445047  \n",
              "WS          -0.077140 -0.093244  \n",
              "WD           0.423635 -0.252854  \n",
              "WSGust       0.136021  0.022690  \n",
              "WDGust       1.000000 -0.208240  \n",
              "Precp       -0.208240  1.000000  "
            ],
            "text/html": [
              "\n",
              "  <div id=\"df-8e940a78-5bdf-43e5-8246-6adabf22f87d\">\n",
              "    <div class=\"colab-df-container\">\n",
              "      <div>\n",
              "<style scoped>\n",
              "    .dataframe tbody tr th:only-of-type {\n",
              "        vertical-align: middle;\n",
              "    }\n",
              "\n",
              "    .dataframe tbody tr th {\n",
              "        vertical-align: top;\n",
              "    }\n",
              "\n",
              "    .dataframe thead th {\n",
              "        text-align: right;\n",
              "    }\n",
              "</style>\n",
              "<table border=\"1\" class=\"dataframe\">\n",
              "  <thead>\n",
              "    <tr style=\"text-align: right;\">\n",
              "      <th></th>\n",
              "      <th>StnPres</th>\n",
              "      <th>StnPresMax</th>\n",
              "      <th>StnPresMin</th>\n",
              "      <th>Temperature</th>\n",
              "      <th>T Max</th>\n",
              "      <th>T Min</th>\n",
              "      <th>RH</th>\n",
              "      <th>RHMin</th>\n",
              "      <th>WS</th>\n",
              "      <th>WD</th>\n",
              "      <th>WSGust</th>\n",
              "      <th>WDGust</th>\n",
              "      <th>Precp</th>\n",
              "    </tr>\n",
              "  </thead>\n",
              "  <tbody>\n",
              "    <tr>\n",
              "      <th>StnPres</th>\n",
              "      <td>1.000000</td>\n",
              "      <td>0.240201</td>\n",
              "      <td>0.240289</td>\n",
              "      <td>0.272549</td>\n",
              "      <td>0.168845</td>\n",
              "      <td>0.153820</td>\n",
              "      <td>0.285313</td>\n",
              "      <td>0.132303</td>\n",
              "      <td>0.044859</td>\n",
              "      <td>0.033314</td>\n",
              "      <td>0.015842</td>\n",
              "      <td>0.035912</td>\n",
              "      <td>0.019570</td>\n",
              "    </tr>\n",
              "    <tr>\n",
              "      <th>StnPresMax</th>\n",
              "      <td>0.240201</td>\n",
              "      <td>1.000000</td>\n",
              "      <td>0.999973</td>\n",
              "      <td>0.056268</td>\n",
              "      <td>0.768712</td>\n",
              "      <td>0.729879</td>\n",
              "      <td>0.074762</td>\n",
              "      <td>0.553902</td>\n",
              "      <td>0.043982</td>\n",
              "      <td>0.034027</td>\n",
              "      <td>0.111267</td>\n",
              "      <td>0.215487</td>\n",
              "      <td>-0.001650</td>\n",
              "    </tr>\n",
              "    <tr>\n",
              "      <th>StnPresMin</th>\n",
              "      <td>0.240289</td>\n",
              "      <td>0.999973</td>\n",
              "      <td>1.000000</td>\n",
              "      <td>0.056728</td>\n",
              "      <td>0.768907</td>\n",
              "      <td>0.730449</td>\n",
              "      <td>0.074363</td>\n",
              "      <td>0.553597</td>\n",
              "      <td>0.042953</td>\n",
              "      <td>0.033559</td>\n",
              "      <td>0.110630</td>\n",
              "      <td>0.215243</td>\n",
              "      <td>-0.002730</td>\n",
              "    </tr>\n",
              "    <tr>\n",
              "      <th>Temperature</th>\n",
              "      <td>0.272549</td>\n",
              "      <td>0.056268</td>\n",
              "      <td>0.056728</td>\n",
              "      <td>1.000000</td>\n",
              "      <td>0.615459</td>\n",
              "      <td>0.563524</td>\n",
              "      <td>-0.304349</td>\n",
              "      <td>-0.331209</td>\n",
              "      <td>-0.110673</td>\n",
              "      <td>0.564645</td>\n",
              "      <td>0.089133</td>\n",
              "      <td>0.405178</td>\n",
              "      <td>-0.406448</td>\n",
              "    </tr>\n",
              "    <tr>\n",
              "      <th>T Max</th>\n",
              "      <td>0.168845</td>\n",
              "      <td>0.768712</td>\n",
              "      <td>0.768907</td>\n",
              "      <td>0.615459</td>\n",
              "      <td>1.000000</td>\n",
              "      <td>0.865799</td>\n",
              "      <td>-0.259750</td>\n",
              "      <td>0.089095</td>\n",
              "      <td>-0.046342</td>\n",
              "      <td>0.365773</td>\n",
              "      <td>0.152831</td>\n",
              "      <td>0.409718</td>\n",
              "      <td>-0.295950</td>\n",
              "    </tr>\n",
              "    <tr>\n",
              "      <th>T Min</th>\n",
              "      <td>0.153820</td>\n",
              "      <td>0.729879</td>\n",
              "      <td>0.730449</td>\n",
              "      <td>0.563524</td>\n",
              "      <td>0.865799</td>\n",
              "      <td>1.000000</td>\n",
              "      <td>-0.043790</td>\n",
              "      <td>0.317525</td>\n",
              "      <td>-0.035807</td>\n",
              "      <td>0.298919</td>\n",
              "      <td>0.146913</td>\n",
              "      <td>0.379962</td>\n",
              "      <td>-0.151575</td>\n",
              "    </tr>\n",
              "    <tr>\n",
              "      <th>RH</th>\n",
              "      <td>0.285313</td>\n",
              "      <td>0.074762</td>\n",
              "      <td>0.074363</td>\n",
              "      <td>-0.304349</td>\n",
              "      <td>-0.259750</td>\n",
              "      <td>-0.043790</td>\n",
              "      <td>1.000000</td>\n",
              "      <td>0.745634</td>\n",
              "      <td>-0.311686</td>\n",
              "      <td>-0.260921</td>\n",
              "      <td>-0.126060</td>\n",
              "      <td>-0.187863</td>\n",
              "      <td>0.616572</td>\n",
              "    </tr>\n",
              "    <tr>\n",
              "      <th>RHMin</th>\n",
              "      <td>0.132303</td>\n",
              "      <td>0.553902</td>\n",
              "      <td>0.553597</td>\n",
              "      <td>-0.331209</td>\n",
              "      <td>0.089095</td>\n",
              "      <td>0.317525</td>\n",
              "      <td>0.745634</td>\n",
              "      <td>1.000000</td>\n",
              "      <td>-0.133481</td>\n",
              "      <td>-0.233848</td>\n",
              "      <td>-0.090241</td>\n",
              "      <td>-0.066406</td>\n",
              "      <td>0.445047</td>\n",
              "    </tr>\n",
              "    <tr>\n",
              "      <th>WS</th>\n",
              "      <td>0.044859</td>\n",
              "      <td>0.043982</td>\n",
              "      <td>0.042953</td>\n",
              "      <td>-0.110673</td>\n",
              "      <td>-0.046342</td>\n",
              "      <td>-0.035807</td>\n",
              "      <td>-0.311686</td>\n",
              "      <td>-0.133481</td>\n",
              "      <td>1.000000</td>\n",
              "      <td>-0.050616</td>\n",
              "      <td>0.049441</td>\n",
              "      <td>-0.077140</td>\n",
              "      <td>-0.093244</td>\n",
              "    </tr>\n",
              "    <tr>\n",
              "      <th>WD</th>\n",
              "      <td>0.033314</td>\n",
              "      <td>0.034027</td>\n",
              "      <td>0.033559</td>\n",
              "      <td>0.564645</td>\n",
              "      <td>0.365773</td>\n",
              "      <td>0.298919</td>\n",
              "      <td>-0.260921</td>\n",
              "      <td>-0.233848</td>\n",
              "      <td>-0.050616</td>\n",
              "      <td>1.000000</td>\n",
              "      <td>0.086360</td>\n",
              "      <td>0.423635</td>\n",
              "      <td>-0.252854</td>\n",
              "    </tr>\n",
              "    <tr>\n",
              "      <th>WSGust</th>\n",
              "      <td>0.015842</td>\n",
              "      <td>0.111267</td>\n",
              "      <td>0.110630</td>\n",
              "      <td>0.089133</td>\n",
              "      <td>0.152831</td>\n",
              "      <td>0.146913</td>\n",
              "      <td>-0.126060</td>\n",
              "      <td>-0.090241</td>\n",
              "      <td>0.049441</td>\n",
              "      <td>0.086360</td>\n",
              "      <td>1.000000</td>\n",
              "      <td>0.136021</td>\n",
              "      <td>0.022690</td>\n",
              "    </tr>\n",
              "    <tr>\n",
              "      <th>WDGust</th>\n",
              "      <td>0.035912</td>\n",
              "      <td>0.215487</td>\n",
              "      <td>0.215243</td>\n",
              "      <td>0.405178</td>\n",
              "      <td>0.409718</td>\n",
              "      <td>0.379962</td>\n",
              "      <td>-0.187863</td>\n",
              "      <td>-0.066406</td>\n",
              "      <td>-0.077140</td>\n",
              "      <td>0.423635</td>\n",
              "      <td>0.136021</td>\n",
              "      <td>1.000000</td>\n",
              "      <td>-0.208240</td>\n",
              "    </tr>\n",
              "    <tr>\n",
              "      <th>Precp</th>\n",
              "      <td>0.019570</td>\n",
              "      <td>-0.001650</td>\n",
              "      <td>-0.002730</td>\n",
              "      <td>-0.406448</td>\n",
              "      <td>-0.295950</td>\n",
              "      <td>-0.151575</td>\n",
              "      <td>0.616572</td>\n",
              "      <td>0.445047</td>\n",
              "      <td>-0.093244</td>\n",
              "      <td>-0.252854</td>\n",
              "      <td>0.022690</td>\n",
              "      <td>-0.208240</td>\n",
              "      <td>1.000000</td>\n",
              "    </tr>\n",
              "  </tbody>\n",
              "</table>\n",
              "</div>\n",
              "      <button class=\"colab-df-convert\" onclick=\"convertToInteractive('df-8e940a78-5bdf-43e5-8246-6adabf22f87d')\"\n",
              "              title=\"Convert this dataframe to an interactive table.\"\n",
              "              style=\"display:none;\">\n",
              "        \n",
              "  <svg xmlns=\"http://www.w3.org/2000/svg\" height=\"24px\"viewBox=\"0 0 24 24\"\n",
              "       width=\"24px\">\n",
              "    <path d=\"M0 0h24v24H0V0z\" fill=\"none\"/>\n",
              "    <path d=\"M18.56 5.44l.94 2.06.94-2.06 2.06-.94-2.06-.94-.94-2.06-.94 2.06-2.06.94zm-11 1L8.5 8.5l.94-2.06 2.06-.94-2.06-.94L8.5 2.5l-.94 2.06-2.06.94zm10 10l.94 2.06.94-2.06 2.06-.94-2.06-.94-.94-2.06-.94 2.06-2.06.94z\"/><path d=\"M17.41 7.96l-1.37-1.37c-.4-.4-.92-.59-1.43-.59-.52 0-1.04.2-1.43.59L10.3 9.45l-7.72 7.72c-.78.78-.78 2.05 0 2.83L4 21.41c.39.39.9.59 1.41.59.51 0 1.02-.2 1.41-.59l7.78-7.78 2.81-2.81c.8-.78.8-2.07 0-2.86zM5.41 20L4 18.59l7.72-7.72 1.47 1.35L5.41 20z\"/>\n",
              "  </svg>\n",
              "      </button>\n",
              "      \n",
              "  <style>\n",
              "    .colab-df-container {\n",
              "      display:flex;\n",
              "      flex-wrap:wrap;\n",
              "      gap: 12px;\n",
              "    }\n",
              "\n",
              "    .colab-df-convert {\n",
              "      background-color: #E8F0FE;\n",
              "      border: none;\n",
              "      border-radius: 50%;\n",
              "      cursor: pointer;\n",
              "      display: none;\n",
              "      fill: #1967D2;\n",
              "      height: 32px;\n",
              "      padding: 0 0 0 0;\n",
              "      width: 32px;\n",
              "    }\n",
              "\n",
              "    .colab-df-convert:hover {\n",
              "      background-color: #E2EBFA;\n",
              "      box-shadow: 0px 1px 2px rgba(60, 64, 67, 0.3), 0px 1px 3px 1px rgba(60, 64, 67, 0.15);\n",
              "      fill: #174EA6;\n",
              "    }\n",
              "\n",
              "    [theme=dark] .colab-df-convert {\n",
              "      background-color: #3B4455;\n",
              "      fill: #D2E3FC;\n",
              "    }\n",
              "\n",
              "    [theme=dark] .colab-df-convert:hover {\n",
              "      background-color: #434B5C;\n",
              "      box-shadow: 0px 1px 3px 1px rgba(0, 0, 0, 0.15);\n",
              "      filter: drop-shadow(0px 1px 2px rgba(0, 0, 0, 0.3));\n",
              "      fill: #FFFFFF;\n",
              "    }\n",
              "  </style>\n",
              "\n",
              "      <script>\n",
              "        const buttonEl =\n",
              "          document.querySelector('#df-8e940a78-5bdf-43e5-8246-6adabf22f87d button.colab-df-convert');\n",
              "        buttonEl.style.display =\n",
              "          google.colab.kernel.accessAllowed ? 'block' : 'none';\n",
              "\n",
              "        async function convertToInteractive(key) {\n",
              "          const element = document.querySelector('#df-8e940a78-5bdf-43e5-8246-6adabf22f87d');\n",
              "          const dataTable =\n",
              "            await google.colab.kernel.invokeFunction('convertToInteractive',\n",
              "                                                     [key], {});\n",
              "          if (!dataTable) return;\n",
              "\n",
              "          const docLinkHtml = 'Like what you see? Visit the ' +\n",
              "            '<a target=\"_blank\" href=https://colab.research.google.com/notebooks/data_table.ipynb>data table notebook</a>'\n",
              "            + ' to learn more about interactive tables.';\n",
              "          element.innerHTML = '';\n",
              "          dataTable['output_type'] = 'display_data';\n",
              "          await google.colab.output.renderOutput(dataTable, element);\n",
              "          const docLink = document.createElement('div');\n",
              "          docLink.innerHTML = docLinkHtml;\n",
              "          element.appendChild(docLink);\n",
              "        }\n",
              "      </script>\n",
              "    </div>\n",
              "  </div>\n",
              "  "
            ]
          },
          "metadata": {},
          "execution_count": 41
        }
      ]
    },
    {
      "cell_type": "markdown",
      "source": [
        "我們接著再把所有資料都餵給模型，來觀察模型辨識程度"
      ],
      "metadata": {
        "id": "sp476FjdHfIC"
      }
    },
    {
      "cell_type": "code",
      "source": [
        "X = df.drop(['Precp'], axis=1)\n",
        "y = df['Precp']\n",
        "\n",
        "from sklearn.model_selection import train_test_split\n",
        "from sklearn.linear_model import LogisticRegression\n",
        "from sklearn.metrics import confusion_matrix, accuracy_score, precision_score, recall_score\n",
        "\n",
        "X_train,X_test, y_train,y_test = train_test_split(X, y, test_size=0.3, random_state=67)\n",
        "lr = LogisticRegression(max_iter=200)\n",
        "lr.fit(X_train, y_train)\n",
        "predictions = lr.predict(X_test)\n",
        "accuracy_score(y_test, predictions)\n",
        "recall_score(y_test, predictions)\n",
        "precision_score(y_test, predictions)"
      ],
      "metadata": {
        "id": "BJzSkD0I_KFq",
        "colab": {
          "base_uri": "https://localhost:8080/"
        },
        "outputId": "2a0dce47-2098-4542-c09e-f40da2f61bc4"
      },
      "execution_count": 42,
      "outputs": [
        {
          "output_type": "stream",
          "name": "stderr",
          "text": [
            "/usr/local/lib/python3.8/dist-packages/sklearn/linear_model/_logistic.py:814: ConvergenceWarning: lbfgs failed to converge (status=1):\n",
            "STOP: TOTAL NO. of ITERATIONS REACHED LIMIT.\n",
            "\n",
            "Increase the number of iterations (max_iter) or scale the data as shown in:\n",
            "    https://scikit-learn.org/stable/modules/preprocessing.html\n",
            "Please also refer to the documentation for alternative solver options:\n",
            "    https://scikit-learn.org/stable/modules/linear_model.html#logistic-regression\n",
            "  n_iter_i = _check_optimize_result(\n"
          ]
        },
        {
          "output_type": "execute_result",
          "data": {
            "text/plain": [
              "0.7738095238095238"
            ]
          },
          "metadata": {},
          "execution_count": 42
        }
      ]
    },
    {
      "cell_type": "markdown",
      "source": [
        "經過多次交叉測試後，發現什麼都沒有刪除，分數會最高"
      ],
      "metadata": {
        "id": "f-OJt4B2HMOT"
      }
    },
    {
      "cell_type": "code",
      "source": [
        "X = df.drop(['Precp'], axis=1)\n",
        "y = df['Precp']\n",
        "X_train,X_test, y_train,y_test = train_test_split(X, y, test_size=0.3, random_state=67)\n",
        "lr = LogisticRegression(max_iter=200)\n",
        "lr.fit(X_train, y_train)\n",
        "predictions = lr.predict(X_test)\n",
        "accuracy_score(y_test, predictions)\n",
        "recall_score(y_test, predictions)\n",
        "precision_score(y_test, predictions)"
      ],
      "metadata": {
        "id": "M5iU2pIZ1U4X",
        "colab": {
          "base_uri": "https://localhost:8080/"
        },
        "outputId": "6a0820a7-f272-4ab8-aa46-a174b68b27a2"
      },
      "execution_count": 43,
      "outputs": [
        {
          "output_type": "stream",
          "name": "stderr",
          "text": [
            "/usr/local/lib/python3.8/dist-packages/sklearn/linear_model/_logistic.py:814: ConvergenceWarning: lbfgs failed to converge (status=1):\n",
            "STOP: TOTAL NO. of ITERATIONS REACHED LIMIT.\n",
            "\n",
            "Increase the number of iterations (max_iter) or scale the data as shown in:\n",
            "    https://scikit-learn.org/stable/modules/preprocessing.html\n",
            "Please also refer to the documentation for alternative solver options:\n",
            "    https://scikit-learn.org/stable/modules/linear_model.html#logistic-regression\n",
            "  n_iter_i = _check_optimize_result(\n"
          ]
        },
        {
          "output_type": "execute_result",
          "data": {
            "text/plain": [
              "0.7738095238095238"
            ]
          },
          "metadata": {},
          "execution_count": 43
        }
      ]
    },
    {
      "cell_type": "markdown",
      "source": [
        "接著我們圖表化看出模型的矩陣關係\n"
      ],
      "metadata": {
        "id": "uXpL2iXWK6Eg"
      }
    },
    {
      "cell_type": "code",
      "source": [
        "pd.DataFrame(confusion_matrix(y_test, predictions), columns = ['Predict not rain','Predict rain'], index=['True not rain', 'True rain'])"
      ],
      "metadata": {
        "colab": {
          "base_uri": "https://localhost:8080/",
          "height": 112
        },
        "id": "55v2Cb-gK6TJ",
        "outputId": "673a91a9-13a3-4fba-ba08-4ce2709df6d6"
      },
      "execution_count": 44,
      "outputs": [
        {
          "output_type": "execute_result",
          "data": {
            "text/plain": [
              "               Predict not rain  Predict rain\n",
              "True not rain               149            19\n",
              "True rain                    24            65"
            ],
            "text/html": [
              "\n",
              "  <div id=\"df-c3c7d450-7088-4714-a279-04099756181e\">\n",
              "    <div class=\"colab-df-container\">\n",
              "      <div>\n",
              "<style scoped>\n",
              "    .dataframe tbody tr th:only-of-type {\n",
              "        vertical-align: middle;\n",
              "    }\n",
              "\n",
              "    .dataframe tbody tr th {\n",
              "        vertical-align: top;\n",
              "    }\n",
              "\n",
              "    .dataframe thead th {\n",
              "        text-align: right;\n",
              "    }\n",
              "</style>\n",
              "<table border=\"1\" class=\"dataframe\">\n",
              "  <thead>\n",
              "    <tr style=\"text-align: right;\">\n",
              "      <th></th>\n",
              "      <th>Predict not rain</th>\n",
              "      <th>Predict rain</th>\n",
              "    </tr>\n",
              "  </thead>\n",
              "  <tbody>\n",
              "    <tr>\n",
              "      <th>True not rain</th>\n",
              "      <td>149</td>\n",
              "      <td>19</td>\n",
              "    </tr>\n",
              "    <tr>\n",
              "      <th>True rain</th>\n",
              "      <td>24</td>\n",
              "      <td>65</td>\n",
              "    </tr>\n",
              "  </tbody>\n",
              "</table>\n",
              "</div>\n",
              "      <button class=\"colab-df-convert\" onclick=\"convertToInteractive('df-c3c7d450-7088-4714-a279-04099756181e')\"\n",
              "              title=\"Convert this dataframe to an interactive table.\"\n",
              "              style=\"display:none;\">\n",
              "        \n",
              "  <svg xmlns=\"http://www.w3.org/2000/svg\" height=\"24px\"viewBox=\"0 0 24 24\"\n",
              "       width=\"24px\">\n",
              "    <path d=\"M0 0h24v24H0V0z\" fill=\"none\"/>\n",
              "    <path d=\"M18.56 5.44l.94 2.06.94-2.06 2.06-.94-2.06-.94-.94-2.06-.94 2.06-2.06.94zm-11 1L8.5 8.5l.94-2.06 2.06-.94-2.06-.94L8.5 2.5l-.94 2.06-2.06.94zm10 10l.94 2.06.94-2.06 2.06-.94-2.06-.94-.94-2.06-.94 2.06-2.06.94z\"/><path d=\"M17.41 7.96l-1.37-1.37c-.4-.4-.92-.59-1.43-.59-.52 0-1.04.2-1.43.59L10.3 9.45l-7.72 7.72c-.78.78-.78 2.05 0 2.83L4 21.41c.39.39.9.59 1.41.59.51 0 1.02-.2 1.41-.59l7.78-7.78 2.81-2.81c.8-.78.8-2.07 0-2.86zM5.41 20L4 18.59l7.72-7.72 1.47 1.35L5.41 20z\"/>\n",
              "  </svg>\n",
              "      </button>\n",
              "      \n",
              "  <style>\n",
              "    .colab-df-container {\n",
              "      display:flex;\n",
              "      flex-wrap:wrap;\n",
              "      gap: 12px;\n",
              "    }\n",
              "\n",
              "    .colab-df-convert {\n",
              "      background-color: #E8F0FE;\n",
              "      border: none;\n",
              "      border-radius: 50%;\n",
              "      cursor: pointer;\n",
              "      display: none;\n",
              "      fill: #1967D2;\n",
              "      height: 32px;\n",
              "      padding: 0 0 0 0;\n",
              "      width: 32px;\n",
              "    }\n",
              "\n",
              "    .colab-df-convert:hover {\n",
              "      background-color: #E2EBFA;\n",
              "      box-shadow: 0px 1px 2px rgba(60, 64, 67, 0.3), 0px 1px 3px 1px rgba(60, 64, 67, 0.15);\n",
              "      fill: #174EA6;\n",
              "    }\n",
              "\n",
              "    [theme=dark] .colab-df-convert {\n",
              "      background-color: #3B4455;\n",
              "      fill: #D2E3FC;\n",
              "    }\n",
              "\n",
              "    [theme=dark] .colab-df-convert:hover {\n",
              "      background-color: #434B5C;\n",
              "      box-shadow: 0px 1px 3px 1px rgba(0, 0, 0, 0.15);\n",
              "      filter: drop-shadow(0px 1px 2px rgba(0, 0, 0, 0.3));\n",
              "      fill: #FFFFFF;\n",
              "    }\n",
              "  </style>\n",
              "\n",
              "      <script>\n",
              "        const buttonEl =\n",
              "          document.querySelector('#df-c3c7d450-7088-4714-a279-04099756181e button.colab-df-convert');\n",
              "        buttonEl.style.display =\n",
              "          google.colab.kernel.accessAllowed ? 'block' : 'none';\n",
              "\n",
              "        async function convertToInteractive(key) {\n",
              "          const element = document.querySelector('#df-c3c7d450-7088-4714-a279-04099756181e');\n",
              "          const dataTable =\n",
              "            await google.colab.kernel.invokeFunction('convertToInteractive',\n",
              "                                                     [key], {});\n",
              "          if (!dataTable) return;\n",
              "\n",
              "          const docLinkHtml = 'Like what you see? Visit the ' +\n",
              "            '<a target=\"_blank\" href=https://colab.research.google.com/notebooks/data_table.ipynb>data table notebook</a>'\n",
              "            + ' to learn more about interactive tables.';\n",
              "          element.innerHTML = '';\n",
              "          dataTable['output_type'] = 'display_data';\n",
              "          await google.colab.output.renderOutput(dataTable, element);\n",
              "          const docLink = document.createElement('div');\n",
              "          docLink.innerHTML = docLinkHtml;\n",
              "          element.appendChild(docLink);\n",
              "        }\n",
              "      </script>\n",
              "    </div>\n",
              "  </div>\n",
              "  "
            ]
          },
          "metadata": {},
          "execution_count": 44
        }
      ]
    },
    {
      "cell_type": "markdown",
      "source": [
        "最後我們測試模型的辨認是否順利，然後有發現到測出來的型態為[1.]、[0.]"
      ],
      "metadata": {
        "id": "dDcLSPLSIXue"
      }
    },
    {
      "cell_type": "code",
      "source": [
        "print(lr.predict([[900, 1000, 850, 23, 27, 18, 34, 12, 1, 23, 2, 45]]))\n",
        "print(lr.predict([[900, 860, 950 , 26, 31, 20, 70 , 50 , 3 , 20 , 6 , 25 ]]))"
      ],
      "metadata": {
        "id": "fLGg2lSM1Yq5",
        "colab": {
          "base_uri": "https://localhost:8080/"
        },
        "outputId": "7979d6c7-b23d-4da8-ed16-76ab268f87cd"
      },
      "execution_count": 45,
      "outputs": [
        {
          "output_type": "stream",
          "name": "stdout",
          "text": [
            "[1.]\n",
            "[0.]\n"
          ]
        },
        {
          "output_type": "stream",
          "name": "stderr",
          "text": [
            "/usr/local/lib/python3.8/dist-packages/sklearn/base.py:450: UserWarning: X does not have valid feature names, but LogisticRegression was fitted with feature names\n",
            "  warnings.warn(\n",
            "/usr/local/lib/python3.8/dist-packages/sklearn/base.py:450: UserWarning: X does not have valid feature names, but LogisticRegression was fitted with feature names\n",
            "  warnings.warn(\n"
          ]
        }
      ]
    },
    {
      "cell_type": "markdown",
      "source": [],
      "metadata": {
        "id": "mKC6j3lrpeA7"
      }
    },
    {
      "cell_type": "markdown",
      "source": [
        "利用joblib模組將模型匯出"
      ],
      "metadata": {
        "id": "3CkUp7B21d_d"
      }
    },
    {
      "cell_type": "code",
      "source": [
        "import joblib\n",
        "joblib.dump(lr,'Precipitation_Predict.pkl',compress=3)"
      ],
      "metadata": {
        "id": "u5k-liWl1eU_",
        "colab": {
          "base_uri": "https://localhost:8080/"
        },
        "outputId": "0ecee0d8-e7eb-4070-cd02-3264b50e38eb"
      },
      "execution_count": 46,
      "outputs": [
        {
          "output_type": "execute_result",
          "data": {
            "text/plain": [
              "['Precipitation_Predict.pkl']"
            ]
          },
          "metadata": {},
          "execution_count": 46
        }
      ]
    },
    {
      "cell_type": "code",
      "source": [],
      "metadata": {
        "id": "9qDCz8xFopty"
      },
      "execution_count": null,
      "outputs": []
    }
  ]
}